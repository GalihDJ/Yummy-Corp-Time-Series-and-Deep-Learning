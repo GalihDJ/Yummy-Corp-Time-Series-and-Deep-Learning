{
  "nbformat": 4,
  "nbformat_minor": 0,
  "metadata": {
    "colab": {
      "name": "Naive Forcast.ipynb",
      "provenance": [],
      "collapsed_sections": []
    },
    "kernelspec": {
      "name": "python3",
      "display_name": "Python 3"
    },
    "language_info": {
      "name": "python"
    }
  },
  "cells": [
    {
      "cell_type": "code",
      "execution_count": 1,
      "metadata": {
        "id": "CSJwyNZhfMtw"
      },
      "outputs": [],
      "source": [
        "import numpy as np\n",
        "import pandas as pd"
      ]
    },
    {
      "cell_type": "code",
      "source": [
        "!pip install -U scikit-learn"
      ],
      "metadata": {
        "colab": {
          "base_uri": "https://localhost:8080/"
        },
        "id": "77sfsYnlfQXc",
        "outputId": "0028e43f-2d02-46ce-a2e9-43bcfda962ce"
      },
      "execution_count": 2,
      "outputs": [
        {
          "output_type": "stream",
          "name": "stdout",
          "text": [
            "Requirement already satisfied: scikit-learn in /usr/local/lib/python3.7/dist-packages (1.0.1)\n",
            "Collecting scikit-learn\n",
            "  Downloading scikit_learn-1.0.2-cp37-cp37m-manylinux_2_17_x86_64.manylinux2014_x86_64.whl (24.8 MB)\n",
            "\u001b[K     |████████████████████████████████| 24.8 MB 2.0 MB/s \n",
            "\u001b[?25hRequirement already satisfied: threadpoolctl>=2.0.0 in /usr/local/lib/python3.7/dist-packages (from scikit-learn) (3.0.0)\n",
            "Requirement already satisfied: numpy>=1.14.6 in /usr/local/lib/python3.7/dist-packages (from scikit-learn) (1.19.5)\n",
            "Requirement already satisfied: scipy>=1.1.0 in /usr/local/lib/python3.7/dist-packages (from scikit-learn) (1.4.1)\n",
            "Requirement already satisfied: joblib>=0.11 in /usr/local/lib/python3.7/dist-packages (from scikit-learn) (1.1.0)\n",
            "Installing collected packages: scikit-learn\n",
            "  Attempting uninstall: scikit-learn\n",
            "    Found existing installation: scikit-learn 1.0.1\n",
            "    Uninstalling scikit-learn-1.0.1:\n",
            "      Successfully uninstalled scikit-learn-1.0.1\n",
            "Successfully installed scikit-learn-1.0.2\n"
          ]
        }
      ]
    },
    {
      "cell_type": "code",
      "source": [
        "from sklearn.metrics import mean_absolute_percentage_error, mean_absolute_error, r2_score, mean_squared_error"
      ],
      "metadata": {
        "id": "ePfEHsBPfYPh"
      },
      "execution_count": 3,
      "outputs": []
    },
    {
      "cell_type": "code",
      "source": [
        "!wget -nc https://lazyprogrammer.me/course_files/SPY.csv"
      ],
      "metadata": {
        "colab": {
          "base_uri": "https://localhost:8080/"
        },
        "id": "bjbEK3l3fkqt",
        "outputId": "d1e1b488-cfe2-4ae5-d295-d8396efc1511"
      },
      "execution_count": 4,
      "outputs": [
        {
          "output_type": "stream",
          "name": "stdout",
          "text": [
            "--2022-01-05 05:59:05--  https://lazyprogrammer.me/course_files/SPY.csv\n",
            "Resolving lazyprogrammer.me (lazyprogrammer.me)... 104.21.23.210, 172.67.213.166, 2606:4700:3030::ac43:d5a6, ...\n",
            "Connecting to lazyprogrammer.me (lazyprogrammer.me)|104.21.23.210|:443... connected.\n",
            "HTTP request sent, awaiting response... 200 OK\n",
            "Length: 251935 (246K) [text/csv]\n",
            "Saving to: ‘SPY.csv’\n",
            "\n",
            "SPY.csv             100%[===================>] 246.03K  1.29MB/s    in 0.2s    \n",
            "\n",
            "2022-01-05 05:59:06 (1.29 MB/s) - ‘SPY.csv’ saved [251935/251935]\n",
            "\n"
          ]
        }
      ]
    },
    {
      "cell_type": "code",
      "source": [
        "df = pd.read_csv('SPY.csv', index_col=\"Date\", parse_dates=True)\n",
        "df.head()"
      ],
      "metadata": {
        "colab": {
          "base_uri": "https://localhost:8080/",
          "height": 238
        },
        "id": "0-ginKt-f1iY",
        "outputId": "5753795e-2406-4f2d-e6c2-f4f8712e0841"
      },
      "execution_count": 5,
      "outputs": [
        {
          "output_type": "execute_result",
          "data": {
            "text/html": [
              "\n",
              "  <div id=\"df-9fca0281-d632-408e-a44a-3a03fc7313dd\">\n",
              "    <div class=\"colab-df-container\">\n",
              "      <div>\n",
              "<style scoped>\n",
              "    .dataframe tbody tr th:only-of-type {\n",
              "        vertical-align: middle;\n",
              "    }\n",
              "\n",
              "    .dataframe tbody tr th {\n",
              "        vertical-align: top;\n",
              "    }\n",
              "\n",
              "    .dataframe thead th {\n",
              "        text-align: right;\n",
              "    }\n",
              "</style>\n",
              "<table border=\"1\" class=\"dataframe\">\n",
              "  <thead>\n",
              "    <tr style=\"text-align: right;\">\n",
              "      <th></th>\n",
              "      <th>Open</th>\n",
              "      <th>High</th>\n",
              "      <th>Low</th>\n",
              "      <th>Close</th>\n",
              "      <th>Adj Close</th>\n",
              "      <th>Volume</th>\n",
              "    </tr>\n",
              "    <tr>\n",
              "      <th>Date</th>\n",
              "      <th></th>\n",
              "      <th></th>\n",
              "      <th></th>\n",
              "      <th></th>\n",
              "      <th></th>\n",
              "      <th></th>\n",
              "    </tr>\n",
              "  </thead>\n",
              "  <tbody>\n",
              "    <tr>\n",
              "      <th>2010-01-04</th>\n",
              "      <td>112.370003</td>\n",
              "      <td>113.389999</td>\n",
              "      <td>111.510002</td>\n",
              "      <td>113.330002</td>\n",
              "      <td>92.246048</td>\n",
              "      <td>118944600</td>\n",
              "    </tr>\n",
              "    <tr>\n",
              "      <th>2010-01-05</th>\n",
              "      <td>113.260002</td>\n",
              "      <td>113.680000</td>\n",
              "      <td>112.849998</td>\n",
              "      <td>113.629997</td>\n",
              "      <td>92.490204</td>\n",
              "      <td>111579900</td>\n",
              "    </tr>\n",
              "    <tr>\n",
              "      <th>2010-01-06</th>\n",
              "      <td>113.519997</td>\n",
              "      <td>113.989998</td>\n",
              "      <td>113.430000</td>\n",
              "      <td>113.709999</td>\n",
              "      <td>92.555328</td>\n",
              "      <td>116074400</td>\n",
              "    </tr>\n",
              "    <tr>\n",
              "      <th>2010-01-07</th>\n",
              "      <td>113.500000</td>\n",
              "      <td>114.330002</td>\n",
              "      <td>113.180000</td>\n",
              "      <td>114.190002</td>\n",
              "      <td>92.946060</td>\n",
              "      <td>131091100</td>\n",
              "    </tr>\n",
              "    <tr>\n",
              "      <th>2010-01-08</th>\n",
              "      <td>113.889999</td>\n",
              "      <td>114.620003</td>\n",
              "      <td>113.660004</td>\n",
              "      <td>114.570000</td>\n",
              "      <td>93.255348</td>\n",
              "      <td>126402800</td>\n",
              "    </tr>\n",
              "  </tbody>\n",
              "</table>\n",
              "</div>\n",
              "      <button class=\"colab-df-convert\" onclick=\"convertToInteractive('df-9fca0281-d632-408e-a44a-3a03fc7313dd')\"\n",
              "              title=\"Convert this dataframe to an interactive table.\"\n",
              "              style=\"display:none;\">\n",
              "        \n",
              "  <svg xmlns=\"http://www.w3.org/2000/svg\" height=\"24px\"viewBox=\"0 0 24 24\"\n",
              "       width=\"24px\">\n",
              "    <path d=\"M0 0h24v24H0V0z\" fill=\"none\"/>\n",
              "    <path d=\"M18.56 5.44l.94 2.06.94-2.06 2.06-.94-2.06-.94-.94-2.06-.94 2.06-2.06.94zm-11 1L8.5 8.5l.94-2.06 2.06-.94-2.06-.94L8.5 2.5l-.94 2.06-2.06.94zm10 10l.94 2.06.94-2.06 2.06-.94-2.06-.94-.94-2.06-.94 2.06-2.06.94z\"/><path d=\"M17.41 7.96l-1.37-1.37c-.4-.4-.92-.59-1.43-.59-.52 0-1.04.2-1.43.59L10.3 9.45l-7.72 7.72c-.78.78-.78 2.05 0 2.83L4 21.41c.39.39.9.59 1.41.59.51 0 1.02-.2 1.41-.59l7.78-7.78 2.81-2.81c.8-.78.8-2.07 0-2.86zM5.41 20L4 18.59l7.72-7.72 1.47 1.35L5.41 20z\"/>\n",
              "  </svg>\n",
              "      </button>\n",
              "      \n",
              "  <style>\n",
              "    .colab-df-container {\n",
              "      display:flex;\n",
              "      flex-wrap:wrap;\n",
              "      gap: 12px;\n",
              "    }\n",
              "\n",
              "    .colab-df-convert {\n",
              "      background-color: #E8F0FE;\n",
              "      border: none;\n",
              "      border-radius: 50%;\n",
              "      cursor: pointer;\n",
              "      display: none;\n",
              "      fill: #1967D2;\n",
              "      height: 32px;\n",
              "      padding: 0 0 0 0;\n",
              "      width: 32px;\n",
              "    }\n",
              "\n",
              "    .colab-df-convert:hover {\n",
              "      background-color: #E2EBFA;\n",
              "      box-shadow: 0px 1px 2px rgba(60, 64, 67, 0.3), 0px 1px 3px 1px rgba(60, 64, 67, 0.15);\n",
              "      fill: #174EA6;\n",
              "    }\n",
              "\n",
              "    [theme=dark] .colab-df-convert {\n",
              "      background-color: #3B4455;\n",
              "      fill: #D2E3FC;\n",
              "    }\n",
              "\n",
              "    [theme=dark] .colab-df-convert:hover {\n",
              "      background-color: #434B5C;\n",
              "      box-shadow: 0px 1px 3px 1px rgba(0, 0, 0, 0.15);\n",
              "      filter: drop-shadow(0px 1px 2px rgba(0, 0, 0, 0.3));\n",
              "      fill: #FFFFFF;\n",
              "    }\n",
              "  </style>\n",
              "\n",
              "      <script>\n",
              "        const buttonEl =\n",
              "          document.querySelector('#df-9fca0281-d632-408e-a44a-3a03fc7313dd button.colab-df-convert');\n",
              "        buttonEl.style.display =\n",
              "          google.colab.kernel.accessAllowed ? 'block' : 'none';\n",
              "\n",
              "        async function convertToInteractive(key) {\n",
              "          const element = document.querySelector('#df-9fca0281-d632-408e-a44a-3a03fc7313dd');\n",
              "          const dataTable =\n",
              "            await google.colab.kernel.invokeFunction('convertToInteractive',\n",
              "                                                     [key], {});\n",
              "          if (!dataTable) return;\n",
              "\n",
              "          const docLinkHtml = 'Like what you see? Visit the ' +\n",
              "            '<a target=\"_blank\" href=https://colab.research.google.com/notebooks/data_table.ipynb>data table notebook</a>'\n",
              "            + ' to learn more about interactive tables.';\n",
              "          element.innerHTML = '';\n",
              "          dataTable['output_type'] = 'display_data';\n",
              "          await google.colab.output.renderOutput(dataTable, element);\n",
              "          const docLink = document.createElement('div');\n",
              "          docLink.innerHTML = docLinkHtml;\n",
              "          element.appendChild(docLink);\n",
              "        }\n",
              "      </script>\n",
              "    </div>\n",
              "  </div>\n",
              "  "
            ],
            "text/plain": [
              "                  Open        High  ...  Adj Close     Volume\n",
              "Date                                ...                      \n",
              "2010-01-04  112.370003  113.389999  ...  92.246048  118944600\n",
              "2010-01-05  113.260002  113.680000  ...  92.490204  111579900\n",
              "2010-01-06  113.519997  113.989998  ...  92.555328  116074400\n",
              "2010-01-07  113.500000  114.330002  ...  92.946060  131091100\n",
              "2010-01-08  113.889999  114.620003  ...  93.255348  126402800\n",
              "\n",
              "[5 rows x 6 columns]"
            ]
          },
          "metadata": {},
          "execution_count": 5
        }
      ]
    },
    {
      "cell_type": "code",
      "source": [
        "# Naive prediction predicts \n",
        "# Shifting down the row on ClosePrediction by one row\n",
        "\n",
        "df[\"ClosePrediction\"] = df[\"Close\"].shift(1)"
      ],
      "metadata": {
        "id": "oeP8UwSBf5MF"
      },
      "execution_count": 6,
      "outputs": []
    },
    {
      "cell_type": "code",
      "source": [
        "df.head()"
      ],
      "metadata": {
        "colab": {
          "base_uri": "https://localhost:8080/",
          "height": 406
        },
        "id": "b3Un5YeMgIzK",
        "outputId": "064af047-adb8-4b18-bff9-1818821f257f"
      },
      "execution_count": 7,
      "outputs": [
        {
          "output_type": "execute_result",
          "data": {
            "text/html": [
              "\n",
              "  <div id=\"df-755ba203-1ab6-4609-b4d2-33ec9987c8de\">\n",
              "    <div class=\"colab-df-container\">\n",
              "      <div>\n",
              "<style scoped>\n",
              "    .dataframe tbody tr th:only-of-type {\n",
              "        vertical-align: middle;\n",
              "    }\n",
              "\n",
              "    .dataframe tbody tr th {\n",
              "        vertical-align: top;\n",
              "    }\n",
              "\n",
              "    .dataframe thead th {\n",
              "        text-align: right;\n",
              "    }\n",
              "</style>\n",
              "<table border=\"1\" class=\"dataframe\">\n",
              "  <thead>\n",
              "    <tr style=\"text-align: right;\">\n",
              "      <th></th>\n",
              "      <th>Open</th>\n",
              "      <th>High</th>\n",
              "      <th>Low</th>\n",
              "      <th>Close</th>\n",
              "      <th>Adj Close</th>\n",
              "      <th>Volume</th>\n",
              "      <th>ClosePrediction</th>\n",
              "    </tr>\n",
              "    <tr>\n",
              "      <th>Date</th>\n",
              "      <th></th>\n",
              "      <th></th>\n",
              "      <th></th>\n",
              "      <th></th>\n",
              "      <th></th>\n",
              "      <th></th>\n",
              "      <th></th>\n",
              "    </tr>\n",
              "  </thead>\n",
              "  <tbody>\n",
              "    <tr>\n",
              "      <th>2010-01-04</th>\n",
              "      <td>112.370003</td>\n",
              "      <td>113.389999</td>\n",
              "      <td>111.510002</td>\n",
              "      <td>113.330002</td>\n",
              "      <td>92.246048</td>\n",
              "      <td>118944600</td>\n",
              "      <td>NaN</td>\n",
              "    </tr>\n",
              "    <tr>\n",
              "      <th>2010-01-05</th>\n",
              "      <td>113.260002</td>\n",
              "      <td>113.680000</td>\n",
              "      <td>112.849998</td>\n",
              "      <td>113.629997</td>\n",
              "      <td>92.490204</td>\n",
              "      <td>111579900</td>\n",
              "      <td>113.330002</td>\n",
              "    </tr>\n",
              "    <tr>\n",
              "      <th>2010-01-06</th>\n",
              "      <td>113.519997</td>\n",
              "      <td>113.989998</td>\n",
              "      <td>113.430000</td>\n",
              "      <td>113.709999</td>\n",
              "      <td>92.555328</td>\n",
              "      <td>116074400</td>\n",
              "      <td>113.629997</td>\n",
              "    </tr>\n",
              "    <tr>\n",
              "      <th>2010-01-07</th>\n",
              "      <td>113.500000</td>\n",
              "      <td>114.330002</td>\n",
              "      <td>113.180000</td>\n",
              "      <td>114.190002</td>\n",
              "      <td>92.946060</td>\n",
              "      <td>131091100</td>\n",
              "      <td>113.709999</td>\n",
              "    </tr>\n",
              "    <tr>\n",
              "      <th>2010-01-08</th>\n",
              "      <td>113.889999</td>\n",
              "      <td>114.620003</td>\n",
              "      <td>113.660004</td>\n",
              "      <td>114.570000</td>\n",
              "      <td>93.255348</td>\n",
              "      <td>126402800</td>\n",
              "      <td>114.190002</td>\n",
              "    </tr>\n",
              "  </tbody>\n",
              "</table>\n",
              "</div>\n",
              "      <button class=\"colab-df-convert\" onclick=\"convertToInteractive('df-755ba203-1ab6-4609-b4d2-33ec9987c8de')\"\n",
              "              title=\"Convert this dataframe to an interactive table.\"\n",
              "              style=\"display:none;\">\n",
              "        \n",
              "  <svg xmlns=\"http://www.w3.org/2000/svg\" height=\"24px\"viewBox=\"0 0 24 24\"\n",
              "       width=\"24px\">\n",
              "    <path d=\"M0 0h24v24H0V0z\" fill=\"none\"/>\n",
              "    <path d=\"M18.56 5.44l.94 2.06.94-2.06 2.06-.94-2.06-.94-.94-2.06-.94 2.06-2.06.94zm-11 1L8.5 8.5l.94-2.06 2.06-.94-2.06-.94L8.5 2.5l-.94 2.06-2.06.94zm10 10l.94 2.06.94-2.06 2.06-.94-2.06-.94-.94-2.06-.94 2.06-2.06.94z\"/><path d=\"M17.41 7.96l-1.37-1.37c-.4-.4-.92-.59-1.43-.59-.52 0-1.04.2-1.43.59L10.3 9.45l-7.72 7.72c-.78.78-.78 2.05 0 2.83L4 21.41c.39.39.9.59 1.41.59.51 0 1.02-.2 1.41-.59l7.78-7.78 2.81-2.81c.8-.78.8-2.07 0-2.86zM5.41 20L4 18.59l7.72-7.72 1.47 1.35L5.41 20z\"/>\n",
              "  </svg>\n",
              "      </button>\n",
              "      \n",
              "  <style>\n",
              "    .colab-df-container {\n",
              "      display:flex;\n",
              "      flex-wrap:wrap;\n",
              "      gap: 12px;\n",
              "    }\n",
              "\n",
              "    .colab-df-convert {\n",
              "      background-color: #E8F0FE;\n",
              "      border: none;\n",
              "      border-radius: 50%;\n",
              "      cursor: pointer;\n",
              "      display: none;\n",
              "      fill: #1967D2;\n",
              "      height: 32px;\n",
              "      padding: 0 0 0 0;\n",
              "      width: 32px;\n",
              "    }\n",
              "\n",
              "    .colab-df-convert:hover {\n",
              "      background-color: #E2EBFA;\n",
              "      box-shadow: 0px 1px 2px rgba(60, 64, 67, 0.3), 0px 1px 3px 1px rgba(60, 64, 67, 0.15);\n",
              "      fill: #174EA6;\n",
              "    }\n",
              "\n",
              "    [theme=dark] .colab-df-convert {\n",
              "      background-color: #3B4455;\n",
              "      fill: #D2E3FC;\n",
              "    }\n",
              "\n",
              "    [theme=dark] .colab-df-convert:hover {\n",
              "      background-color: #434B5C;\n",
              "      box-shadow: 0px 1px 3px 1px rgba(0, 0, 0, 0.15);\n",
              "      filter: drop-shadow(0px 1px 2px rgba(0, 0, 0, 0.3));\n",
              "      fill: #FFFFFF;\n",
              "    }\n",
              "  </style>\n",
              "\n",
              "      <script>\n",
              "        const buttonEl =\n",
              "          document.querySelector('#df-755ba203-1ab6-4609-b4d2-33ec9987c8de button.colab-df-convert');\n",
              "        buttonEl.style.display =\n",
              "          google.colab.kernel.accessAllowed ? 'block' : 'none';\n",
              "\n",
              "        async function convertToInteractive(key) {\n",
              "          const element = document.querySelector('#df-755ba203-1ab6-4609-b4d2-33ec9987c8de');\n",
              "          const dataTable =\n",
              "            await google.colab.kernel.invokeFunction('convertToInteractive',\n",
              "                                                     [key], {});\n",
              "          if (!dataTable) return;\n",
              "\n",
              "          const docLinkHtml = 'Like what you see? Visit the ' +\n",
              "            '<a target=\"_blank\" href=https://colab.research.google.com/notebooks/data_table.ipynb>data table notebook</a>'\n",
              "            + ' to learn more about interactive tables.';\n",
              "          element.innerHTML = '';\n",
              "          dataTable['output_type'] = 'display_data';\n",
              "          await google.colab.output.renderOutput(dataTable, element);\n",
              "          const docLink = document.createElement('div');\n",
              "          docLink.innerHTML = docLinkHtml;\n",
              "          element.appendChild(docLink);\n",
              "        }\n",
              "      </script>\n",
              "    </div>\n",
              "  </div>\n",
              "  "
            ],
            "text/plain": [
              "                  Open        High  ...     Volume  ClosePrediction\n",
              "Date                                ...                            \n",
              "2010-01-04  112.370003  113.389999  ...  118944600              NaN\n",
              "2010-01-05  113.260002  113.680000  ...  111579900       113.330002\n",
              "2010-01-06  113.519997  113.989998  ...  116074400       113.629997\n",
              "2010-01-07  113.500000  114.330002  ...  131091100       113.709999\n",
              "2010-01-08  113.889999  114.620003  ...  126402800       114.190002\n",
              "\n",
              "[5 rows x 7 columns]"
            ]
          },
          "metadata": {},
          "execution_count": 7
        }
      ]
    },
    {
      "cell_type": "code",
      "source": [
        "# Assigning true values and predicted values so we can\n",
        "# test the metrics function\n",
        "\n",
        "y_true = df.iloc[1:][\"Close\"]\n",
        "y_pred = df.iloc[1:][\"ClosePrediction\"]"
      ],
      "metadata": {
        "id": "eaYlC6lTgKJJ"
      },
      "execution_count": 8,
      "outputs": []
    },
    {
      "cell_type": "markdown",
      "source": [
        "## Metrics\n",
        "\n",
        "Find out how the relations between values. Determine what is good or bad values."
      ],
      "metadata": {
        "id": "CX5IB5k6gXYa"
      }
    },
    {
      "cell_type": "code",
      "source": [
        "# Sum of Squared Errors (SSE)\n",
        "# There's no function for it so we made it\n",
        "\n",
        "(y_true - y_pred).dot(y_true - y_pred)"
      ],
      "metadata": {
        "colab": {
          "base_uri": "https://localhost:8080/"
        },
        "id": "BSl2-A8bggUJ",
        "outputId": "ae839413-4c96-421a-a0db-d8ec4029aada"
      },
      "execution_count": 9,
      "outputs": [
        {
          "output_type": "execute_result",
          "data": {
            "text/plain": [
              "6330.37428949261"
            ]
          },
          "metadata": {},
          "execution_count": 9
        }
      ]
    },
    {
      "cell_type": "code",
      "source": [
        "# MSE\n",
        "\n",
        "mean_squared_error(y_true, y_pred)"
      ],
      "metadata": {
        "colab": {
          "base_uri": "https://localhost:8080/"
        },
        "id": "Arq3HRTNgtzS",
        "outputId": "0999da70-1bf7-4a8b-daa4-1697d8c0f8df"
      },
      "execution_count": 10,
      "outputs": [
        {
          "output_type": "execute_result",
          "data": {
            "text/plain": [
              "2.7985739564511984"
            ]
          },
          "metadata": {},
          "execution_count": 10
        }
      ]
    },
    {
      "cell_type": "code",
      "source": [
        "# MSE again without sklearn functions\n",
        "\n",
        "(y_true - y_pred).dot(y_true - y_pred)/len(y_true)"
      ],
      "metadata": {
        "colab": {
          "base_uri": "https://localhost:8080/"
        },
        "id": "ojBYLCPVgxbp",
        "outputId": "e0632b77-40b9-4141-ba3d-9f438149f7cf"
      },
      "execution_count": 11,
      "outputs": [
        {
          "output_type": "execute_result",
          "data": {
            "text/plain": [
              "2.798573956451198"
            ]
          },
          "metadata": {},
          "execution_count": 11
        }
      ]
    },
    {
      "cell_type": "code",
      "source": [
        "# RMSE\n",
        "# If squared = True returns MSE value, if False returns RMSE value.\n",
        "\n",
        "mean_squared_error(y_true, y_pred, squared=False)"
      ],
      "metadata": {
        "colab": {
          "base_uri": "https://localhost:8080/"
        },
        "id": "QA8-k4lWg43f",
        "outputId": "25db5801-ba57-4a4c-833c-895b6f0935b7"
      },
      "execution_count": 12,
      "outputs": [
        {
          "output_type": "execute_result",
          "data": {
            "text/plain": [
              "1.6728938867875627"
            ]
          },
          "metadata": {},
          "execution_count": 12
        }
      ]
    },
    {
      "cell_type": "code",
      "source": [
        "# RMSE again without sklearn functions\n",
        "\n",
        "np.sqrt((y_true - y_pred).dot(y_true - y_pred)/len(y_true))"
      ],
      "metadata": {
        "colab": {
          "base_uri": "https://localhost:8080/"
        },
        "id": "nEuPHuT1hAEA",
        "outputId": "403e6100-62cc-443f-d713-40cfae6669bb"
      },
      "execution_count": 13,
      "outputs": [
        {
          "output_type": "execute_result",
          "data": {
            "text/plain": [
              "1.6728938867875625"
            ]
          },
          "metadata": {},
          "execution_count": 13
        }
      ]
    },
    {
      "cell_type": "code",
      "source": [
        "# MAE\n",
        "\n",
        "mean_absolute_error(y_true, y_pred)"
      ],
      "metadata": {
        "colab": {
          "base_uri": "https://localhost:8080/"
        },
        "id": "U6GXS6kbhERu",
        "outputId": "11600a0e-d4b2-4df9-d1fb-91f6cd37132c"
      },
      "execution_count": 14,
      "outputs": [
        {
          "output_type": "execute_result",
          "data": {
            "text/plain": [
              "1.1457559803120336"
            ]
          },
          "metadata": {},
          "execution_count": 14
        }
      ]
    },
    {
      "cell_type": "code",
      "source": [
        "# R^2\n",
        "# Does not depend on the scale of the data\n",
        "\n",
        "r2_score(y_true, y_pred)"
      ],
      "metadata": {
        "colab": {
          "base_uri": "https://localhost:8080/"
        },
        "id": "74o620s2hKEj",
        "outputId": "886ccb19-1a6a-493f-f70c-c2f8526920e6"
      },
      "execution_count": 15,
      "outputs": [
        {
          "output_type": "execute_result",
          "data": {
            "text/plain": [
              "0.9989603259063914"
            ]
          },
          "metadata": {},
          "execution_count": 15
        }
      ]
    },
    {
      "cell_type": "code",
      "source": [
        "# MAPE\n",
        "# Also does not depend on the scale of the data\n",
        "\n",
        "mean_absolute_percentage_error(y_true, y_pred)"
      ],
      "metadata": {
        "colab": {
          "base_uri": "https://localhost:8080/"
        },
        "id": "O-FDZfBxhOJ4",
        "outputId": "e3e29686-d688-4256-a185-d118a5eba322"
      },
      "execution_count": 16,
      "outputs": [
        {
          "output_type": "execute_result",
          "data": {
            "text/plain": [
              "0.006494073151422375"
            ]
          },
          "metadata": {},
          "execution_count": 16
        }
      ]
    },
    {
      "cell_type": "markdown",
      "source": [
        "### sMAPE"
      ],
      "metadata": {
        "id": "HcLl1diLhnOv"
      }
    },
    {
      "cell_type": "markdown",
      "source": [
        "![image.png](data:image/png;base64,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)"
      ],
      "metadata": {
        "id": "neppCMjh2B4Z"
      }
    },
    {
      "cell_type": "code",
      "source": [
        "# There's no function available for sMAPE\n",
        "# So we made it on our own\n",
        "\n",
        "def smape(y_true, y_pred):\n",
        "  numerator = np.abs(y_true - y_pred)\n",
        "  denominator = (np.abs(y_true) + np.abs(y_pred))/2\n",
        "  ratio = numerator/denominator\n",
        "  return ratio.mean()\n",
        "\n",
        "smape(y_true, y_pred)"
      ],
      "metadata": {
        "colab": {
          "base_uri": "https://localhost:8080/"
        },
        "id": "rwyEzImuhoXy",
        "outputId": "64cd237d-5bc3-4319-f8eb-220f7f15b3d9"
      },
      "execution_count": 17,
      "outputs": [
        {
          "output_type": "execute_result",
          "data": {
            "text/plain": [
              "0.006491365814068423"
            ]
          },
          "metadata": {},
          "execution_count": 17
        }
      ]
    },
    {
      "cell_type": "code",
      "source": [
        ""
      ],
      "metadata": {
        "id": "DLOfuAf4iFSh"
      },
      "execution_count": null,
      "outputs": []
    }
  ]
}