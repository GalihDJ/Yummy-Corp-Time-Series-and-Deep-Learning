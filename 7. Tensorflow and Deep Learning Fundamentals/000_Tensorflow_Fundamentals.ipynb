{
  "nbformat": 4,
  "nbformat_minor": 0,
  "metadata": {
    "colab": {
      "name": "00_Tensorflow_Fundamentals.ipynb",
      "provenance": [],
      "collapsed_sections": []
    },
    "kernelspec": {
      "name": "python3",
      "display_name": "Python 3"
    },
    "language_info": {
      "name": "python"
    }
  },
  "cells": [
    {
      "cell_type": "markdown",
      "source": [
        "## This notebook covers some of the most fundamental concepts of tensors using Tensorflow\n",
        "\n",
        "* Introduction to tensors\n",
        "* Getting information from tensors\n",
        "* Manipulating tensors\n",
        "* Tensors & Numpy\n",
        "* Using @tf.function to speed up regular Python functions\n",
        "* Using GPUs or TPUs with TensorFlow\n",
        "* Exercises\n",
        "\n",
        "The tutorial of this notebook can be found here: https://www.youtube.com/watch?v=tpCFfeUEGs8&list=PL6vjgQ2-qJFfU2vF6-lG9DlSa4tROkzt9&index=1"
      ],
      "metadata": {
        "id": "RUjRI0ErFE_4"
      }
    },
    {
      "cell_type": "markdown",
      "source": [
        "## Introduction to Tensors"
      ],
      "metadata": {
        "id": "Zq6Nc9y9FX2U"
      }
    },
    {
      "cell_type": "code",
      "source": [
        "import tensorflow as tf\n",
        "print(tf.__version__)"
      ],
      "metadata": {
        "colab": {
          "base_uri": "https://localhost:8080/"
        },
        "id": "ZkGs8kDGFnNO",
        "outputId": "6c7c9f76-d4a3-40a2-c4ab-f8181eb06d39"
      },
      "execution_count": null,
      "outputs": [
        {
          "output_type": "stream",
          "name": "stdout",
          "text": [
            "2.7.0\n"
          ]
        }
      ]
    },
    {
      "cell_type": "markdown",
      "source": [
        "* Scalar: a single number\n",
        "* Vector: a number with direction (e.g wind speed and direction)\n",
        "* Matrix: a 2-dimensional array of numbers\n",
        "* Tensor: an n-dimensional array of numbers"
      ],
      "metadata": {
        "id": "dk66RgohJeD8"
      }
    },
    {
      "cell_type": "code",
      "source": [
        "# Create tensors with tf.constant()\n",
        "# https://www.tensorflow.org/api_docs/python/tf/constant\n",
        "# If the argument dtype is not specified, then the type is inferred from the type of value.\n",
        "\n",
        "scalar = tf.constant(7)\n",
        "scalar"
      ],
      "metadata": {
        "colab": {
          "base_uri": "https://localhost:8080/"
        },
        "id": "sZTcjOamFyk4",
        "outputId": "70fff6a4-affd-47b2-b341-a4ce0c2d654b"
      },
      "execution_count": null,
      "outputs": [
        {
          "output_type": "execute_result",
          "data": {
            "text/plain": [
              "<tf.Tensor: shape=(), dtype=int32, numpy=7>"
            ]
          },
          "metadata": {},
          "execution_count": 2
        }
      ]
    },
    {
      "cell_type": "code",
      "source": [
        "# Check dimensions\n",
        "\n",
        "scalar.ndim"
      ],
      "metadata": {
        "colab": {
          "base_uri": "https://localhost:8080/"
        },
        "id": "YdWDdylNGIYa",
        "outputId": "ff8f0645-c53d-4e74-c138-e868bd95b1d9"
      },
      "execution_count": null,
      "outputs": [
        {
          "output_type": "execute_result",
          "data": {
            "text/plain": [
              "0"
            ]
          },
          "metadata": {},
          "execution_count": 3
        }
      ]
    },
    {
      "cell_type": "code",
      "source": [
        "# Create a vector\n",
        "\n",
        "vector = tf.constant([10, 10])\n",
        "vector"
      ],
      "metadata": {
        "colab": {
          "base_uri": "https://localhost:8080/"
        },
        "id": "LhPAj52pGe6O",
        "outputId": "7b01f8cd-7742-4d02-dbc5-2fa0df043321"
      },
      "execution_count": null,
      "outputs": [
        {
          "output_type": "execute_result",
          "data": {
            "text/plain": [
              "<tf.Tensor: shape=(2,), dtype=int32, numpy=array([10, 10], dtype=int32)>"
            ]
          },
          "metadata": {},
          "execution_count": 4
        }
      ]
    },
    {
      "cell_type": "code",
      "source": [
        "vector.ndim"
      ],
      "metadata": {
        "colab": {
          "base_uri": "https://localhost:8080/"
        },
        "id": "IZd3JI6wGpUU",
        "outputId": "180e3f68-8c16-4669-b2a2-f5eceef4268d"
      },
      "execution_count": null,
      "outputs": [
        {
          "output_type": "execute_result",
          "data": {
            "text/plain": [
              "1"
            ]
          },
          "metadata": {},
          "execution_count": 5
        }
      ]
    },
    {
      "cell_type": "code",
      "source": [
        "# Create a matrix\n",
        "\n",
        "matrix= tf.constant([[10, 7],\n",
        "                     [7, 10]])\n",
        "matrix"
      ],
      "metadata": {
        "colab": {
          "base_uri": "https://localhost:8080/"
        },
        "id": "6OF839SPGz5O",
        "outputId": "bcc6a149-1eb0-4ed3-e115-bbf233b09f47"
      },
      "execution_count": null,
      "outputs": [
        {
          "output_type": "execute_result",
          "data": {
            "text/plain": [
              "<tf.Tensor: shape=(2, 2), dtype=int32, numpy=\n",
              "array([[10,  7],\n",
              "       [ 7, 10]], dtype=int32)>"
            ]
          },
          "metadata": {},
          "execution_count": 6
        }
      ]
    },
    {
      "cell_type": "code",
      "source": [
        "matrix.ndim"
      ],
      "metadata": {
        "colab": {
          "base_uri": "https://localhost:8080/"
        },
        "id": "6BRRe4StG_Mz",
        "outputId": "9f7f732c-77e6-4f1b-ffa6-68cf0e6a1779"
      },
      "execution_count": null,
      "outputs": [
        {
          "output_type": "execute_result",
          "data": {
            "text/plain": [
              "2"
            ]
          },
          "metadata": {},
          "execution_count": 7
        }
      ]
    },
    {
      "cell_type": "code",
      "source": [
        "# Create another matrix with specified datatype\n",
        "\n",
        "matrix_2 = tf.constant([[10., 7.],\n",
        "                        [3., 2.],\n",
        "                        [8., 9.]], dtype = tf.float16)\n",
        "matrix_2"
      ],
      "metadata": {
        "colab": {
          "base_uri": "https://localhost:8080/"
        },
        "id": "yoLC371lHC-E",
        "outputId": "4e3ea9b3-effe-41be-f4cd-30488b47ec1e"
      },
      "execution_count": null,
      "outputs": [
        {
          "output_type": "execute_result",
          "data": {
            "text/plain": [
              "<tf.Tensor: shape=(3, 2), dtype=float16, numpy=\n",
              "array([[10.,  7.],\n",
              "       [ 3.,  2.],\n",
              "       [ 8.,  9.]], dtype=float16)>"
            ]
          },
          "metadata": {},
          "execution_count": 8
        }
      ]
    },
    {
      "cell_type": "code",
      "source": [
        "matrix_2.ndim"
      ],
      "metadata": {
        "colab": {
          "base_uri": "https://localhost:8080/"
        },
        "id": "FL7q8_3vHf_I",
        "outputId": "6a2c5d69-be63-49bc-eb38-a317bc809df5"
      },
      "execution_count": null,
      "outputs": [
        {
          "output_type": "execute_result",
          "data": {
            "text/plain": [
              "2"
            ]
          },
          "metadata": {},
          "execution_count": 9
        }
      ]
    },
    {
      "cell_type": "code",
      "source": [
        "# Create a tensor\n",
        "\n",
        "tensor = tf.constant([[[1, 2, 3],\n",
        "                       [4, 5, 6]],\n",
        "                      [[7, 8, 9],\n",
        "                      [10, 11, 12]],\n",
        "                     [[13, 14, 15],\n",
        "                      [16, 17, 18]]])\n",
        "tensor"
      ],
      "metadata": {
        "colab": {
          "base_uri": "https://localhost:8080/"
        },
        "id": "HAj3Al_wHnhx",
        "outputId": "f3d9a35f-d94a-4e95-f4b3-39946604dbc1"
      },
      "execution_count": null,
      "outputs": [
        {
          "output_type": "execute_result",
          "data": {
            "text/plain": [
              "<tf.Tensor: shape=(3, 2, 3), dtype=int32, numpy=\n",
              "array([[[ 1,  2,  3],\n",
              "        [ 4,  5,  6]],\n",
              "\n",
              "       [[ 7,  8,  9],\n",
              "        [10, 11, 12]],\n",
              "\n",
              "       [[13, 14, 15],\n",
              "        [16, 17, 18]]], dtype=int32)>"
            ]
          },
          "metadata": {},
          "execution_count": 10
        }
      ]
    },
    {
      "cell_type": "code",
      "source": [
        "tensor.ndim"
      ],
      "metadata": {
        "colab": {
          "base_uri": "https://localhost:8080/"
        },
        "id": "DOeZ3iwYIcdi",
        "outputId": "ad8ada6c-01b3-44fb-808f-ad8c5229632c"
      },
      "execution_count": null,
      "outputs": [
        {
          "output_type": "execute_result",
          "data": {
            "text/plain": [
              "3"
            ]
          },
          "metadata": {},
          "execution_count": 11
        }
      ]
    },
    {
      "cell_type": "markdown",
      "source": [
        "### Creating Tensors with `tf.variable`"
      ],
      "metadata": {
        "id": "0tCvTL4GJYuv"
      }
    },
    {
      "cell_type": "markdown",
      "source": [
        "https://www.tensorflow.org/api_docs/python/tf/Variable"
      ],
      "metadata": {
        "id": "p5sDSk11JrjT"
      }
    },
    {
      "cell_type": "code",
      "source": [
        "# Create the same tensor with tf.Variable()\n",
        "\n",
        "changeable_tensor = tf.Variable([10, 7])\n",
        "unchangeable_tensor = tf.constant([10, 7])\n",
        "changeable_tensor, unchangeable_tensor"
      ],
      "metadata": {
        "colab": {
          "base_uri": "https://localhost:8080/"
        },
        "id": "5lvmzi-sJykX",
        "outputId": "52b7706e-ba46-41e6-9dc6-85e82657fd79"
      },
      "execution_count": null,
      "outputs": [
        {
          "output_type": "execute_result",
          "data": {
            "text/plain": [
              "(<tf.Variable 'Variable:0' shape=(2,) dtype=int32, numpy=array([10,  7], dtype=int32)>,\n",
              " <tf.Tensor: shape=(2,), dtype=int32, numpy=array([10,  7], dtype=int32)>)"
            ]
          },
          "metadata": {},
          "execution_count": 12
        }
      ]
    },
    {
      "cell_type": "code",
      "source": [
        "# Try to change one of the elements\n",
        "\n",
        "changeable_tensor[0] = 7"
      ],
      "metadata": {
        "colab": {
          "base_uri": "https://localhost:8080/",
          "height": 200
        },
        "id": "iEeR5doLKIpO",
        "outputId": "3504cdf8-f512-48f6-dc31-2fead66c937b"
      },
      "execution_count": null,
      "outputs": [
        {
          "output_type": "error",
          "ename": "TypeError",
          "evalue": "ignored",
          "traceback": [
            "\u001b[0;31m---------------------------------------------------------------------------\u001b[0m",
            "\u001b[0;31mTypeError\u001b[0m                                 Traceback (most recent call last)",
            "\u001b[0;32m<ipython-input-13-a854dfdf6b60>\u001b[0m in \u001b[0;36m<module>\u001b[0;34m()\u001b[0m\n\u001b[1;32m      1\u001b[0m \u001b[0;31m# Try to change one of the elements\u001b[0m\u001b[0;34m\u001b[0m\u001b[0;34m\u001b[0m\u001b[0;34m\u001b[0m\u001b[0m\n\u001b[1;32m      2\u001b[0m \u001b[0;34m\u001b[0m\u001b[0m\n\u001b[0;32m----> 3\u001b[0;31m \u001b[0mchangeable_tensor\u001b[0m\u001b[0;34m[\u001b[0m\u001b[0;36m0\u001b[0m\u001b[0;34m]\u001b[0m \u001b[0;34m=\u001b[0m \u001b[0;36m7\u001b[0m\u001b[0;34m\u001b[0m\u001b[0;34m\u001b[0m\u001b[0m\n\u001b[0m",
            "\u001b[0;31mTypeError\u001b[0m: 'ResourceVariable' object does not support item assignment"
          ]
        }
      ]
    },
    {
      "cell_type": "code",
      "source": [
        "# Use .assign()\n",
        "\n",
        "changeable_tensor[0].assign(7)\n",
        "changeable_tensor"
      ],
      "metadata": {
        "colab": {
          "base_uri": "https://localhost:8080/"
        },
        "id": "mmPloaX0Kc1U",
        "outputId": "2fedc2a2-fff4-403b-af28-8783e4aa02b7"
      },
      "execution_count": null,
      "outputs": [
        {
          "output_type": "execute_result",
          "data": {
            "text/plain": [
              "<tf.Variable 'Variable:0' shape=(2,) dtype=int32, numpy=array([7, 7], dtype=int32)>"
            ]
          },
          "metadata": {},
          "execution_count": 14
        }
      ]
    },
    {
      "cell_type": "code",
      "source": [
        "# Try to change one of the elements of unchangeable tensor\n",
        "\n",
        "unchangeable_tensor[0] = 7"
      ],
      "metadata": {
        "colab": {
          "base_uri": "https://localhost:8080/",
          "height": 217
        },
        "id": "N2o_vGOqKyHu",
        "outputId": "6a763f17-5eca-4af8-d3cb-9862ac6e5f07"
      },
      "execution_count": null,
      "outputs": [
        {
          "output_type": "error",
          "ename": "TypeError",
          "evalue": "ignored",
          "traceback": [
            "\u001b[0;31m---------------------------------------------------------------------------\u001b[0m",
            "\u001b[0;31mTypeError\u001b[0m                                 Traceback (most recent call last)",
            "\u001b[0;32m<ipython-input-15-e4f4bc06dedd>\u001b[0m in \u001b[0;36m<module>\u001b[0;34m()\u001b[0m\n\u001b[1;32m      1\u001b[0m \u001b[0;31m# Try to change one of the elements of unchangeable tensor\u001b[0m\u001b[0;34m\u001b[0m\u001b[0;34m\u001b[0m\u001b[0;34m\u001b[0m\u001b[0m\n\u001b[1;32m      2\u001b[0m \u001b[0;34m\u001b[0m\u001b[0m\n\u001b[0;32m----> 3\u001b[0;31m \u001b[0munchangeable_tensor\u001b[0m\u001b[0;34m[\u001b[0m\u001b[0;36m0\u001b[0m\u001b[0;34m]\u001b[0m \u001b[0;34m=\u001b[0m \u001b[0;36m7\u001b[0m\u001b[0;34m\u001b[0m\u001b[0;34m\u001b[0m\u001b[0m\n\u001b[0m",
            "\u001b[0;31mTypeError\u001b[0m: 'tensorflow.python.framework.ops.EagerTensor' object does not support item assignment"
          ]
        }
      ]
    },
    {
      "cell_type": "code",
      "source": [
        "unchangeable_tensor[0].assign(7)"
      ],
      "metadata": {
        "colab": {
          "base_uri": "https://localhost:8080/",
          "height": 338
        },
        "id": "5MEGvQMZK6uo",
        "outputId": "eaee71cf-eb9e-4a4f-881f-3cf58e69151b"
      },
      "execution_count": null,
      "outputs": [
        {
          "output_type": "error",
          "ename": "AttributeError",
          "evalue": "ignored",
          "traceback": [
            "\u001b[0;31m---------------------------------------------------------------------------\u001b[0m",
            "\u001b[0;31mAttributeError\u001b[0m                            Traceback (most recent call last)",
            "\u001b[0;32m<ipython-input-16-c8c973b2e293>\u001b[0m in \u001b[0;36m<module>\u001b[0;34m()\u001b[0m\n\u001b[0;32m----> 1\u001b[0;31m \u001b[0munchangeable_tensor\u001b[0m\u001b[0;34m[\u001b[0m\u001b[0;36m0\u001b[0m\u001b[0;34m]\u001b[0m\u001b[0;34m.\u001b[0m\u001b[0massign\u001b[0m\u001b[0;34m(\u001b[0m\u001b[0;36m7\u001b[0m\u001b[0;34m)\u001b[0m\u001b[0;34m\u001b[0m\u001b[0;34m\u001b[0m\u001b[0m\n\u001b[0m",
            "\u001b[0;32m/usr/local/lib/python3.7/dist-packages/tensorflow/python/framework/ops.py\u001b[0m in \u001b[0;36m__getattr__\u001b[0;34m(self, name)\u001b[0m\n\u001b[1;32m    440\u001b[0m         \u001b[0;32mfrom\u001b[0m \u001b[0mtensorflow\u001b[0m\u001b[0;34m.\u001b[0m\u001b[0mpython\u001b[0m\u001b[0;34m.\u001b[0m\u001b[0mops\u001b[0m\u001b[0;34m.\u001b[0m\u001b[0mnumpy_ops\u001b[0m \u001b[0;32mimport\u001b[0m \u001b[0mnp_config\u001b[0m\u001b[0;34m\u001b[0m\u001b[0;34m\u001b[0m\u001b[0m\n\u001b[1;32m    441\u001b[0m         np_config.enable_numpy_behavior()\"\"\".format(type(self).__name__, name))\n\u001b[0;32m--> 442\u001b[0;31m     \u001b[0mself\u001b[0m\u001b[0;34m.\u001b[0m\u001b[0m__getattribute__\u001b[0m\u001b[0;34m(\u001b[0m\u001b[0mname\u001b[0m\u001b[0;34m)\u001b[0m\u001b[0;34m\u001b[0m\u001b[0;34m\u001b[0m\u001b[0m\n\u001b[0m\u001b[1;32m    443\u001b[0m \u001b[0;34m\u001b[0m\u001b[0m\n\u001b[1;32m    444\u001b[0m   \u001b[0;34m@\u001b[0m\u001b[0mstaticmethod\u001b[0m\u001b[0;34m\u001b[0m\u001b[0;34m\u001b[0m\u001b[0m\n",
            "\u001b[0;31mAttributeError\u001b[0m: 'tensorflow.python.framework.ops.EagerTensor' object has no attribute 'assign'"
          ]
        }
      ]
    },
    {
      "cell_type": "markdown",
      "source": [
        "Value of variables declared with `.constant()` is unchangeable and can only be declared with value and not an operation.\n",
        "\n",
        "Value of variable declared with `.Variable()` is changeable using `.assign()` and can be declared with value or an operation.\n",
        "\n",
        "https://stackoverflow.com/questions/44745855/tensorflow-variables-and-constants"
      ],
      "metadata": {
        "id": "9oGWS7HwLf5a"
      }
    },
    {
      "cell_type": "markdown",
      "source": [
        "### Creating Random Tensors\n",
        "\n",
        "Random tensors are tensors in varying size that contains random numbers."
      ],
      "metadata": {
        "id": "q-6GWipALAyb"
      }
    },
    {
      "cell_type": "code",
      "source": [
        "# Create two random tensors\n",
        "# https://www.tensorflow.org/api_docs/python/tf/random\n",
        "\n",
        "random_1 = tf.random.Generator.from_seed(42) # .Generator generate random numbers\n",
        "random_1 = random_1.normal(shape = (3, 2)) # .normal outputs random values from a normal distribution\n",
        "random_1"
      ],
      "metadata": {
        "colab": {
          "base_uri": "https://localhost:8080/"
        },
        "id": "jdYQL6MwMCnR",
        "outputId": "4a1a67ab-f201-4018-e661-2479cc697241"
      },
      "execution_count": null,
      "outputs": [
        {
          "output_type": "execute_result",
          "data": {
            "text/plain": [
              "<tf.Tensor: shape=(3, 2), dtype=float32, numpy=\n",
              "array([[-0.7565803 , -0.06854702],\n",
              "       [ 0.07595026, -1.2573844 ],\n",
              "       [-0.23193763, -1.8107855 ]], dtype=float32)>"
            ]
          },
          "metadata": {},
          "execution_count": 17
        }
      ]
    },
    {
      "cell_type": "code",
      "source": [
        "random_2 = tf.random.Generator.from_seed(42)\n",
        "random_2 = random_2.normal(shape = (3, 2))\n",
        "random_2"
      ],
      "metadata": {
        "colab": {
          "base_uri": "https://localhost:8080/"
        },
        "id": "uqC82PJwONX-",
        "outputId": "81c3d8ce-f89e-43ef-cced-8e8246fde798"
      },
      "execution_count": null,
      "outputs": [
        {
          "output_type": "execute_result",
          "data": {
            "text/plain": [
              "<tf.Tensor: shape=(3, 2), dtype=float32, numpy=\n",
              "array([[-0.7565803 , -0.06854702],\n",
              "       [ 0.07595026, -1.2573844 ],\n",
              "       [-0.23193763, -1.8107855 ]], dtype=float32)>"
            ]
          },
          "metadata": {},
          "execution_count": 18
        }
      ]
    },
    {
      "cell_type": "code",
      "source": [
        "random_1 == random_2"
      ],
      "metadata": {
        "colab": {
          "base_uri": "https://localhost:8080/"
        },
        "id": "dJKUQKEiPHni",
        "outputId": "c063197f-b531-4262-b8ad-9e01de410d84"
      },
      "execution_count": null,
      "outputs": [
        {
          "output_type": "execute_result",
          "data": {
            "text/plain": [
              "<tf.Tensor: shape=(3, 2), dtype=bool, numpy=\n",
              "array([[ True,  True],\n",
              "       [ True,  True],\n",
              "       [ True,  True]])>"
            ]
          },
          "metadata": {},
          "execution_count": 19
        }
      ]
    },
    {
      "cell_type": "markdown",
      "source": [
        "### Shuffling The Order of Elements in A Tensor"
      ],
      "metadata": {
        "id": "GqIvAnmjPJxo"
      }
    },
    {
      "cell_type": "code",
      "source": [
        "# Shuffle a tensor\n",
        "# tf.random.shuffle randomly shuffles a tensor along its first dimension\n",
        "# https://www.tensorflow.org/api_docs/python/tf/random/shuffle\n",
        "\n",
        "not_shuffled = tf.constant([[10, 7],\n",
        "                          [3, 4],\n",
        "                          [2, 5]])\n",
        "not_shuffled"
      ],
      "metadata": {
        "colab": {
          "base_uri": "https://localhost:8080/"
        },
        "id": "tFLKeU9cRAhc",
        "outputId": "1ba42476-a6c3-40aa-caf1-44e3b33e1af7"
      },
      "execution_count": null,
      "outputs": [
        {
          "output_type": "execute_result",
          "data": {
            "text/plain": [
              "<tf.Tensor: shape=(3, 2), dtype=int32, numpy=\n",
              "array([[10,  7],\n",
              "       [ 3,  4],\n",
              "       [ 2,  5]], dtype=int32)>"
            ]
          },
          "metadata": {},
          "execution_count": 20
        }
      ]
    },
    {
      "cell_type": "code",
      "source": [
        "not_shuffled.ndim"
      ],
      "metadata": {
        "colab": {
          "base_uri": "https://localhost:8080/"
        },
        "id": "yVtqQTtHRRjp",
        "outputId": "38a2c773-afb7-4597-bdd9-ba15ed96dd7a"
      },
      "execution_count": null,
      "outputs": [
        {
          "output_type": "execute_result",
          "data": {
            "text/plain": [
              "2"
            ]
          },
          "metadata": {},
          "execution_count": 21
        }
      ]
    },
    {
      "cell_type": "code",
      "source": [
        "tf.random.shuffle(not_shuffled)"
      ],
      "metadata": {
        "colab": {
          "base_uri": "https://localhost:8080/"
        },
        "id": "o3ku9c5YRUdK",
        "outputId": "cd68ed9c-3585-417d-c3aa-2f54fa7072ae"
      },
      "execution_count": null,
      "outputs": [
        {
          "output_type": "execute_result",
          "data": {
            "text/plain": [
              "<tf.Tensor: shape=(3, 2), dtype=int32, numpy=\n",
              "array([[ 2,  5],\n",
              "       [10,  7],\n",
              "       [ 3,  4]], dtype=int32)>"
            ]
          },
          "metadata": {},
          "execution_count": 22
        }
      ]
    },
    {
      "cell_type": "markdown",
      "source": [
        "Operations that rely on a random seed actually derive it from two seeds: the global and operation-level seeds. This sets the global seed.\n",
        "\n",
        "Its interactions with operation-level seeds is as follows:\n",
        "\n",
        "* If neither the global seed nor the operation seed is set: A randomly picked seed is used for this op.\n",
        "\n",
        "* If the global seed is set, but the operation seed is not: The system deterministically picks an operation seed in conjunction with the global seed so that it gets a unique random sequence. Within the same version of tensorflow and user code, this sequence is deterministic. However across different versions, this sequence might change. If the code depends on particular seeds to work, specify both global and operation-level seeds explicitly.\n",
        "\n",
        "* If the operation seed is set, but the global seed is not set: A default global seed and the specified operation seed are used to determine the random sequence.\n",
        "* If both the global and the operation seed are set: Both seeds are used in conjunction to determine the random sequence.\n",
        "\n",
        "https://www.tensorflow.org/api_docs/python/tf/random/set_seed\n"
      ],
      "metadata": {
        "id": "ujNJMfVlTQqj"
      }
    },
    {
      "cell_type": "code",
      "source": [
        "tf.random.set_seed(12) # global level\n",
        "tf.random.shuffle(not_shuffled, seed = 12) # operation level"
      ],
      "metadata": {
        "colab": {
          "base_uri": "https://localhost:8080/"
        },
        "id": "WvtJDxCmRZXd",
        "outputId": "3a456140-ada9-4d4e-ea10-80a9de5a6eca"
      },
      "execution_count": null,
      "outputs": [
        {
          "output_type": "execute_result",
          "data": {
            "text/plain": [
              "<tf.Tensor: shape=(3, 2), dtype=int32, numpy=\n",
              "array([[ 2,  5],\n",
              "       [ 3,  4],\n",
              "       [10,  7]], dtype=int32)>"
            ]
          },
          "metadata": {},
          "execution_count": 23
        }
      ]
    },
    {
      "cell_type": "markdown",
      "source": [
        "### Other Methods to Create Tensors"
      ],
      "metadata": {
        "id": "rK19yFP9Snsv"
      }
    },
    {
      "cell_type": "code",
      "source": [
        "# Create a tensor of 1s\n",
        "# https://www.tensorflow.org/api_docs/python/tf/ones\n",
        "\n",
        "tf.ones([3, 4])"
      ],
      "metadata": {
        "colab": {
          "base_uri": "https://localhost:8080/"
        },
        "id": "0wAg8-hXTsiX",
        "outputId": "40d33485-df95-4a64-c45f-87b1476bf141"
      },
      "execution_count": null,
      "outputs": [
        {
          "output_type": "execute_result",
          "data": {
            "text/plain": [
              "<tf.Tensor: shape=(3, 4), dtype=float32, numpy=\n",
              "array([[1., 1., 1., 1.],\n",
              "       [1., 1., 1., 1.],\n",
              "       [1., 1., 1., 1.]], dtype=float32)>"
            ]
          },
          "metadata": {},
          "execution_count": 24
        }
      ]
    },
    {
      "cell_type": "code",
      "source": [
        "# Create a tensor of 0s\n",
        "# https://www.tensorflow.org/api_docs/python/tf/zeros\n",
        "\n",
        "tf.zeros([3, 4])"
      ],
      "metadata": {
        "colab": {
          "base_uri": "https://localhost:8080/"
        },
        "id": "XgZJiM0WT6Bo",
        "outputId": "6e13f9d2-06ab-4f74-8289-5a9f9568ac71"
      },
      "execution_count": null,
      "outputs": [
        {
          "output_type": "execute_result",
          "data": {
            "text/plain": [
              "<tf.Tensor: shape=(3, 4), dtype=float32, numpy=\n",
              "array([[0., 0., 0., 0.],\n",
              "       [0., 0., 0., 0.],\n",
              "       [0., 0., 0., 0.]], dtype=float32)>"
            ]
          },
          "metadata": {},
          "execution_count": 25
        }
      ]
    },
    {
      "cell_type": "markdown",
      "source": [
        "### Turn NumPy Arrays Into Tensors"
      ],
      "metadata": {
        "id": "xzt_v8_SUIeE"
      }
    },
    {
      "cell_type": "code",
      "source": [
        "# You can turn NumPy arrays into tensor\n",
        "# Creating a tensor using .constant and call the variable of the numpy array\n",
        "\n",
        "import numpy as np\n",
        "numpy_A = np.arange(1, 25, dtype = np.int32) # create array between 1 and 25\n",
        "numpy_A"
      ],
      "metadata": {
        "colab": {
          "base_uri": "https://localhost:8080/"
        },
        "id": "KrSENFzZUAnh",
        "outputId": "a528c7b2-d713-4d13-f8a0-417e416bbc55"
      },
      "execution_count": null,
      "outputs": [
        {
          "output_type": "execute_result",
          "data": {
            "text/plain": [
              "array([ 1,  2,  3,  4,  5,  6,  7,  8,  9, 10, 11, 12, 13, 14, 15, 16, 17,\n",
              "       18, 19, 20, 21, 22, 23, 24], dtype=int32)"
            ]
          },
          "metadata": {},
          "execution_count": 26
        }
      ]
    },
    {
      "cell_type": "code",
      "source": [
        "A = tf.constant(numpy_A)\n",
        "A"
      ],
      "metadata": {
        "colab": {
          "base_uri": "https://localhost:8080/"
        },
        "id": "JFxNv5CcUkh9",
        "outputId": "d373bee1-2408-4eb7-8d46-eb49169401a3"
      },
      "execution_count": null,
      "outputs": [
        {
          "output_type": "execute_result",
          "data": {
            "text/plain": [
              "<tf.Tensor: shape=(24,), dtype=int32, numpy=\n",
              "array([ 1,  2,  3,  4,  5,  6,  7,  8,  9, 10, 11, 12, 13, 14, 15, 16, 17,\n",
              "       18, 19, 20, 21, 22, 23, 24], dtype=int32)>"
            ]
          },
          "metadata": {},
          "execution_count": 27
        }
      ]
    },
    {
      "cell_type": "code",
      "source": [
        "B = tf.constant(numpy_A, shape = (2, 3, 4))\n",
        "A, B"
      ],
      "metadata": {
        "colab": {
          "base_uri": "https://localhost:8080/"
        },
        "id": "tMjw6_1wUvFp",
        "outputId": "7032b6cb-e8fd-4394-a969-af582631bca4"
      },
      "execution_count": null,
      "outputs": [
        {
          "output_type": "execute_result",
          "data": {
            "text/plain": [
              "(<tf.Tensor: shape=(24,), dtype=int32, numpy=\n",
              " array([ 1,  2,  3,  4,  5,  6,  7,  8,  9, 10, 11, 12, 13, 14, 15, 16, 17,\n",
              "        18, 19, 20, 21, 22, 23, 24], dtype=int32)>,\n",
              " <tf.Tensor: shape=(2, 3, 4), dtype=int32, numpy=\n",
              " array([[[ 1,  2,  3,  4],\n",
              "         [ 5,  6,  7,  8],\n",
              "         [ 9, 10, 11, 12]],\n",
              " \n",
              "        [[13, 14, 15, 16],\n",
              "         [17, 18, 19, 20],\n",
              "         [21, 22, 23, 24]]], dtype=int32)>)"
            ]
          },
          "metadata": {},
          "execution_count": 28
        }
      ]
    },
    {
      "cell_type": "markdown",
      "source": [
        "### Getting Information from Tensors\n",
        "\n",
        "Attributes of tensors:\n",
        "\n",
        "* Shape\n",
        "* Rank\n",
        "* Axis or Dimension\n",
        "* Size"
      ],
      "metadata": {
        "id": "SElwmKtlU7Xm"
      }
    },
    {
      "cell_type": "markdown",
      "source": [
        "![image.png](data:image/png;base64,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)\n"
      ],
      "metadata": {
        "id": "NfX8LhKYW3sq"
      }
    },
    {
      "cell_type": "code",
      "source": [
        "# Create a rank 4 tensor (tensor with 4 dimensions)\n",
        "\n",
        "rank_4_tensor = tf.zeros(shape = [2, 3, 4, 5])\n",
        "rank_4_tensor"
      ],
      "metadata": {
        "colab": {
          "base_uri": "https://localhost:8080/"
        },
        "id": "cVrH_w27Vg-s",
        "outputId": "6e55bdb9-2c25-418c-8385-94c498f7c0de"
      },
      "execution_count": null,
      "outputs": [
        {
          "output_type": "execute_result",
          "data": {
            "text/plain": [
              "<tf.Tensor: shape=(2, 3, 4, 5), dtype=float32, numpy=\n",
              "array([[[[0., 0., 0., 0., 0.],\n",
              "         [0., 0., 0., 0., 0.],\n",
              "         [0., 0., 0., 0., 0.],\n",
              "         [0., 0., 0., 0., 0.]],\n",
              "\n",
              "        [[0., 0., 0., 0., 0.],\n",
              "         [0., 0., 0., 0., 0.],\n",
              "         [0., 0., 0., 0., 0.],\n",
              "         [0., 0., 0., 0., 0.]],\n",
              "\n",
              "        [[0., 0., 0., 0., 0.],\n",
              "         [0., 0., 0., 0., 0.],\n",
              "         [0., 0., 0., 0., 0.],\n",
              "         [0., 0., 0., 0., 0.]]],\n",
              "\n",
              "\n",
              "       [[[0., 0., 0., 0., 0.],\n",
              "         [0., 0., 0., 0., 0.],\n",
              "         [0., 0., 0., 0., 0.],\n",
              "         [0., 0., 0., 0., 0.]],\n",
              "\n",
              "        [[0., 0., 0., 0., 0.],\n",
              "         [0., 0., 0., 0., 0.],\n",
              "         [0., 0., 0., 0., 0.],\n",
              "         [0., 0., 0., 0., 0.]],\n",
              "\n",
              "        [[0., 0., 0., 0., 0.],\n",
              "         [0., 0., 0., 0., 0.],\n",
              "         [0., 0., 0., 0., 0.],\n",
              "         [0., 0., 0., 0., 0.]]]], dtype=float32)>"
            ]
          },
          "metadata": {},
          "execution_count": 29
        }
      ]
    },
    {
      "cell_type": "code",
      "source": [
        "rank_4_tensor[0]"
      ],
      "metadata": {
        "colab": {
          "base_uri": "https://localhost:8080/"
        },
        "id": "4SS8K6yjXCq5",
        "outputId": "22e2c33c-0fd7-46d2-b52f-7e99db6a08a1"
      },
      "execution_count": null,
      "outputs": [
        {
          "output_type": "execute_result",
          "data": {
            "text/plain": [
              "<tf.Tensor: shape=(3, 4, 5), dtype=float32, numpy=\n",
              "array([[[0., 0., 0., 0., 0.],\n",
              "        [0., 0., 0., 0., 0.],\n",
              "        [0., 0., 0., 0., 0.],\n",
              "        [0., 0., 0., 0., 0.]],\n",
              "\n",
              "       [[0., 0., 0., 0., 0.],\n",
              "        [0., 0., 0., 0., 0.],\n",
              "        [0., 0., 0., 0., 0.],\n",
              "        [0., 0., 0., 0., 0.]],\n",
              "\n",
              "       [[0., 0., 0., 0., 0.],\n",
              "        [0., 0., 0., 0., 0.],\n",
              "        [0., 0., 0., 0., 0.],\n",
              "        [0., 0., 0., 0., 0.]]], dtype=float32)>"
            ]
          },
          "metadata": {},
          "execution_count": 30
        }
      ]
    },
    {
      "cell_type": "code",
      "source": [
        "rank_4_tensor.shape, rank_4_tensor.ndim, tf.size(rank_4_tensor)"
      ],
      "metadata": {
        "colab": {
          "base_uri": "https://localhost:8080/"
        },
        "id": "T3jAOBz6Xa34",
        "outputId": "4cdd431b-b3ca-4fab-c97a-57cf45535b6b"
      },
      "execution_count": null,
      "outputs": [
        {
          "output_type": "execute_result",
          "data": {
            "text/plain": [
              "(TensorShape([2, 3, 4, 5]), 4, <tf.Tensor: shape=(), dtype=int32, numpy=120>)"
            ]
          },
          "metadata": {},
          "execution_count": 31
        }
      ]
    },
    {
      "cell_type": "code",
      "source": [
        "# Get various attributes of a tensor\n",
        "\n",
        "print(\"Datatype of every element:\", rank_4_tensor.dtype)\n",
        "print(\"Number of dimensions:\", rank_4_tensor.ndim)\n",
        "print(\"Shape of the tensor:\", rank_4_tensor.shape)\n",
        "print(\"Number of elements along the 0 axis:\", rank_4_tensor.shape[0])\n",
        "print(\"Number of elements along the last axis:\", rank_4_tensor.shape[-1])\n",
        "print(\"Total numbers of element in the tensor:\", tf.size(rank_4_tensor))"
      ],
      "metadata": {
        "colab": {
          "base_uri": "https://localhost:8080/"
        },
        "id": "4SVw2SsIXmsd",
        "outputId": "1a4c2c9c-3cb5-49f0-fdfd-5bab17c8c763"
      },
      "execution_count": null,
      "outputs": [
        {
          "output_type": "stream",
          "name": "stdout",
          "text": [
            "Datatype of every element: <dtype: 'float32'>\n",
            "Number of dimensions: 4\n",
            "Shape of the tensor: (2, 3, 4, 5)\n",
            "Number of elements along the 0 axis: 2\n",
            "Number of elements along the last axis: 5\n",
            "Total numbers of element in the tensor: tf.Tensor(120, shape=(), dtype=int32)\n"
          ]
        }
      ]
    },
    {
      "cell_type": "code",
      "source": [
        "print(\"Total numbers of element in the tensor:\", tf.size(rank_4_tensor).numpy())"
      ],
      "metadata": {
        "colab": {
          "base_uri": "https://localhost:8080/"
        },
        "id": "AbVJrIV8YOKR",
        "outputId": "79d2e294-916a-4015-a065-5efa655ee9b1"
      },
      "execution_count": null,
      "outputs": [
        {
          "output_type": "stream",
          "name": "stdout",
          "text": [
            "Total numbers of element in the tensor: 120\n"
          ]
        }
      ]
    },
    {
      "cell_type": "markdown",
      "source": [
        "### Indexing Tensors"
      ],
      "metadata": {
        "id": "sBdKWlxrYnq7"
      }
    },
    {
      "cell_type": "code",
      "source": [
        "ex_list = [1, 2, 3, 4]\n",
        "ex_list[:2]"
      ],
      "metadata": {
        "colab": {
          "base_uri": "https://localhost:8080/"
        },
        "id": "3NtTT_AZZPvo",
        "outputId": "056a097a-3219-43e4-b78c-6da9d4e0b942"
      },
      "execution_count": null,
      "outputs": [
        {
          "output_type": "execute_result",
          "data": {
            "text/plain": [
              "[1, 2]"
            ]
          },
          "metadata": {},
          "execution_count": 34
        }
      ]
    },
    {
      "cell_type": "code",
      "source": [
        "# Get the first 2 elements of each dimension\n",
        "\n",
        "rank_4_tensor[:2, :2, :2, :2]"
      ],
      "metadata": {
        "colab": {
          "base_uri": "https://localhost:8080/"
        },
        "id": "x-Qka2VNY3zC",
        "outputId": "7c8f769d-e4b6-4b71-9e66-018671e40573"
      },
      "execution_count": null,
      "outputs": [
        {
          "output_type": "execute_result",
          "data": {
            "text/plain": [
              "<tf.Tensor: shape=(2, 2, 2, 2), dtype=float32, numpy=\n",
              "array([[[[0., 0.],\n",
              "         [0., 0.]],\n",
              "\n",
              "        [[0., 0.],\n",
              "         [0., 0.]]],\n",
              "\n",
              "\n",
              "       [[[0., 0.],\n",
              "         [0., 0.]],\n",
              "\n",
              "        [[0., 0.],\n",
              "         [0., 0.]]]], dtype=float32)>"
            ]
          },
          "metadata": {},
          "execution_count": 35
        }
      ]
    },
    {
      "cell_type": "code",
      "source": [
        "rank_4_tensor.shape"
      ],
      "metadata": {
        "colab": {
          "base_uri": "https://localhost:8080/"
        },
        "id": "KmpH9hD1Z0ZI",
        "outputId": "bf8c5040-e87c-4e50-bb45-ec4f92598671"
      },
      "execution_count": null,
      "outputs": [
        {
          "output_type": "execute_result",
          "data": {
            "text/plain": [
              "TensorShape([2, 3, 4, 5])"
            ]
          },
          "metadata": {},
          "execution_count": 36
        }
      ]
    },
    {
      "cell_type": "code",
      "source": [
        "# Get the first element of each dimension from each index except the last one\n",
        "\n",
        "rank_4_tensor[:1, :1, :1]"
      ],
      "metadata": {
        "colab": {
          "base_uri": "https://localhost:8080/"
        },
        "id": "VHUwrWoyZMVp",
        "outputId": "bb1c528d-fe1a-4f99-833c-603b113e5d4f"
      },
      "execution_count": null,
      "outputs": [
        {
          "output_type": "execute_result",
          "data": {
            "text/plain": [
              "<tf.Tensor: shape=(1, 1, 1, 5), dtype=float32, numpy=array([[[[0., 0., 0., 0., 0.]]]], dtype=float32)>"
            ]
          },
          "metadata": {},
          "execution_count": 37
        }
      ]
    },
    {
      "cell_type": "code",
      "source": [
        "rank_4_tensor[:1, :1, :, :1]"
      ],
      "metadata": {
        "colab": {
          "base_uri": "https://localhost:8080/"
        },
        "id": "jmmBq6P5ZqvT",
        "outputId": "93a4f400-e741-4eb0-d04b-43cb656318b8"
      },
      "execution_count": null,
      "outputs": [
        {
          "output_type": "execute_result",
          "data": {
            "text/plain": [
              "<tf.Tensor: shape=(1, 1, 4, 1), dtype=float32, numpy=\n",
              "array([[[[0.],\n",
              "         [0.],\n",
              "         [0.],\n",
              "         [0.]]]], dtype=float32)>"
            ]
          },
          "metadata": {},
          "execution_count": 38
        }
      ]
    },
    {
      "cell_type": "code",
      "source": [
        "rank_4_tensor[:1, :, :1, :1]"
      ],
      "metadata": {
        "colab": {
          "base_uri": "https://localhost:8080/"
        },
        "id": "mVJVzcrXZ-VP",
        "outputId": "4ec81355-da4b-4fb4-f365-81d9d65aa946"
      },
      "execution_count": null,
      "outputs": [
        {
          "output_type": "execute_result",
          "data": {
            "text/plain": [
              "<tf.Tensor: shape=(1, 3, 1, 1), dtype=float32, numpy=\n",
              "array([[[[0.]],\n",
              "\n",
              "        [[0.]],\n",
              "\n",
              "        [[0.]]]], dtype=float32)>"
            ]
          },
          "metadata": {},
          "execution_count": 39
        }
      ]
    },
    {
      "cell_type": "code",
      "source": [
        "rank_4_tensor[:, :1, :1, :1]"
      ],
      "metadata": {
        "colab": {
          "base_uri": "https://localhost:8080/"
        },
        "id": "XILyWA3zaAPF",
        "outputId": "da07ed05-f15f-41da-ca9e-021a6c960928"
      },
      "execution_count": null,
      "outputs": [
        {
          "output_type": "execute_result",
          "data": {
            "text/plain": [
              "<tf.Tensor: shape=(2, 1, 1, 1), dtype=float32, numpy=\n",
              "array([[[[0.]]],\n",
              "\n",
              "\n",
              "       [[[0.]]]], dtype=float32)>"
            ]
          },
          "metadata": {},
          "execution_count": 40
        }
      ]
    },
    {
      "cell_type": "code",
      "source": [
        "# Create a rank 2 tensor\n",
        "\n",
        "rank_2_tensor = tf.constant([[10, 7],\n",
        "                             [3, 4]])\n",
        "rank_2_tensor.shape, rank_2_tensor.ndim"
      ],
      "metadata": {
        "colab": {
          "base_uri": "https://localhost:8080/"
        },
        "id": "Pe0eMm3aaBiz",
        "outputId": "e0087d4d-6639-40b1-f7d0-c25d5fe6fe4e"
      },
      "execution_count": null,
      "outputs": [
        {
          "output_type": "execute_result",
          "data": {
            "text/plain": [
              "(TensorShape([2, 2]), 2)"
            ]
          },
          "metadata": {},
          "execution_count": 41
        }
      ]
    },
    {
      "cell_type": "code",
      "source": [
        "ex_list, ex_list[-1]"
      ],
      "metadata": {
        "colab": {
          "base_uri": "https://localhost:8080/"
        },
        "id": "62Yz-0EvaX61",
        "outputId": "c84360ae-b16e-45d1-9634-878ac85f82e3"
      },
      "execution_count": null,
      "outputs": [
        {
          "output_type": "execute_result",
          "data": {
            "text/plain": [
              "([1, 2, 3, 4], 4)"
            ]
          },
          "metadata": {},
          "execution_count": 42
        }
      ]
    },
    {
      "cell_type": "code",
      "source": [
        "# Get the last item of each row\n",
        "\n",
        "rank_2_tensor[:, -1]"
      ],
      "metadata": {
        "colab": {
          "base_uri": "https://localhost:8080/"
        },
        "id": "xZ6sHo7gaNg_",
        "outputId": "c4aca7d6-2a26-4f0b-be48-a7f9dda2e3a5"
      },
      "execution_count": null,
      "outputs": [
        {
          "output_type": "execute_result",
          "data": {
            "text/plain": [
              "<tf.Tensor: shape=(2,), dtype=int32, numpy=array([7, 4], dtype=int32)>"
            ]
          },
          "metadata": {},
          "execution_count": 43
        }
      ]
    },
    {
      "cell_type": "code",
      "source": [
        "# Add extra dimension\n",
        "# https://www.tensorflow.org/api_docs/python/tf/Tensor#some_useful_examples_2\n",
        "\n",
        "rank_3_tensor = rank_2_tensor[..., tf.newaxis]\n",
        "rank_3_tensor"
      ],
      "metadata": {
        "colab": {
          "base_uri": "https://localhost:8080/"
        },
        "id": "BqNOid9NaSGt",
        "outputId": "55334f3b-b76f-451f-deae-9e5f34c5eb86"
      },
      "execution_count": null,
      "outputs": [
        {
          "output_type": "execute_result",
          "data": {
            "text/plain": [
              "<tf.Tensor: shape=(2, 2, 1), dtype=int32, numpy=\n",
              "array([[[10],\n",
              "        [ 7]],\n",
              "\n",
              "       [[ 3],\n",
              "        [ 4]]], dtype=int32)>"
            ]
          },
          "metadata": {},
          "execution_count": 44
        }
      ]
    },
    {
      "cell_type": "code",
      "source": [
        "# tf.newaxis alternative\n",
        "# https://www.tensorflow.org/api_docs/python/tf/expand_dims\n",
        "\n",
        "tf.expand_dims(rank_2_tensor, axis = -1) # -1 to expands the last axis"
      ],
      "metadata": {
        "colab": {
          "base_uri": "https://localhost:8080/"
        },
        "id": "xvyGT4faarDW",
        "outputId": "3a13548f-2781-4f15-8acf-b8ede1550627"
      },
      "execution_count": null,
      "outputs": [
        {
          "output_type": "execute_result",
          "data": {
            "text/plain": [
              "<tf.Tensor: shape=(2, 2, 1), dtype=int32, numpy=\n",
              "array([[[10],\n",
              "        [ 7]],\n",
              "\n",
              "       [[ 3],\n",
              "        [ 4]]], dtype=int32)>"
            ]
          },
          "metadata": {},
          "execution_count": 45
        }
      ]
    },
    {
      "cell_type": "code",
      "source": [
        "tf.expand_dims(rank_2_tensor, axis = 0) # 0 to expands the 0 axis"
      ],
      "metadata": {
        "colab": {
          "base_uri": "https://localhost:8080/"
        },
        "id": "UYvNwTyJcjUP",
        "outputId": "d049d948-2d64-4142-b799-d1638e335da4"
      },
      "execution_count": null,
      "outputs": [
        {
          "output_type": "execute_result",
          "data": {
            "text/plain": [
              "<tf.Tensor: shape=(1, 2, 2), dtype=int32, numpy=\n",
              "array([[[10,  7],\n",
              "        [ 3,  4]]], dtype=int32)>"
            ]
          },
          "metadata": {},
          "execution_count": 46
        }
      ]
    },
    {
      "cell_type": "markdown",
      "source": [
        "### Manipulating Tensors Using Tensor Operations"
      ],
      "metadata": {
        "id": "lNIE4qGYcw56"
      }
    },
    {
      "cell_type": "markdown",
      "source": [
        "#### Basic Operations"
      ],
      "metadata": {
        "id": "jQ2HgE2Lebt1"
      }
    },
    {
      "cell_type": "markdown",
      "source": [
        "##### Using Basic Python Operators"
      ],
      "metadata": {
        "id": "z_Aqw1lsdxxM"
      }
    },
    {
      "cell_type": "code",
      "source": [
        "# Add values using addition operator\n",
        "\n",
        "tensor = tf.constant([[10, 7],\n",
        "                      [3, 4]])\n",
        "tensor + 5"
      ],
      "metadata": {
        "colab": {
          "base_uri": "https://localhost:8080/"
        },
        "id": "zddi351ddCsy",
        "outputId": "223b8698-209d-4e14-d231-380dce99490d"
      },
      "execution_count": null,
      "outputs": [
        {
          "output_type": "execute_result",
          "data": {
            "text/plain": [
              "<tf.Tensor: shape=(2, 2), dtype=int32, numpy=\n",
              "array([[15, 12],\n",
              "       [ 8,  9]], dtype=int32)>"
            ]
          },
          "metadata": {},
          "execution_count": 47
        }
      ]
    },
    {
      "cell_type": "code",
      "source": [
        "# Multiply using multiply operator\n",
        "\n",
        "tensor * 5"
      ],
      "metadata": {
        "colab": {
          "base_uri": "https://localhost:8080/"
        },
        "id": "3cvizSY4dbcu",
        "outputId": "33d927fc-565f-4b8d-b9b6-335bbc6ce8b4"
      },
      "execution_count": null,
      "outputs": [
        {
          "output_type": "execute_result",
          "data": {
            "text/plain": [
              "<tf.Tensor: shape=(2, 2), dtype=int32, numpy=\n",
              "array([[50, 35],\n",
              "       [15, 20]], dtype=int32)>"
            ]
          },
          "metadata": {},
          "execution_count": 48
        }
      ]
    },
    {
      "cell_type": "code",
      "source": [
        "# Subtraction using subtraction operator\n",
        "\n",
        "tensor - 5"
      ],
      "metadata": {
        "colab": {
          "base_uri": "https://localhost:8080/"
        },
        "id": "vifiY6fxdr6g",
        "outputId": "9fd3d4af-54a5-456f-9aa7-1034fa927164"
      },
      "execution_count": null,
      "outputs": [
        {
          "output_type": "execute_result",
          "data": {
            "text/plain": [
              "<tf.Tensor: shape=(2, 2), dtype=int32, numpy=\n",
              "array([[ 5,  2],\n",
              "       [-2, -1]], dtype=int32)>"
            ]
          },
          "metadata": {},
          "execution_count": 49
        }
      ]
    },
    {
      "cell_type": "markdown",
      "source": [
        "##### Using Tensorflow Built-in Function\n",
        "\n",
        "https://www.tensorflow.org/api_docs/python/tf/math"
      ],
      "metadata": {
        "id": "8wwhEcBzd1uQ"
      }
    },
    {
      "cell_type": "code",
      "source": [
        "# Multiply\n",
        "\n",
        "tf.multiply(tensor, 5)"
      ],
      "metadata": {
        "colab": {
          "base_uri": "https://localhost:8080/"
        },
        "id": "1oSmuZb_dvDv",
        "outputId": "746d8dc3-8b67-4d4b-eb26-09af18e1b721"
      },
      "execution_count": null,
      "outputs": [
        {
          "output_type": "execute_result",
          "data": {
            "text/plain": [
              "<tf.Tensor: shape=(2, 2), dtype=int32, numpy=\n",
              "array([[50, 35],\n",
              "       [15, 20]], dtype=int32)>"
            ]
          },
          "metadata": {},
          "execution_count": 50
        }
      ]
    },
    {
      "cell_type": "code",
      "source": [
        "tf.add(tensor, 5)"
      ],
      "metadata": {
        "colab": {
          "base_uri": "https://localhost:8080/"
        },
        "id": "4VoVnD3HeGWB",
        "outputId": "58837f9e-eabb-4c88-a09d-691c20e1c459"
      },
      "execution_count": null,
      "outputs": [
        {
          "output_type": "execute_result",
          "data": {
            "text/plain": [
              "<tf.Tensor: shape=(2, 2), dtype=int32, numpy=\n",
              "array([[15, 12],\n",
              "       [ 8,  9]], dtype=int32)>"
            ]
          },
          "metadata": {},
          "execution_count": 51
        }
      ]
    },
    {
      "cell_type": "markdown",
      "source": [
        "#### Matrix Multiplication\n",
        "\n",
        "How to:\n",
        "https://www.mathsisfun.com/algebra/matrix-multiplying.html\n",
        "\n",
        "Visualization:\n",
        "http://matrixmultiplication.xyz/"
      ],
      "metadata": {
        "id": "pvDyPXAleZ-Q"
      }
    },
    {
      "cell_type": "code",
      "source": [
        "# Matrix multiplication in tensorflow\n",
        "# https://www.tensorflow.org/api_docs/python/tf/linalg/matmul\n",
        "\n",
        "print(tensor)\n",
        "tf.matmul(tensor, tensor)"
      ],
      "metadata": {
        "colab": {
          "base_uri": "https://localhost:8080/"
        },
        "id": "gisNL9XBeXko",
        "outputId": "49f43eee-2948-433e-918c-e69a1abd155f"
      },
      "execution_count": null,
      "outputs": [
        {
          "output_type": "stream",
          "name": "stdout",
          "text": [
            "tf.Tensor(\n",
            "[[10  7]\n",
            " [ 3  4]], shape=(2, 2), dtype=int32)\n"
          ]
        },
        {
          "output_type": "execute_result",
          "data": {
            "text/plain": [
              "<tf.Tensor: shape=(2, 2), dtype=int32, numpy=\n",
              "array([[121,  98],\n",
              "       [ 42,  37]], dtype=int32)>"
            ]
          },
          "metadata": {},
          "execution_count": 52
        }
      ]
    },
    {
      "cell_type": "code",
      "source": [
        "# Matrix multiplication with Python operator\n",
        "\n",
        "tensor @ tensor"
      ],
      "metadata": {
        "colab": {
          "base_uri": "https://localhost:8080/"
        },
        "id": "khQ8rDiMf3Rs",
        "outputId": "50c3301d-cb6a-4bdc-9b5d-1806542f3ff6"
      },
      "execution_count": null,
      "outputs": [
        {
          "output_type": "execute_result",
          "data": {
            "text/plain": [
              "<tf.Tensor: shape=(2, 2), dtype=int32, numpy=\n",
              "array([[121,  98],\n",
              "       [ 42,  37]], dtype=int32)>"
            ]
          },
          "metadata": {},
          "execution_count": 53
        }
      ]
    },
    {
      "cell_type": "code",
      "source": [
        "# Create two (3, 2) tensors\n",
        "\n",
        "X = tf.constant([[1, 2],\n",
        "                 [3, 4],\n",
        "                 [5, 6]])\n",
        "\n",
        "Y = tf.constant([[7, 8],\n",
        "                 [9, 10],\n",
        "                 [11, 12]])\n",
        "\n",
        "X, Y"
      ],
      "metadata": {
        "colab": {
          "base_uri": "https://localhost:8080/"
        },
        "id": "M3Vm67M-gMPl",
        "outputId": "27c41980-1317-4dbd-e704-8c38a12f8d39"
      },
      "execution_count": null,
      "outputs": [
        {
          "output_type": "execute_result",
          "data": {
            "text/plain": [
              "(<tf.Tensor: shape=(3, 2), dtype=int32, numpy=\n",
              " array([[1, 2],\n",
              "        [3, 4],\n",
              "        [5, 6]], dtype=int32)>, <tf.Tensor: shape=(3, 2), dtype=int32, numpy=\n",
              " array([[ 7,  8],\n",
              "        [ 9, 10],\n",
              "        [11, 12]], dtype=int32)>)"
            ]
          },
          "metadata": {},
          "execution_count": 54
        }
      ]
    },
    {
      "cell_type": "code",
      "source": [
        "# Matrix multiply tensors\n",
        "# The operation cannot be done because it doesn't fulfil the matrix multiplication condition\n",
        "\n",
        "tf.matmul(X, Y)"
      ],
      "metadata": {
        "id": "aMOut_Isgxol",
        "colab": {
          "base_uri": "https://localhost:8080/",
          "height": 398
        },
        "outputId": "b0a7422b-32e4-4d97-9e3b-a54ef75e4b97"
      },
      "execution_count": null,
      "outputs": [
        {
          "output_type": "error",
          "ename": "InvalidArgumentError",
          "evalue": "ignored",
          "traceback": [
            "\u001b[0;31m---------------------------------------------------------------------------\u001b[0m",
            "\u001b[0;31mInvalidArgumentError\u001b[0m                      Traceback (most recent call last)",
            "\u001b[0;32m<ipython-input-55-137a0b26c7ab>\u001b[0m in \u001b[0;36m<module>\u001b[0;34m()\u001b[0m\n\u001b[1;32m      1\u001b[0m \u001b[0;31m# Matrix multiply tensors\u001b[0m\u001b[0;34m\u001b[0m\u001b[0;34m\u001b[0m\u001b[0;34m\u001b[0m\u001b[0m\n\u001b[1;32m      2\u001b[0m \u001b[0;34m\u001b[0m\u001b[0m\n\u001b[0;32m----> 3\u001b[0;31m \u001b[0mtf\u001b[0m\u001b[0;34m.\u001b[0m\u001b[0mmatmul\u001b[0m\u001b[0;34m(\u001b[0m\u001b[0mX\u001b[0m\u001b[0;34m,\u001b[0m \u001b[0mY\u001b[0m\u001b[0;34m)\u001b[0m\u001b[0;34m\u001b[0m\u001b[0;34m\u001b[0m\u001b[0m\n\u001b[0m",
            "\u001b[0;32m/usr/local/lib/python3.7/dist-packages/tensorflow/python/util/traceback_utils.py\u001b[0m in \u001b[0;36merror_handler\u001b[0;34m(*args, **kwargs)\u001b[0m\n\u001b[1;32m    151\u001b[0m     \u001b[0;32mexcept\u001b[0m \u001b[0mException\u001b[0m \u001b[0;32mas\u001b[0m \u001b[0me\u001b[0m\u001b[0;34m:\u001b[0m\u001b[0;34m\u001b[0m\u001b[0;34m\u001b[0m\u001b[0m\n\u001b[1;32m    152\u001b[0m       \u001b[0mfiltered_tb\u001b[0m \u001b[0;34m=\u001b[0m \u001b[0m_process_traceback_frames\u001b[0m\u001b[0;34m(\u001b[0m\u001b[0me\u001b[0m\u001b[0;34m.\u001b[0m\u001b[0m__traceback__\u001b[0m\u001b[0;34m)\u001b[0m\u001b[0;34m\u001b[0m\u001b[0;34m\u001b[0m\u001b[0m\n\u001b[0;32m--> 153\u001b[0;31m       \u001b[0;32mraise\u001b[0m \u001b[0me\u001b[0m\u001b[0;34m.\u001b[0m\u001b[0mwith_traceback\u001b[0m\u001b[0;34m(\u001b[0m\u001b[0mfiltered_tb\u001b[0m\u001b[0;34m)\u001b[0m \u001b[0;32mfrom\u001b[0m \u001b[0;32mNone\u001b[0m\u001b[0;34m\u001b[0m\u001b[0;34m\u001b[0m\u001b[0m\n\u001b[0m\u001b[1;32m    154\u001b[0m     \u001b[0;32mfinally\u001b[0m\u001b[0;34m:\u001b[0m\u001b[0;34m\u001b[0m\u001b[0;34m\u001b[0m\u001b[0m\n\u001b[1;32m    155\u001b[0m       \u001b[0;32mdel\u001b[0m \u001b[0mfiltered_tb\u001b[0m\u001b[0;34m\u001b[0m\u001b[0;34m\u001b[0m\u001b[0m\n",
            "\u001b[0;32m/usr/local/lib/python3.7/dist-packages/tensorflow/python/framework/ops.py\u001b[0m in \u001b[0;36mraise_from_not_ok_status\u001b[0;34m(e, name)\u001b[0m\n\u001b[1;32m   7105\u001b[0m \u001b[0;32mdef\u001b[0m \u001b[0mraise_from_not_ok_status\u001b[0m\u001b[0;34m(\u001b[0m\u001b[0me\u001b[0m\u001b[0;34m,\u001b[0m \u001b[0mname\u001b[0m\u001b[0;34m)\u001b[0m\u001b[0;34m:\u001b[0m\u001b[0;34m\u001b[0m\u001b[0;34m\u001b[0m\u001b[0m\n\u001b[1;32m   7106\u001b[0m   \u001b[0me\u001b[0m\u001b[0;34m.\u001b[0m\u001b[0mmessage\u001b[0m \u001b[0;34m+=\u001b[0m \u001b[0;34m(\u001b[0m\u001b[0;34m\" name: \"\u001b[0m \u001b[0;34m+\u001b[0m \u001b[0mname\u001b[0m \u001b[0;32mif\u001b[0m \u001b[0mname\u001b[0m \u001b[0;32mis\u001b[0m \u001b[0;32mnot\u001b[0m \u001b[0;32mNone\u001b[0m \u001b[0;32melse\u001b[0m \u001b[0;34m\"\"\u001b[0m\u001b[0;34m)\u001b[0m\u001b[0;34m\u001b[0m\u001b[0;34m\u001b[0m\u001b[0m\n\u001b[0;32m-> 7107\u001b[0;31m   \u001b[0;32mraise\u001b[0m \u001b[0mcore\u001b[0m\u001b[0;34m.\u001b[0m\u001b[0m_status_to_exception\u001b[0m\u001b[0;34m(\u001b[0m\u001b[0me\u001b[0m\u001b[0;34m)\u001b[0m \u001b[0;32mfrom\u001b[0m \u001b[0;32mNone\u001b[0m  \u001b[0;31m# pylint: disable=protected-access\u001b[0m\u001b[0;34m\u001b[0m\u001b[0;34m\u001b[0m\u001b[0m\n\u001b[0m\u001b[1;32m   7108\u001b[0m \u001b[0;34m\u001b[0m\u001b[0m\n\u001b[1;32m   7109\u001b[0m \u001b[0;34m\u001b[0m\u001b[0m\n",
            "\u001b[0;31mInvalidArgumentError\u001b[0m: Matrix size-incompatible: In[0]: [3,2], In[1]: [3,2] [Op:MatMul]"
          ]
        }
      ]
    },
    {
      "cell_type": "code",
      "source": [
        "# Reshape one of the tensors using .reshape()\n",
        "# https://www.tensorflow.org/api_docs/python/tf/reshape\n",
        "\n",
        "tf.reshape(Y, shape = (2, 3))"
      ],
      "metadata": {
        "colab": {
          "base_uri": "https://localhost:8080/"
        },
        "id": "nYmFZjKcxDDk",
        "outputId": "dc9bd3bd-824e-47b1-c0b8-fdfce6e32d70"
      },
      "execution_count": null,
      "outputs": [
        {
          "output_type": "execute_result",
          "data": {
            "text/plain": [
              "<tf.Tensor: shape=(2, 3), dtype=int32, numpy=\n",
              "array([[ 7,  8,  9],\n",
              "       [10, 11, 12]], dtype=int32)>"
            ]
          },
          "metadata": {},
          "execution_count": 56
        }
      ]
    },
    {
      "cell_type": "code",
      "source": [
        "X @ tf.reshape(Y, shape = (2, 3))"
      ],
      "metadata": {
        "colab": {
          "base_uri": "https://localhost:8080/"
        },
        "id": "lRXzz6vRxXr9",
        "outputId": "9cf3ce0f-5147-4ecb-a5d3-39abd637f3b2"
      },
      "execution_count": null,
      "outputs": [
        {
          "output_type": "execute_result",
          "data": {
            "text/plain": [
              "<tf.Tensor: shape=(3, 3), dtype=int32, numpy=\n",
              "array([[ 27,  30,  33],\n",
              "       [ 61,  68,  75],\n",
              "       [ 95, 106, 117]], dtype=int32)>"
            ]
          },
          "metadata": {},
          "execution_count": 57
        }
      ]
    },
    {
      "cell_type": "code",
      "source": [
        "tf.matmul(X, tf.reshape(Y, shape = (2, 3)))"
      ],
      "metadata": {
        "colab": {
          "base_uri": "https://localhost:8080/"
        },
        "id": "g5akHDO-xuMG",
        "outputId": "6edbd848-a821-4c8a-a35d-3a778e54f16f"
      },
      "execution_count": null,
      "outputs": [
        {
          "output_type": "execute_result",
          "data": {
            "text/plain": [
              "<tf.Tensor: shape=(3, 3), dtype=int32, numpy=\n",
              "array([[ 27,  30,  33],\n",
              "       [ 61,  68,  75],\n",
              "       [ 95, 106, 117]], dtype=int32)>"
            ]
          },
          "metadata": {},
          "execution_count": 58
        }
      ]
    },
    {
      "cell_type": "code",
      "source": [
        "tf.matmul(tf.reshape(X, shape = (2, 3)), Y)"
      ],
      "metadata": {
        "colab": {
          "base_uri": "https://localhost:8080/"
        },
        "id": "w_G8rBdFx0Ml",
        "outputId": "89e8e78c-4a86-408a-de93-a39dabfa5c5c"
      },
      "execution_count": null,
      "outputs": [
        {
          "output_type": "execute_result",
          "data": {
            "text/plain": [
              "<tf.Tensor: shape=(2, 2), dtype=int32, numpy=\n",
              "array([[ 58,  64],\n",
              "       [139, 154]], dtype=int32)>"
            ]
          },
          "metadata": {},
          "execution_count": 59
        }
      ]
    },
    {
      "cell_type": "code",
      "source": [
        "# Reshape using transpose\n",
        "# The results are different because transpose flips the axis while .reshape\n",
        "# shuffles the elements\n",
        "\n",
        "tf.matmul(tf.transpose(X), Y)"
      ],
      "metadata": {
        "colab": {
          "base_uri": "https://localhost:8080/"
        },
        "id": "lnDev99mx6_u",
        "outputId": "0b6e984b-3704-4945-b16a-9eaf27adca3c"
      },
      "execution_count": null,
      "outputs": [
        {
          "output_type": "execute_result",
          "data": {
            "text/plain": [
              "<tf.Tensor: shape=(2, 2), dtype=int32, numpy=\n",
              "array([[ 89,  98],\n",
              "       [116, 128]], dtype=int32)>"
            ]
          },
          "metadata": {},
          "execution_count": 60
        }
      ]
    },
    {
      "cell_type": "markdown",
      "source": [
        "**The dot product**\n",
        "\n",
        "Perform dot product using\n",
        "* `tf.matmul()`\n",
        "* `tf.tensordot()`\n",
        "\n",
        "https://www.tensorflow.org/api_docs/python/tf/tensordot"
      ],
      "metadata": {
        "id": "rzpbW66ryvxk"
      }
    },
    {
      "cell_type": "code",
      "source": [
        "X, Y"
      ],
      "metadata": {
        "colab": {
          "base_uri": "https://localhost:8080/"
        },
        "id": "9RVH_JuO0Dn3",
        "outputId": "f3d3fb68-6654-4c5f-9713-8f5183af01aa"
      },
      "execution_count": null,
      "outputs": [
        {
          "output_type": "execute_result",
          "data": {
            "text/plain": [
              "(<tf.Tensor: shape=(3, 2), dtype=int32, numpy=\n",
              " array([[1, 2],\n",
              "        [3, 4],\n",
              "        [5, 6]], dtype=int32)>, <tf.Tensor: shape=(3, 2), dtype=int32, numpy=\n",
              " array([[ 7,  8],\n",
              "        [ 9, 10],\n",
              "        [11, 12]], dtype=int32)>)"
            ]
          },
          "metadata": {},
          "execution_count": 61
        }
      ]
    },
    {
      "cell_type": "code",
      "source": [
        "# Perform dot product on X and Y\n",
        "\n",
        "tf.tensordot(tf.transpose(X), Y, axes = 1)"
      ],
      "metadata": {
        "colab": {
          "base_uri": "https://localhost:8080/"
        },
        "id": "GmYTaj_lzunh",
        "outputId": "27e7358c-1c9a-4bc5-ebd4-ce8680f1467f"
      },
      "execution_count": null,
      "outputs": [
        {
          "output_type": "execute_result",
          "data": {
            "text/plain": [
              "<tf.Tensor: shape=(2, 2), dtype=int32, numpy=\n",
              "array([[ 89,  98],\n",
              "       [116, 128]], dtype=int32)>"
            ]
          },
          "metadata": {},
          "execution_count": 62
        }
      ]
    },
    {
      "cell_type": "code",
      "source": [
        "# Perform matrix multiplication X and Y transposed\n",
        "\n",
        "tf.matmul(X, tf.transpose(Y))"
      ],
      "metadata": {
        "colab": {
          "base_uri": "https://localhost:8080/"
        },
        "id": "FGPvp9TE0ICt",
        "outputId": "8b223829-fa0a-4902-f0b8-5d82ae083a40"
      },
      "execution_count": null,
      "outputs": [
        {
          "output_type": "execute_result",
          "data": {
            "text/plain": [
              "<tf.Tensor: shape=(3, 3), dtype=int32, numpy=\n",
              "array([[ 23,  29,  35],\n",
              "       [ 53,  67,  81],\n",
              "       [ 83, 105, 127]], dtype=int32)>"
            ]
          },
          "metadata": {},
          "execution_count": 63
        }
      ]
    },
    {
      "cell_type": "code",
      "source": [
        "# Perform matrix multiplication X and Y reshaped\n",
        "\n",
        "tf.matmul(X, tf.reshape(Y, shape = (2, 3)))"
      ],
      "metadata": {
        "colab": {
          "base_uri": "https://localhost:8080/"
        },
        "id": "guL8dsdm0oPA",
        "outputId": "7a8f3fe7-7d76-482b-df82-d57155172235"
      },
      "execution_count": null,
      "outputs": [
        {
          "output_type": "execute_result",
          "data": {
            "text/plain": [
              "<tf.Tensor: shape=(3, 3), dtype=int32, numpy=\n",
              "array([[ 27,  30,  33],\n",
              "       [ 61,  68,  75],\n",
              "       [ 95, 106, 117]], dtype=int32)>"
            ]
          },
          "metadata": {},
          "execution_count": 64
        }
      ]
    },
    {
      "cell_type": "code",
      "source": [
        "# Check values of Y\n",
        "\n",
        "print(\"Normal Y:\")\n",
        "print(Y)\n",
        "\n",
        "print(\"Y reshaped to (2, 3):\")\n",
        "print(tf.reshape(Y, shape = (2, 3)))\n",
        "\n",
        "print(\"Y transposed\")\n",
        "print(tf.transpose(Y))"
      ],
      "metadata": {
        "colab": {
          "base_uri": "https://localhost:8080/"
        },
        "id": "i8rbsafZ0yax",
        "outputId": "51a1156b-94b1-4dee-d9a1-6ba9028cdd8a"
      },
      "execution_count": null,
      "outputs": [
        {
          "output_type": "stream",
          "name": "stdout",
          "text": [
            "Normal Y:\n",
            "tf.Tensor(\n",
            "[[ 7  8]\n",
            " [ 9 10]\n",
            " [11 12]], shape=(3, 2), dtype=int32)\n",
            "Y reshaped to (2, 3):\n",
            "tf.Tensor(\n",
            "[[ 7  8  9]\n",
            " [10 11 12]], shape=(2, 3), dtype=int32)\n",
            "Y transposed\n",
            "tf.Tensor(\n",
            "[[ 7  9 11]\n",
            " [ 8 10 12]], shape=(2, 3), dtype=int32)\n"
          ]
        }
      ]
    },
    {
      "cell_type": "markdown",
      "source": [
        "### Change Tensor Datatype"
      ],
      "metadata": {
        "id": "ry_MySG51R5b"
      }
    },
    {
      "cell_type": "code",
      "source": [
        "# Create new tensor\n",
        "# If the datatype isn't specified, it will take the inferred type of the assigned values\n",
        "\n",
        "B = tf.constant([1.7, 7.4])\n",
        "B.dtype"
      ],
      "metadata": {
        "colab": {
          "base_uri": "https://localhost:8080/"
        },
        "id": "Y1l92eKc10uK",
        "outputId": "6ec1d28a-4508-456a-8d39-53539e060dcd"
      },
      "execution_count": null,
      "outputs": [
        {
          "output_type": "execute_result",
          "data": {
            "text/plain": [
              "tf.float32"
            ]
          },
          "metadata": {},
          "execution_count": 68
        }
      ]
    },
    {
      "cell_type": "code",
      "source": [
        "C = tf.constant([7, 10])\n",
        "C.dtype"
      ],
      "metadata": {
        "colab": {
          "base_uri": "https://localhost:8080/"
        },
        "id": "hBeioyHw17pM",
        "outputId": "9473e190-1945-476d-cdd7-c39cbe7dacc8"
      },
      "execution_count": null,
      "outputs": [
        {
          "output_type": "execute_result",
          "data": {
            "text/plain": [
              "tf.int32"
            ]
          },
          "metadata": {},
          "execution_count": 69
        }
      ]
    },
    {
      "cell_type": "code",
      "source": [
        "# Change from float32 to float16\n",
        "# https://www.tensorflow.org/api_docs/python/tf/cast\n",
        "\n",
        "D = tf.cast(B, dtype = tf.float16)\n",
        "D, D.dtype\n"
      ],
      "metadata": {
        "colab": {
          "base_uri": "https://localhost:8080/"
        },
        "id": "4Wqb862c1-ii",
        "outputId": "c4fa9bc9-ecd9-4554-cca8-1a4f397cf577"
      },
      "execution_count": null,
      "outputs": [
        {
          "output_type": "execute_result",
          "data": {
            "text/plain": [
              "(<tf.Tensor: shape=(2,), dtype=float16, numpy=array([1.7, 7.4], dtype=float16)>,\n",
              " tf.float16)"
            ]
          },
          "metadata": {},
          "execution_count": 71
        }
      ]
    },
    {
      "cell_type": "code",
      "source": [
        "# int32 to float32\n",
        "\n",
        "E = tf.cast(C, dtype = tf.float32)\n",
        "E, E.dtype"
      ],
      "metadata": {
        "colab": {
          "base_uri": "https://localhost:8080/"
        },
        "id": "U66uTwz521IA",
        "outputId": "d5e519d3-ee2f-4ba5-da4e-3c3b9e9fdce1"
      },
      "execution_count": null,
      "outputs": [
        {
          "output_type": "execute_result",
          "data": {
            "text/plain": [
              "(<tf.Tensor: shape=(2,), dtype=float32, numpy=array([ 7., 10.], dtype=float32)>,\n",
              " tf.float32)"
            ]
          },
          "metadata": {},
          "execution_count": 73
        }
      ]
    },
    {
      "cell_type": "markdown",
      "source": [
        "### Aggregating Tensors"
      ],
      "metadata": {
        "id": "X8oVLE2U3Gpc"
      }
    },
    {
      "cell_type": "code",
      "source": [
        "D = tf.constant([-7, -10])\n",
        "D"
      ],
      "metadata": {
        "colab": {
          "base_uri": "https://localhost:8080/"
        },
        "id": "XOm638oD3bNR",
        "outputId": "abea0357-1738-45b5-9d7f-abc761c5be8e"
      },
      "execution_count": null,
      "outputs": [
        {
          "output_type": "execute_result",
          "data": {
            "text/plain": [
              "<tf.Tensor: shape=(2,), dtype=int32, numpy=array([ -7, -10], dtype=int32)>"
            ]
          },
          "metadata": {},
          "execution_count": 74
        }
      ]
    },
    {
      "cell_type": "code",
      "source": [
        "# Get the absolute values\n",
        "\n",
        "tf.abs(D)"
      ],
      "metadata": {
        "colab": {
          "base_uri": "https://localhost:8080/"
        },
        "id": "Vbqn8DZf39M-",
        "outputId": "59e81964-1648-485b-f812-09a7b5718f89"
      },
      "execution_count": null,
      "outputs": [
        {
          "output_type": "execute_result",
          "data": {
            "text/plain": [
              "<tf.Tensor: shape=(2,), dtype=int32, numpy=array([ 7, 10], dtype=int32)>"
            ]
          },
          "metadata": {},
          "execution_count": 75
        }
      ]
    },
    {
      "cell_type": "markdown",
      "source": [
        "Forms of aggregation:\n",
        "* Get the minimum\n",
        "* Get the maximum\n",
        "* Get the mean of a tensor\n",
        "* Get the sum of a tensor"
      ],
      "metadata": {
        "id": "r9jt00ms4CCq"
      }
    },
    {
      "cell_type": "code",
      "source": [
        "# Create a random tensor\n",
        "\n",
        "E = tf.constant(np.random.randint(0, 100, size = 50))"
      ],
      "metadata": {
        "id": "6vqc_etZ4Xdn"
      },
      "execution_count": null,
      "outputs": []
    },
    {
      "cell_type": "code",
      "source": [
        "tf.size(E), E.shape, E.ndim"
      ],
      "metadata": {
        "colab": {
          "base_uri": "https://localhost:8080/"
        },
        "id": "oOW8bPAo4gmH",
        "outputId": "98bb10e1-c806-4bee-d084-10d36ca54d9f"
      },
      "execution_count": null,
      "outputs": [
        {
          "output_type": "execute_result",
          "data": {
            "text/plain": [
              "(<tf.Tensor: shape=(), dtype=int32, numpy=50>, TensorShape([50]), 1)"
            ]
          },
          "metadata": {},
          "execution_count": 77
        }
      ]
    },
    {
      "cell_type": "code",
      "source": [
        "# Find the minimum\n",
        "\n",
        "tf.reduce_min(E)"
      ],
      "metadata": {
        "colab": {
          "base_uri": "https://localhost:8080/"
        },
        "id": "D-fMDEjQ4kiV",
        "outputId": "2b298144-2425-4d79-cee7-b40ed02c5d90"
      },
      "execution_count": null,
      "outputs": [
        {
          "output_type": "execute_result",
          "data": {
            "text/plain": [
              "<tf.Tensor: shape=(), dtype=int64, numpy=0>"
            ]
          },
          "metadata": {},
          "execution_count": 78
        }
      ]
    },
    {
      "cell_type": "code",
      "source": [
        "# Find the maximum\n",
        "\n",
        "tf.reduce_max(E)"
      ],
      "metadata": {
        "id": "O66BhzQz4n9f",
        "colab": {
          "base_uri": "https://localhost:8080/"
        },
        "outputId": "8c446836-6297-4194-f989-51356f8cde69"
      },
      "execution_count": null,
      "outputs": [
        {
          "output_type": "execute_result",
          "data": {
            "text/plain": [
              "<tf.Tensor: shape=(), dtype=int64, numpy=98>"
            ]
          },
          "metadata": {},
          "execution_count": 79
        }
      ]
    },
    {
      "cell_type": "code",
      "source": [
        "# Find the sum\n",
        "\n",
        "tf.reduce_sum(E)"
      ],
      "metadata": {
        "id": "T4Aws0jX4yvq",
        "colab": {
          "base_uri": "https://localhost:8080/"
        },
        "outputId": "f949b106-a38f-48f7-857f-db4891cc82d6"
      },
      "execution_count": null,
      "outputs": [
        {
          "output_type": "execute_result",
          "data": {
            "text/plain": [
              "<tf.Tensor: shape=(), dtype=int64, numpy=2493>"
            ]
          },
          "metadata": {},
          "execution_count": 80
        }
      ]
    },
    {
      "cell_type": "code",
      "source": [
        "# Find the variance\n",
        "\n",
        "import tensorflow_probability as tfp\n",
        "\n",
        "tfp.stats.variance(E)"
      ],
      "metadata": {
        "colab": {
          "base_uri": "https://localhost:8080/"
        },
        "id": "G_m5Gwd98EIq",
        "outputId": "431da16a-de05-4c0c-feb1-2a12da6666f2"
      },
      "execution_count": 83,
      "outputs": [
        {
          "output_type": "execute_result",
          "data": {
            "text/plain": [
              "<tf.Tensor: shape=(), dtype=int64, numpy=1000>"
            ]
          },
          "metadata": {},
          "execution_count": 83
        }
      ]
    },
    {
      "cell_type": "code",
      "source": [
        "# Find the standard deviation\n",
        "# Input must be real or complex (float or complex)\n",
        "# https://www.tensorflow.org/api_docs/python/tf/math/reduce_std\n",
        "\n",
        "tf.math.reduce_std(tf.cast(E, dtype = tf.float32))"
      ],
      "metadata": {
        "id": "FZ6GKb_i8d5D",
        "colab": {
          "base_uri": "https://localhost:8080/"
        },
        "outputId": "df714c8e-5bbb-40a7-9ccb-88fba7c5059b"
      },
      "execution_count": 88,
      "outputs": [
        {
          "output_type": "execute_result",
          "data": {
            "text/plain": [
              "<tf.Tensor: shape=(), dtype=float32, numpy=31.618355>"
            ]
          },
          "metadata": {},
          "execution_count": 88
        }
      ]
    },
    {
      "cell_type": "code",
      "source": [
        "tf.math.reduce_variance(tf.cast(E, dtype = tf.float32))"
      ],
      "metadata": {
        "colab": {
          "base_uri": "https://localhost:8080/"
        },
        "id": "QbiK1RiNEajh",
        "outputId": "cd0cb377-6ad9-4791-f8e8-6c6d63e8bbc5"
      },
      "execution_count": 89,
      "outputs": [
        {
          "output_type": "execute_result",
          "data": {
            "text/plain": [
              "<tf.Tensor: shape=(), dtype=float32, numpy=999.7204>"
            ]
          },
          "metadata": {},
          "execution_count": 89
        }
      ]
    },
    {
      "cell_type": "markdown",
      "source": [
        "### Find The Positional Maximum and Minimum"
      ],
      "metadata": {
        "id": "HSnvT1Rc8xMS"
      }
    },
    {
      "cell_type": "code",
      "source": [
        "# Create new tensor\n",
        "\n",
        "tf.random.set_seed(42)\n",
        "F = tf.random.uniform(shape = [50])\n",
        "F"
      ],
      "metadata": {
        "colab": {
          "base_uri": "https://localhost:8080/"
        },
        "id": "ijwHtaixDkFq",
        "outputId": "e2533c4e-2224-4365-f604-b980403d8640"
      },
      "execution_count": 91,
      "outputs": [
        {
          "output_type": "execute_result",
          "data": {
            "text/plain": [
              "<tf.Tensor: shape=(50,), dtype=float32, numpy=\n",
              "array([0.6645621 , 0.44100678, 0.3528825 , 0.46448255, 0.03366041,\n",
              "       0.68467236, 0.74011743, 0.8724445 , 0.22632635, 0.22319686,\n",
              "       0.3103881 , 0.7223358 , 0.13318717, 0.5480639 , 0.5746088 ,\n",
              "       0.8996835 , 0.00946367, 0.5212307 , 0.6345445 , 0.1993283 ,\n",
              "       0.72942245, 0.54583454, 0.10756552, 0.6767061 , 0.6602763 ,\n",
              "       0.33695042, 0.60141766, 0.21062577, 0.8527372 , 0.44062173,\n",
              "       0.9485276 , 0.23752594, 0.81179297, 0.5263394 , 0.494308  ,\n",
              "       0.21612847, 0.8457197 , 0.8718841 , 0.3083862 , 0.6868038 ,\n",
              "       0.23764038, 0.7817228 , 0.9671384 , 0.06870162, 0.79873943,\n",
              "       0.66028714, 0.5871513 , 0.16461694, 0.7381023 , 0.32054043],\n",
              "      dtype=float32)>"
            ]
          },
          "metadata": {},
          "execution_count": 91
        }
      ]
    },
    {
      "cell_type": "code",
      "source": [
        "# Find the positional maximum\n",
        "# https://www.tensorflow.org/api_docs/python/tf/math/argmax\n",
        "\n",
        "tf.argmax(F)"
      ],
      "metadata": {
        "colab": {
          "base_uri": "https://localhost:8080/"
        },
        "id": "6rhUHxz8FL-q",
        "outputId": "698629f2-9784-436f-bcf7-5d459719c575"
      },
      "execution_count": 92,
      "outputs": [
        {
          "output_type": "execute_result",
          "data": {
            "text/plain": [
              "<tf.Tensor: shape=(), dtype=int64, numpy=42>"
            ]
          },
          "metadata": {},
          "execution_count": 92
        }
      ]
    },
    {
      "cell_type": "code",
      "source": [
        "# Index on the max value position\n",
        "\n",
        "F[tf.argmax(F)]"
      ],
      "metadata": {
        "colab": {
          "base_uri": "https://localhost:8080/"
        },
        "id": "1o2mrAyVFexj",
        "outputId": "eb999998-fd49-4ee4-d471-417363bde786"
      },
      "execution_count": 93,
      "outputs": [
        {
          "output_type": "execute_result",
          "data": {
            "text/plain": [
              "<tf.Tensor: shape=(), dtype=float32, numpy=0.9671384>"
            ]
          },
          "metadata": {},
          "execution_count": 93
        }
      ]
    },
    {
      "cell_type": "code",
      "source": [
        "# Find the max value of F\n",
        "\n",
        "tf.reduce_max(F)"
      ],
      "metadata": {
        "colab": {
          "base_uri": "https://localhost:8080/"
        },
        "id": "1mpp7ChUFpGs",
        "outputId": "e132cb8c-0456-4d1d-b301-8a7e1d5e7811"
      },
      "execution_count": 94,
      "outputs": [
        {
          "output_type": "execute_result",
          "data": {
            "text/plain": [
              "<tf.Tensor: shape=(), dtype=float32, numpy=0.9671384>"
            ]
          },
          "metadata": {},
          "execution_count": 94
        }
      ]
    },
    {
      "cell_type": "code",
      "source": [
        "# Check for equality\n",
        "\n",
        "F[tf.argmax(F)] == tf.reduce_max(F)"
      ],
      "metadata": {
        "colab": {
          "base_uri": "https://localhost:8080/"
        },
        "id": "5SzTHgE4Fssu",
        "outputId": "e75f98d6-8ffd-453b-960f-2dacb29aa1ea"
      },
      "execution_count": 95,
      "outputs": [
        {
          "output_type": "execute_result",
          "data": {
            "text/plain": [
              "<tf.Tensor: shape=(), dtype=bool, numpy=True>"
            ]
          },
          "metadata": {},
          "execution_count": 95
        }
      ]
    },
    {
      "cell_type": "code",
      "source": [
        "# Find the positional minimum\n",
        "\n",
        "tf.argmin(F)"
      ],
      "metadata": {
        "colab": {
          "base_uri": "https://localhost:8080/"
        },
        "id": "pTmUTHx_F4Ep",
        "outputId": "1902a28e-114a-40bf-b22d-ea4c93214bf9"
      },
      "execution_count": 96,
      "outputs": [
        {
          "output_type": "execute_result",
          "data": {
            "text/plain": [
              "<tf.Tensor: shape=(), dtype=int64, numpy=16>"
            ]
          },
          "metadata": {},
          "execution_count": 96
        }
      ]
    },
    {
      "cell_type": "code",
      "source": [
        "F[tf.argmin(F)]"
      ],
      "metadata": {
        "colab": {
          "base_uri": "https://localhost:8080/"
        },
        "id": "AxHNFImXGE1b",
        "outputId": "caa4a8cf-797e-40be-ef2d-bf36f092bf58"
      },
      "execution_count": 97,
      "outputs": [
        {
          "output_type": "execute_result",
          "data": {
            "text/plain": [
              "<tf.Tensor: shape=(), dtype=float32, numpy=0.009463668>"
            ]
          },
          "metadata": {},
          "execution_count": 97
        }
      ]
    },
    {
      "cell_type": "code",
      "source": [
        "tf.reduce_min(F)"
      ],
      "metadata": {
        "colab": {
          "base_uri": "https://localhost:8080/"
        },
        "id": "UeOUQQpWGIQG",
        "outputId": "f529a35e-3968-4efa-ede1-f37af44708ef"
      },
      "execution_count": 98,
      "outputs": [
        {
          "output_type": "execute_result",
          "data": {
            "text/plain": [
              "<tf.Tensor: shape=(), dtype=float32, numpy=0.009463668>"
            ]
          },
          "metadata": {},
          "execution_count": 98
        }
      ]
    },
    {
      "cell_type": "markdown",
      "source": [
        "### Removing Single Dimensions"
      ],
      "metadata": {
        "id": "6epe-wHsGK3T"
      }
    },
    {
      "cell_type": "code",
      "source": [
        "# Create a tensor\n",
        "\n",
        "tf.random.set_seed(42)\n",
        "G = tf.constant(tf.random.uniform(shape = [50]), shape = (1, 1, 1, 1, 50))\n",
        "G"
      ],
      "metadata": {
        "colab": {
          "base_uri": "https://localhost:8080/"
        },
        "id": "u4-0goFfGSPd",
        "outputId": "33be28ab-2ce5-4c70-8358-825073ff2f28"
      },
      "execution_count": 100,
      "outputs": [
        {
          "output_type": "execute_result",
          "data": {
            "text/plain": [
              "<tf.Tensor: shape=(1, 1, 1, 1, 50), dtype=float32, numpy=\n",
              "array([[[[[0.6645621 , 0.44100678, 0.3528825 , 0.46448255, 0.03366041,\n",
              "           0.68467236, 0.74011743, 0.8724445 , 0.22632635, 0.22319686,\n",
              "           0.3103881 , 0.7223358 , 0.13318717, 0.5480639 , 0.5746088 ,\n",
              "           0.8996835 , 0.00946367, 0.5212307 , 0.6345445 , 0.1993283 ,\n",
              "           0.72942245, 0.54583454, 0.10756552, 0.6767061 , 0.6602763 ,\n",
              "           0.33695042, 0.60141766, 0.21062577, 0.8527372 , 0.44062173,\n",
              "           0.9485276 , 0.23752594, 0.81179297, 0.5263394 , 0.494308  ,\n",
              "           0.21612847, 0.8457197 , 0.8718841 , 0.3083862 , 0.6868038 ,\n",
              "           0.23764038, 0.7817228 , 0.9671384 , 0.06870162, 0.79873943,\n",
              "           0.66028714, 0.5871513 , 0.16461694, 0.7381023 , 0.32054043]]]]],\n",
              "      dtype=float32)>"
            ]
          },
          "metadata": {},
          "execution_count": 100
        }
      ]
    },
    {
      "cell_type": "code",
      "source": [
        "G.shape"
      ],
      "metadata": {
        "colab": {
          "base_uri": "https://localhost:8080/"
        },
        "id": "edpun6IbGe6l",
        "outputId": "9a29b315-b80d-4c85-e01c-175cd32385a1"
      },
      "execution_count": 101,
      "outputs": [
        {
          "output_type": "execute_result",
          "data": {
            "text/plain": [
              "TensorShape([1, 1, 1, 1, 50])"
            ]
          },
          "metadata": {},
          "execution_count": 101
        }
      ]
    },
    {
      "cell_type": "code",
      "source": [
        "G.ndim"
      ],
      "metadata": {
        "colab": {
          "base_uri": "https://localhost:8080/"
        },
        "id": "hEeOorYuGnFs",
        "outputId": "cc6ad4ee-defb-478e-a3f5-e10ca8862f34"
      },
      "execution_count": 102,
      "outputs": [
        {
          "output_type": "execute_result",
          "data": {
            "text/plain": [
              "5"
            ]
          },
          "metadata": {},
          "execution_count": 102
        }
      ]
    },
    {
      "cell_type": "code",
      "source": [
        "# https://www.tensorflow.org/api_docs/python/tf/squeeze\n",
        "\n",
        "G_squeezed = tf.squeeze(G)\n",
        "G_squeezed, G_squeezed.shape"
      ],
      "metadata": {
        "colab": {
          "base_uri": "https://localhost:8080/"
        },
        "id": "Uh4cqbfoGn7x",
        "outputId": "78e14f69-33ee-4c7a-ca4a-1418973a3769"
      },
      "execution_count": 104,
      "outputs": [
        {
          "output_type": "execute_result",
          "data": {
            "text/plain": [
              "(<tf.Tensor: shape=(50,), dtype=float32, numpy=\n",
              " array([0.6645621 , 0.44100678, 0.3528825 , 0.46448255, 0.03366041,\n",
              "        0.68467236, 0.74011743, 0.8724445 , 0.22632635, 0.22319686,\n",
              "        0.3103881 , 0.7223358 , 0.13318717, 0.5480639 , 0.5746088 ,\n",
              "        0.8996835 , 0.00946367, 0.5212307 , 0.6345445 , 0.1993283 ,\n",
              "        0.72942245, 0.54583454, 0.10756552, 0.6767061 , 0.6602763 ,\n",
              "        0.33695042, 0.60141766, 0.21062577, 0.8527372 , 0.44062173,\n",
              "        0.9485276 , 0.23752594, 0.81179297, 0.5263394 , 0.494308  ,\n",
              "        0.21612847, 0.8457197 , 0.8718841 , 0.3083862 , 0.6868038 ,\n",
              "        0.23764038, 0.7817228 , 0.9671384 , 0.06870162, 0.79873943,\n",
              "        0.66028714, 0.5871513 , 0.16461694, 0.7381023 , 0.32054043],\n",
              "       dtype=float32)>, TensorShape([50]))"
            ]
          },
          "metadata": {},
          "execution_count": 104
        }
      ]
    },
    {
      "cell_type": "markdown",
      "source": [
        "### One-hot Encoding Tensors"
      ],
      "metadata": {
        "id": "StEirKQIGuva"
      }
    },
    {
      "cell_type": "code",
      "source": [
        "# Create a list of indices\n",
        "\n",
        "list_a = [0, 1, 2, 3]\n",
        "\n",
        "# Apply one hot\n",
        "# https://www.tensorflow.org/api_docs/python/tf/one_hot\n",
        "\n",
        "tf.one_hot(list_a, depth = 4)"
      ],
      "metadata": {
        "colab": {
          "base_uri": "https://localhost:8080/"
        },
        "id": "Kh1PUgBRG7-u",
        "outputId": "516df03d-9a75-43d0-fb36-c1d27f3f1b61"
      },
      "execution_count": 105,
      "outputs": [
        {
          "output_type": "execute_result",
          "data": {
            "text/plain": [
              "<tf.Tensor: shape=(4, 4), dtype=float32, numpy=\n",
              "array([[1., 0., 0., 0.],\n",
              "       [0., 1., 0., 0.],\n",
              "       [0., 0., 1., 0.],\n",
              "       [0., 0., 0., 1.]], dtype=float32)>"
            ]
          },
          "metadata": {},
          "execution_count": 105
        }
      ]
    },
    {
      "cell_type": "code",
      "source": [
        "# Specify custom values\n",
        "# on_value = A scalar defining the value to fill in output when indices[j] = i. (default: 1)\n",
        "# off_value = A scalar defining the value to fill in output when indices[j] != i. (default: 0)\n",
        "\n",
        "tf.one_hot(list_a, depth = 4, on_value = 'Hello world', off_value = 'Goodbye world')"
      ],
      "metadata": {
        "colab": {
          "base_uri": "https://localhost:8080/"
        },
        "id": "D2_vQ9zJIAku",
        "outputId": "e084e7f0-d645-4bd4-a04e-daab8f79bd3b"
      },
      "execution_count": 107,
      "outputs": [
        {
          "output_type": "execute_result",
          "data": {
            "text/plain": [
              "<tf.Tensor: shape=(4, 4), dtype=string, numpy=\n",
              "array([[b'Hello world', b'Goodbye world', b'Goodbye world',\n",
              "        b'Goodbye world'],\n",
              "       [b'Goodbye world', b'Hello world', b'Goodbye world',\n",
              "        b'Goodbye world'],\n",
              "       [b'Goodbye world', b'Goodbye world', b'Hello world',\n",
              "        b'Goodbye world'],\n",
              "       [b'Goodbye world', b'Goodbye world', b'Goodbye world',\n",
              "        b'Hello world']], dtype=object)>"
            ]
          },
          "metadata": {},
          "execution_count": 107
        }
      ]
    },
    {
      "cell_type": "markdown",
      "source": [
        "### Squaring, Log, and Square Root"
      ],
      "metadata": {
        "id": "6KMQHhn3IaYJ"
      }
    },
    {
      "cell_type": "code",
      "source": [
        "H = tf.range(1, 10)\n",
        "H"
      ],
      "metadata": {
        "colab": {
          "base_uri": "https://localhost:8080/"
        },
        "id": "w84L2owQJB-0",
        "outputId": "f29d8158-8423-4364-d0c4-3d883b3e527d"
      },
      "execution_count": 108,
      "outputs": [
        {
          "output_type": "execute_result",
          "data": {
            "text/plain": [
              "<tf.Tensor: shape=(9,), dtype=int32, numpy=array([1, 2, 3, 4, 5, 6, 7, 8, 9], dtype=int32)>"
            ]
          },
          "metadata": {},
          "execution_count": 108
        }
      ]
    },
    {
      "cell_type": "code",
      "source": [
        "# Square\n",
        "\n",
        "tf.square(H)"
      ],
      "metadata": {
        "colab": {
          "base_uri": "https://localhost:8080/"
        },
        "id": "s9J2Qe6nJFGG",
        "outputId": "261173e3-c02f-46f6-f00c-237893d32598"
      },
      "execution_count": 109,
      "outputs": [
        {
          "output_type": "execute_result",
          "data": {
            "text/plain": [
              "<tf.Tensor: shape=(9,), dtype=int32, numpy=array([ 1,  4,  9, 16, 25, 36, 49, 64, 81], dtype=int32)>"
            ]
          },
          "metadata": {},
          "execution_count": 109
        }
      ]
    },
    {
      "cell_type": "code",
      "source": [
        "# Square root\n",
        "# Only allowing float or complex values\n",
        "\n",
        "tf.sqrt(H)"
      ],
      "metadata": {
        "colab": {
          "base_uri": "https://localhost:8080/",
          "height": 450
        },
        "id": "nCMyttgBJG36",
        "outputId": "d1ffeca9-8460-491b-9acc-0d6ded67280e"
      },
      "execution_count": 110,
      "outputs": [
        {
          "output_type": "error",
          "ename": "InvalidArgumentError",
          "evalue": "ignored",
          "traceback": [
            "\u001b[0;31m---------------------------------------------------------------------------\u001b[0m",
            "\u001b[0;31mInvalidArgumentError\u001b[0m                      Traceback (most recent call last)",
            "\u001b[0;32m<ipython-input-110-3663194fcc7d>\u001b[0m in \u001b[0;36m<module>\u001b[0;34m()\u001b[0m\n\u001b[1;32m      1\u001b[0m \u001b[0;31m# Square root\u001b[0m\u001b[0;34m\u001b[0m\u001b[0;34m\u001b[0m\u001b[0;34m\u001b[0m\u001b[0m\n\u001b[1;32m      2\u001b[0m \u001b[0;34m\u001b[0m\u001b[0m\n\u001b[0;32m----> 3\u001b[0;31m \u001b[0mtf\u001b[0m\u001b[0;34m.\u001b[0m\u001b[0msqrt\u001b[0m\u001b[0;34m(\u001b[0m\u001b[0mH\u001b[0m\u001b[0;34m)\u001b[0m\u001b[0;34m\u001b[0m\u001b[0;34m\u001b[0m\u001b[0m\n\u001b[0m",
            "\u001b[0;32m/usr/local/lib/python3.7/dist-packages/tensorflow/python/util/traceback_utils.py\u001b[0m in \u001b[0;36merror_handler\u001b[0;34m(*args, **kwargs)\u001b[0m\n\u001b[1;32m    151\u001b[0m     \u001b[0;32mexcept\u001b[0m \u001b[0mException\u001b[0m \u001b[0;32mas\u001b[0m \u001b[0me\u001b[0m\u001b[0;34m:\u001b[0m\u001b[0;34m\u001b[0m\u001b[0;34m\u001b[0m\u001b[0m\n\u001b[1;32m    152\u001b[0m       \u001b[0mfiltered_tb\u001b[0m \u001b[0;34m=\u001b[0m \u001b[0m_process_traceback_frames\u001b[0m\u001b[0;34m(\u001b[0m\u001b[0me\u001b[0m\u001b[0;34m.\u001b[0m\u001b[0m__traceback__\u001b[0m\u001b[0;34m)\u001b[0m\u001b[0;34m\u001b[0m\u001b[0;34m\u001b[0m\u001b[0m\n\u001b[0;32m--> 153\u001b[0;31m       \u001b[0;32mraise\u001b[0m \u001b[0me\u001b[0m\u001b[0;34m.\u001b[0m\u001b[0mwith_traceback\u001b[0m\u001b[0;34m(\u001b[0m\u001b[0mfiltered_tb\u001b[0m\u001b[0;34m)\u001b[0m \u001b[0;32mfrom\u001b[0m \u001b[0;32mNone\u001b[0m\u001b[0;34m\u001b[0m\u001b[0;34m\u001b[0m\u001b[0m\n\u001b[0m\u001b[1;32m    154\u001b[0m     \u001b[0;32mfinally\u001b[0m\u001b[0;34m:\u001b[0m\u001b[0;34m\u001b[0m\u001b[0;34m\u001b[0m\u001b[0m\n\u001b[1;32m    155\u001b[0m       \u001b[0;32mdel\u001b[0m \u001b[0mfiltered_tb\u001b[0m\u001b[0;34m\u001b[0m\u001b[0;34m\u001b[0m\u001b[0m\n",
            "\u001b[0;32m/usr/local/lib/python3.7/dist-packages/tensorflow/python/framework/ops.py\u001b[0m in \u001b[0;36mraise_from_not_ok_status\u001b[0;34m(e, name)\u001b[0m\n\u001b[1;32m   7105\u001b[0m \u001b[0;32mdef\u001b[0m \u001b[0mraise_from_not_ok_status\u001b[0m\u001b[0;34m(\u001b[0m\u001b[0me\u001b[0m\u001b[0;34m,\u001b[0m \u001b[0mname\u001b[0m\u001b[0;34m)\u001b[0m\u001b[0;34m:\u001b[0m\u001b[0;34m\u001b[0m\u001b[0;34m\u001b[0m\u001b[0m\n\u001b[1;32m   7106\u001b[0m   \u001b[0me\u001b[0m\u001b[0;34m.\u001b[0m\u001b[0mmessage\u001b[0m \u001b[0;34m+=\u001b[0m \u001b[0;34m(\u001b[0m\u001b[0;34m\" name: \"\u001b[0m \u001b[0;34m+\u001b[0m \u001b[0mname\u001b[0m \u001b[0;32mif\u001b[0m \u001b[0mname\u001b[0m \u001b[0;32mis\u001b[0m \u001b[0;32mnot\u001b[0m \u001b[0;32mNone\u001b[0m \u001b[0;32melse\u001b[0m \u001b[0;34m\"\"\u001b[0m\u001b[0;34m)\u001b[0m\u001b[0;34m\u001b[0m\u001b[0;34m\u001b[0m\u001b[0m\n\u001b[0;32m-> 7107\u001b[0;31m   \u001b[0;32mraise\u001b[0m \u001b[0mcore\u001b[0m\u001b[0;34m.\u001b[0m\u001b[0m_status_to_exception\u001b[0m\u001b[0;34m(\u001b[0m\u001b[0me\u001b[0m\u001b[0;34m)\u001b[0m \u001b[0;32mfrom\u001b[0m \u001b[0;32mNone\u001b[0m  \u001b[0;31m# pylint: disable=protected-access\u001b[0m\u001b[0;34m\u001b[0m\u001b[0;34m\u001b[0m\u001b[0m\n\u001b[0m\u001b[1;32m   7108\u001b[0m \u001b[0;34m\u001b[0m\u001b[0m\n\u001b[1;32m   7109\u001b[0m \u001b[0;34m\u001b[0m\u001b[0m\n",
            "\u001b[0;31mInvalidArgumentError\u001b[0m: Value for attr 'T' of int32 is not in the list of allowed values: bfloat16, half, float, double, complex64, complex128\n\t; NodeDef: {{node Sqrt}}; Op<name=Sqrt; signature=x:T -> y:T; attr=T:type,allowed=[DT_BFLOAT16, DT_HALF, DT_FLOAT, DT_DOUBLE, DT_COMPLEX64, DT_COMPLEX128]> [Op:Sqrt]"
          ]
        }
      ]
    },
    {
      "cell_type": "code",
      "source": [
        "tf.sqrt(tf.cast(H, dtype = tf.float32))"
      ],
      "metadata": {
        "colab": {
          "base_uri": "https://localhost:8080/"
        },
        "id": "aDHqalYTJL0I",
        "outputId": "f855c089-3bcc-4863-a422-3475f2fb0b8d"
      },
      "execution_count": 111,
      "outputs": [
        {
          "output_type": "execute_result",
          "data": {
            "text/plain": [
              "<tf.Tensor: shape=(9,), dtype=float32, numpy=\n",
              "array([0.99999994, 1.4142134 , 1.7320508 , 1.9999999 , 2.236068  ,\n",
              "       2.4494896 , 2.6457512 , 2.8284268 , 3.        ], dtype=float32)>"
            ]
          },
          "metadata": {},
          "execution_count": 111
        }
      ]
    },
    {
      "cell_type": "code",
      "source": [
        "# Find the log\n",
        "# Also only allowing float or complex values\n",
        "\n",
        "tf.math.log(H)"
      ],
      "metadata": {
        "colab": {
          "base_uri": "https://localhost:8080/",
          "height": 450
        },
        "id": "lDx0SI-kJZpC",
        "outputId": "b382d9ba-4399-4f11-bdb6-f7604f9d1239"
      },
      "execution_count": 115,
      "outputs": [
        {
          "output_type": "error",
          "ename": "InvalidArgumentError",
          "evalue": "ignored",
          "traceback": [
            "\u001b[0;31m---------------------------------------------------------------------------\u001b[0m",
            "\u001b[0;31mInvalidArgumentError\u001b[0m                      Traceback (most recent call last)",
            "\u001b[0;32m<ipython-input-115-87939bec86fd>\u001b[0m in \u001b[0;36m<module>\u001b[0;34m()\u001b[0m\n\u001b[1;32m      2\u001b[0m \u001b[0;31m# Also only allowing float or complex values\u001b[0m\u001b[0;34m\u001b[0m\u001b[0;34m\u001b[0m\u001b[0;34m\u001b[0m\u001b[0m\n\u001b[1;32m      3\u001b[0m \u001b[0;34m\u001b[0m\u001b[0m\n\u001b[0;32m----> 4\u001b[0;31m \u001b[0mtf\u001b[0m\u001b[0;34m.\u001b[0m\u001b[0mmath\u001b[0m\u001b[0;34m.\u001b[0m\u001b[0mlog\u001b[0m\u001b[0;34m(\u001b[0m\u001b[0mH\u001b[0m\u001b[0;34m)\u001b[0m\u001b[0;34m\u001b[0m\u001b[0;34m\u001b[0m\u001b[0m\n\u001b[0m",
            "\u001b[0;32m/usr/local/lib/python3.7/dist-packages/tensorflow/python/ops/gen_math_ops.py\u001b[0m in \u001b[0;36mlog\u001b[0;34m(x, name)\u001b[0m\n\u001b[1;32m   5468\u001b[0m       \u001b[0;32mreturn\u001b[0m \u001b[0m_result\u001b[0m\u001b[0;34m\u001b[0m\u001b[0;34m\u001b[0m\u001b[0m\n\u001b[1;32m   5469\u001b[0m     \u001b[0;32mexcept\u001b[0m \u001b[0m_core\u001b[0m\u001b[0;34m.\u001b[0m\u001b[0m_NotOkStatusException\u001b[0m \u001b[0;32mas\u001b[0m \u001b[0me\u001b[0m\u001b[0;34m:\u001b[0m\u001b[0;34m\u001b[0m\u001b[0;34m\u001b[0m\u001b[0m\n\u001b[0;32m-> 5470\u001b[0;31m       \u001b[0m_ops\u001b[0m\u001b[0;34m.\u001b[0m\u001b[0mraise_from_not_ok_status\u001b[0m\u001b[0;34m(\u001b[0m\u001b[0me\u001b[0m\u001b[0;34m,\u001b[0m \u001b[0mname\u001b[0m\u001b[0;34m)\u001b[0m\u001b[0;34m\u001b[0m\u001b[0;34m\u001b[0m\u001b[0m\n\u001b[0m\u001b[1;32m   5471\u001b[0m     \u001b[0;32mexcept\u001b[0m \u001b[0m_core\u001b[0m\u001b[0;34m.\u001b[0m\u001b[0m_FallbackException\u001b[0m\u001b[0;34m:\u001b[0m\u001b[0;34m\u001b[0m\u001b[0;34m\u001b[0m\u001b[0m\n\u001b[1;32m   5472\u001b[0m       \u001b[0;32mpass\u001b[0m\u001b[0;34m\u001b[0m\u001b[0;34m\u001b[0m\u001b[0m\n",
            "\u001b[0;32m/usr/local/lib/python3.7/dist-packages/tensorflow/python/framework/ops.py\u001b[0m in \u001b[0;36mraise_from_not_ok_status\u001b[0;34m(e, name)\u001b[0m\n\u001b[1;32m   7105\u001b[0m \u001b[0;32mdef\u001b[0m \u001b[0mraise_from_not_ok_status\u001b[0m\u001b[0;34m(\u001b[0m\u001b[0me\u001b[0m\u001b[0;34m,\u001b[0m \u001b[0mname\u001b[0m\u001b[0;34m)\u001b[0m\u001b[0;34m:\u001b[0m\u001b[0;34m\u001b[0m\u001b[0;34m\u001b[0m\u001b[0m\n\u001b[1;32m   7106\u001b[0m   \u001b[0me\u001b[0m\u001b[0;34m.\u001b[0m\u001b[0mmessage\u001b[0m \u001b[0;34m+=\u001b[0m \u001b[0;34m(\u001b[0m\u001b[0;34m\" name: \"\u001b[0m \u001b[0;34m+\u001b[0m \u001b[0mname\u001b[0m \u001b[0;32mif\u001b[0m \u001b[0mname\u001b[0m \u001b[0;32mis\u001b[0m \u001b[0;32mnot\u001b[0m \u001b[0;32mNone\u001b[0m \u001b[0;32melse\u001b[0m \u001b[0;34m\"\"\u001b[0m\u001b[0;34m)\u001b[0m\u001b[0;34m\u001b[0m\u001b[0;34m\u001b[0m\u001b[0m\n\u001b[0;32m-> 7107\u001b[0;31m   \u001b[0;32mraise\u001b[0m \u001b[0mcore\u001b[0m\u001b[0;34m.\u001b[0m\u001b[0m_status_to_exception\u001b[0m\u001b[0;34m(\u001b[0m\u001b[0me\u001b[0m\u001b[0;34m)\u001b[0m \u001b[0;32mfrom\u001b[0m \u001b[0;32mNone\u001b[0m  \u001b[0;31m# pylint: disable=protected-access\u001b[0m\u001b[0;34m\u001b[0m\u001b[0;34m\u001b[0m\u001b[0m\n\u001b[0m\u001b[1;32m   7108\u001b[0m \u001b[0;34m\u001b[0m\u001b[0m\n\u001b[1;32m   7109\u001b[0m \u001b[0;34m\u001b[0m\u001b[0m\n",
            "\u001b[0;31mInvalidArgumentError\u001b[0m: Value for attr 'T' of int32 is not in the list of allowed values: bfloat16, half, float, double, complex64, complex128\n\t; NodeDef: {{node Log}}; Op<name=Log; signature=x:T -> y:T; attr=T:type,allowed=[DT_BFLOAT16, DT_HALF, DT_FLOAT, DT_DOUBLE, DT_COMPLEX64, DT_COMPLEX128]> [Op:Log]"
          ]
        }
      ]
    },
    {
      "cell_type": "code",
      "source": [
        "tf.math.log(tf.cast(H, dtype = tf.float32))"
      ],
      "metadata": {
        "colab": {
          "base_uri": "https://localhost:8080/"
        },
        "id": "UGYEbF4HJjAL",
        "outputId": "cf020da3-a629-4e13-a12a-dda37389b5d3"
      },
      "execution_count": 116,
      "outputs": [
        {
          "output_type": "execute_result",
          "data": {
            "text/plain": [
              "<tf.Tensor: shape=(9,), dtype=float32, numpy=\n",
              "array([0.       , 0.6931472, 1.0986123, 1.3862944, 1.609438 , 1.7917595,\n",
              "       1.9459102, 2.0794415, 2.1972246], dtype=float32)>"
            ]
          },
          "metadata": {},
          "execution_count": 116
        }
      ]
    },
    {
      "cell_type": "markdown",
      "source": [
        "### Tensors and Numpy"
      ],
      "metadata": {
        "id": "T-Np36lAJze4"
      }
    },
    {
      "cell_type": "code",
      "source": [
        "# Create a tensor from a numpy array\n",
        "\n",
        "J = tf.constant(np.array([3., 7., 10.]))\n",
        "J"
      ],
      "metadata": {
        "colab": {
          "base_uri": "https://localhost:8080/"
        },
        "id": "Khf9SiC9KIeW",
        "outputId": "fe7c53bb-1354-4e0c-c58e-34133fb4cd6c"
      },
      "execution_count": 117,
      "outputs": [
        {
          "output_type": "execute_result",
          "data": {
            "text/plain": [
              "<tf.Tensor: shape=(3,), dtype=float64, numpy=array([ 3.,  7., 10.])>"
            ]
          },
          "metadata": {},
          "execution_count": 117
        }
      ]
    },
    {
      "cell_type": "code",
      "source": [
        "# Convert back to numpy\n",
        "\n",
        "np.array(J), type(np.array(J))"
      ],
      "metadata": {
        "colab": {
          "base_uri": "https://localhost:8080/"
        },
        "id": "OyCr88wHKOcb",
        "outputId": "3fd9a18c-3013-4131-f8e9-1dc87043ecba"
      },
      "execution_count": 118,
      "outputs": [
        {
          "output_type": "execute_result",
          "data": {
            "text/plain": [
              "(array([ 3.,  7., 10.]), numpy.ndarray)"
            ]
          },
          "metadata": {},
          "execution_count": 118
        }
      ]
    },
    {
      "cell_type": "code",
      "source": [
        "J.numpy(), type(J.numpy())"
      ],
      "metadata": {
        "colab": {
          "base_uri": "https://localhost:8080/"
        },
        "id": "TDkNPXr5KVY4",
        "outputId": "67d1092a-2ee5-4cb1-fe21-21b94294cbca"
      },
      "execution_count": 119,
      "outputs": [
        {
          "output_type": "execute_result",
          "data": {
            "text/plain": [
              "(array([ 3.,  7., 10.]), numpy.ndarray)"
            ]
          },
          "metadata": {},
          "execution_count": 119
        }
      ]
    },
    {
      "cell_type": "code",
      "source": [
        "# The default datatypes are different\n",
        "\n",
        "numpy_J = tf.constant(np.array([3., 7., 10.]))\n",
        "tensor_J = tf.constant([3., 7., 10])\n",
        "\n",
        "numpy_J.dtype, tensor_J.dtype"
      ],
      "metadata": {
        "colab": {
          "base_uri": "https://localhost:8080/"
        },
        "id": "2rdI-aImKeLe",
        "outputId": "8947a210-f6d0-43b4-c00f-9fd1905bae61"
      },
      "execution_count": 120,
      "outputs": [
        {
          "output_type": "execute_result",
          "data": {
            "text/plain": [
              "(tf.float64, tf.float32)"
            ]
          },
          "metadata": {},
          "execution_count": 120
        }
      ]
    },
    {
      "cell_type": "code",
      "source": [
        ""
      ],
      "metadata": {
        "id": "eg2KL7UWK6iX"
      },
      "execution_count": null,
      "outputs": []
    }
  ]
}
