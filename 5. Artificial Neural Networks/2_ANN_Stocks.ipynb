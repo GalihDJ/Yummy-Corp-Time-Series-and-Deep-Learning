{
  "nbformat": 4,
  "nbformat_minor": 0,
  "metadata": {
    "colab": {
      "name": "2_ANN_Stocks.ipynb",
      "provenance": [],
      "collapsed_sections": []
    },
    "kernelspec": {
      "name": "python3",
      "display_name": "Python 3"
    },
    "language_info": {
      "name": "python"
    }
  },
  "cells": [
    {
      "cell_type": "code",
      "execution_count": null,
      "metadata": {
        "id": "FbvF3MISQlhP"
      },
      "outputs": [],
      "source": [
        "import pandas as pd\n",
        "import numpy as np\n",
        "import matplotlib.pyplot as plt\n",
        "import tensorflow as tf\n",
        "\n",
        "from tensorflow.keras.layers import Dense, Input\n",
        "from tensorflow.keras.models import Model\n",
        "from sklearn.metrics import mean_absolute_percentage_error\n",
        "from sklearn.preprocessing import StandardScaler"
      ]
    },
    {
      "cell_type": "code",
      "source": [
        "!wget -nc https://lazyprogrammer.me/course_files/sp500sub.csv"
      ],
      "metadata": {
        "colab": {
          "base_uri": "https://localhost:8080/"
        },
        "id": "8Uo7ba_vQyMC",
        "outputId": "9ddd8370-2ec4-4c2c-a4c8-ac8cffa342a7"
      },
      "execution_count": null,
      "outputs": [
        {
          "output_type": "stream",
          "name": "stdout",
          "text": [
            "--2022-01-10 04:33:38--  https://lazyprogrammer.me/course_files/sp500sub.csv\n",
            "Resolving lazyprogrammer.me (lazyprogrammer.me)... 172.67.213.166, 104.21.23.210, 2606:4700:3030::ac43:d5a6, ...\n",
            "Connecting to lazyprogrammer.me (lazyprogrammer.me)|172.67.213.166|:443... connected.\n",
            "HTTP request sent, awaiting response... 200 OK\n",
            "Length: 25473876 (24M) [text/csv]\n",
            "Saving to: ‘sp500sub.csv’\n",
            "\n",
            "sp500sub.csv        100%[===================>]  24.29M  14.6MB/s    in 1.7s    \n",
            "\n",
            "2022-01-10 04:33:40 (14.6 MB/s) - ‘sp500sub.csv’ saved [25473876/25473876]\n",
            "\n"
          ]
        }
      ]
    },
    {
      "cell_type": "code",
      "source": [
        "df = pd.read_csv('sp500sub.csv', index_col='Date', parse_dates=True)\n",
        "df.head()"
      ],
      "metadata": {
        "colab": {
          "base_uri": "https://localhost:8080/",
          "height": 238
        },
        "id": "muzt2IgBQ4RL",
        "outputId": "27e3539f-2914-40cb-cfe5-4ed7645dd705"
      },
      "execution_count": null,
      "outputs": [
        {
          "output_type": "execute_result",
          "data": {
            "text/html": [
              "\n",
              "  <div id=\"df-9024bf97-2c90-4cc5-89c0-14d2ebd4e5db\">\n",
              "    <div class=\"colab-df-container\">\n",
              "      <div>\n",
              "<style scoped>\n",
              "    .dataframe tbody tr th:only-of-type {\n",
              "        vertical-align: middle;\n",
              "    }\n",
              "\n",
              "    .dataframe tbody tr th {\n",
              "        vertical-align: top;\n",
              "    }\n",
              "\n",
              "    .dataframe thead th {\n",
              "        text-align: right;\n",
              "    }\n",
              "</style>\n",
              "<table border=\"1\" class=\"dataframe\">\n",
              "  <thead>\n",
              "    <tr style=\"text-align: right;\">\n",
              "      <th></th>\n",
              "      <th>Open</th>\n",
              "      <th>High</th>\n",
              "      <th>Low</th>\n",
              "      <th>Close</th>\n",
              "      <th>Adj Close</th>\n",
              "      <th>Volume</th>\n",
              "      <th>Name</th>\n",
              "    </tr>\n",
              "    <tr>\n",
              "      <th>Date</th>\n",
              "      <th></th>\n",
              "      <th></th>\n",
              "      <th></th>\n",
              "      <th></th>\n",
              "      <th></th>\n",
              "      <th></th>\n",
              "      <th></th>\n",
              "    </tr>\n",
              "  </thead>\n",
              "  <tbody>\n",
              "    <tr>\n",
              "      <th>2010-01-04</th>\n",
              "      <td>9.22</td>\n",
              "      <td>9.51</td>\n",
              "      <td>9.17</td>\n",
              "      <td>9.50</td>\n",
              "      <td>9.50</td>\n",
              "      <td>1865400.0</td>\n",
              "      <td>INCY</td>\n",
              "    </tr>\n",
              "    <tr>\n",
              "      <th>2010-01-05</th>\n",
              "      <td>9.51</td>\n",
              "      <td>10.29</td>\n",
              "      <td>9.45</td>\n",
              "      <td>10.27</td>\n",
              "      <td>10.27</td>\n",
              "      <td>7608900.0</td>\n",
              "      <td>INCY</td>\n",
              "    </tr>\n",
              "    <tr>\n",
              "      <th>2010-01-06</th>\n",
              "      <td>10.38</td>\n",
              "      <td>11.09</td>\n",
              "      <td>10.35</td>\n",
              "      <td>11.00</td>\n",
              "      <td>11.00</td>\n",
              "      <td>8046700.0</td>\n",
              "      <td>INCY</td>\n",
              "    </tr>\n",
              "    <tr>\n",
              "      <th>2010-01-07</th>\n",
              "      <td>11.00</td>\n",
              "      <td>11.06</td>\n",
              "      <td>10.62</td>\n",
              "      <td>10.82</td>\n",
              "      <td>10.82</td>\n",
              "      <td>3680300.0</td>\n",
              "      <td>INCY</td>\n",
              "    </tr>\n",
              "    <tr>\n",
              "      <th>2010-01-08</th>\n",
              "      <td>10.82</td>\n",
              "      <td>11.00</td>\n",
              "      <td>10.75</td>\n",
              "      <td>10.94</td>\n",
              "      <td>10.94</td>\n",
              "      <td>1529300.0</td>\n",
              "      <td>INCY</td>\n",
              "    </tr>\n",
              "  </tbody>\n",
              "</table>\n",
              "</div>\n",
              "      <button class=\"colab-df-convert\" onclick=\"convertToInteractive('df-9024bf97-2c90-4cc5-89c0-14d2ebd4e5db')\"\n",
              "              title=\"Convert this dataframe to an interactive table.\"\n",
              "              style=\"display:none;\">\n",
              "        \n",
              "  <svg xmlns=\"http://www.w3.org/2000/svg\" height=\"24px\"viewBox=\"0 0 24 24\"\n",
              "       width=\"24px\">\n",
              "    <path d=\"M0 0h24v24H0V0z\" fill=\"none\"/>\n",
              "    <path d=\"M18.56 5.44l.94 2.06.94-2.06 2.06-.94-2.06-.94-.94-2.06-.94 2.06-2.06.94zm-11 1L8.5 8.5l.94-2.06 2.06-.94-2.06-.94L8.5 2.5l-.94 2.06-2.06.94zm10 10l.94 2.06.94-2.06 2.06-.94-2.06-.94-.94-2.06-.94 2.06-2.06.94z\"/><path d=\"M17.41 7.96l-1.37-1.37c-.4-.4-.92-.59-1.43-.59-.52 0-1.04.2-1.43.59L10.3 9.45l-7.72 7.72c-.78.78-.78 2.05 0 2.83L4 21.41c.39.39.9.59 1.41.59.51 0 1.02-.2 1.41-.59l7.78-7.78 2.81-2.81c.8-.78.8-2.07 0-2.86zM5.41 20L4 18.59l7.72-7.72 1.47 1.35L5.41 20z\"/>\n",
              "  </svg>\n",
              "      </button>\n",
              "      \n",
              "  <style>\n",
              "    .colab-df-container {\n",
              "      display:flex;\n",
              "      flex-wrap:wrap;\n",
              "      gap: 12px;\n",
              "    }\n",
              "\n",
              "    .colab-df-convert {\n",
              "      background-color: #E8F0FE;\n",
              "      border: none;\n",
              "      border-radius: 50%;\n",
              "      cursor: pointer;\n",
              "      display: none;\n",
              "      fill: #1967D2;\n",
              "      height: 32px;\n",
              "      padding: 0 0 0 0;\n",
              "      width: 32px;\n",
              "    }\n",
              "\n",
              "    .colab-df-convert:hover {\n",
              "      background-color: #E2EBFA;\n",
              "      box-shadow: 0px 1px 2px rgba(60, 64, 67, 0.3), 0px 1px 3px 1px rgba(60, 64, 67, 0.15);\n",
              "      fill: #174EA6;\n",
              "    }\n",
              "\n",
              "    [theme=dark] .colab-df-convert {\n",
              "      background-color: #3B4455;\n",
              "      fill: #D2E3FC;\n",
              "    }\n",
              "\n",
              "    [theme=dark] .colab-df-convert:hover {\n",
              "      background-color: #434B5C;\n",
              "      box-shadow: 0px 1px 3px 1px rgba(0, 0, 0, 0.15);\n",
              "      filter: drop-shadow(0px 1px 2px rgba(0, 0, 0, 0.3));\n",
              "      fill: #FFFFFF;\n",
              "    }\n",
              "  </style>\n",
              "\n",
              "      <script>\n",
              "        const buttonEl =\n",
              "          document.querySelector('#df-9024bf97-2c90-4cc5-89c0-14d2ebd4e5db button.colab-df-convert');\n",
              "        buttonEl.style.display =\n",
              "          google.colab.kernel.accessAllowed ? 'block' : 'none';\n",
              "\n",
              "        async function convertToInteractive(key) {\n",
              "          const element = document.querySelector('#df-9024bf97-2c90-4cc5-89c0-14d2ebd4e5db');\n",
              "          const dataTable =\n",
              "            await google.colab.kernel.invokeFunction('convertToInteractive',\n",
              "                                                     [key], {});\n",
              "          if (!dataTable) return;\n",
              "\n",
              "          const docLinkHtml = 'Like what you see? Visit the ' +\n",
              "            '<a target=\"_blank\" href=https://colab.research.google.com/notebooks/data_table.ipynb>data table notebook</a>'\n",
              "            + ' to learn more about interactive tables.';\n",
              "          element.innerHTML = '';\n",
              "          dataTable['output_type'] = 'display_data';\n",
              "          await google.colab.output.renderOutput(dataTable, element);\n",
              "          const docLink = document.createElement('div');\n",
              "          docLink.innerHTML = docLinkHtml;\n",
              "          element.appendChild(docLink);\n",
              "        }\n",
              "      </script>\n",
              "    </div>\n",
              "  </div>\n",
              "  "
            ],
            "text/plain": [
              "             Open   High    Low  Close  Adj Close     Volume  Name\n",
              "Date                                                              \n",
              "2010-01-04   9.22   9.51   9.17   9.50       9.50  1865400.0  INCY\n",
              "2010-01-05   9.51  10.29   9.45  10.27      10.27  7608900.0  INCY\n",
              "2010-01-06  10.38  11.09  10.35  11.00      11.00  8046700.0  INCY\n",
              "2010-01-07  11.00  11.06  10.62  10.82      10.82  3680300.0  INCY\n",
              "2010-01-08  10.82  11.00  10.75  10.94      10.94  1529300.0  INCY"
            ]
          },
          "metadata": {},
          "execution_count": 3
        }
      ]
    },
    {
      "cell_type": "code",
      "source": [
        "sbux = df[df['Name'] == 'SBUX'][['Close']].copy()"
      ],
      "metadata": {
        "id": "g8hp0tCjQ4mU"
      },
      "execution_count": null,
      "outputs": []
    },
    {
      "cell_type": "code",
      "source": [
        "sbux['LogClose'] = np.log(sbux['Close'])"
      ],
      "metadata": {
        "id": "cGWXbzevSNyE"
      },
      "execution_count": null,
      "outputs": []
    },
    {
      "cell_type": "code",
      "source": [
        "sbux['DiffLogClose'] = sbux['LogClose'].diff()"
      ],
      "metadata": {
        "id": "5L0V5L4oSWWn"
      },
      "execution_count": null,
      "outputs": []
    },
    {
      "cell_type": "code",
      "source": [
        "Ntest = 21\n",
        "train = sbux.iloc[:-Ntest]\n",
        "test = sbux.iloc[-Ntest:]"
      ],
      "metadata": {
        "id": "xfzvZWjsSa91"
      },
      "execution_count": null,
      "outputs": []
    },
    {
      "cell_type": "code",
      "source": [
        "ss = StandardScaler()\n",
        "train_scaled = ss.fit_transform(train[['DiffLogClose']])\n",
        "test_scaled = ss.fit_transform(test[['DiffLogClose']])"
      ],
      "metadata": {
        "id": "2fUXq1qTSmcS"
      },
      "execution_count": null,
      "outputs": []
    },
    {
      "cell_type": "code",
      "source": [
        "# Boolean index\n",
        "\n",
        "train_idx = sbux.index <= train.index[-1]\n",
        "test_idx = sbux.index > train.index[-1]"
      ],
      "metadata": {
        "id": "Yx2Z_ap7SzdI"
      },
      "execution_count": null,
      "outputs": []
    },
    {
      "cell_type": "code",
      "source": [
        "sbux.loc[train_idx, 'ScaledLogReturn'] = train_scaled.flatten()\n",
        "sbux.loc[test_idx, 'ScaledLogReturn'] = test_scaled.flatten()"
      ],
      "metadata": {
        "id": "OKN73owbS6Jt"
      },
      "execution_count": null,
      "outputs": []
    },
    {
      "cell_type": "code",
      "source": [
        "# Make supervised dataset\n",
        "\n",
        "series = sbux['ScaledLogReturn'].dropna().to_numpy()\n",
        "\n",
        "T = 10 # number of lags\n",
        "X = [] # inputs\n",
        "Y = [] # targets\n",
        "for t in range(len(series) - T):\n",
        "  x = series[t:t+T]\n",
        "  X.append(x)\n",
        "  y = series[t+T]\n",
        "  Y.append(y)\n",
        "\n",
        "X = np.array(X).reshape(-1, T)\n",
        "Y = np.array(Y)\n",
        "N = len(X)\n",
        "print(\"X.shape\", X.shape, \"Y.shape\", Y.shape)"
      ],
      "metadata": {
        "colab": {
          "base_uri": "https://localhost:8080/"
        },
        "id": "IuNPPxqgTogN",
        "outputId": "11206e5d-3322-40f4-d4e7-03b2bc43096e"
      },
      "execution_count": null,
      "outputs": [
        {
          "output_type": "stream",
          "name": "stdout",
          "text": [
            "X.shape (2252, 10) Y.shape (2252,)\n"
          ]
        }
      ]
    },
    {
      "cell_type": "code",
      "source": [
        "Xtrain, Ytrain = X[:-Ntest], Y[:-Ntest]\n",
        "Xtest, Ytest = X[-Ntest:], Y[-Ntest:]"
      ],
      "metadata": {
        "id": "rC6ZIaw6T2Xa"
      },
      "execution_count": null,
      "outputs": []
    },
    {
      "cell_type": "markdown",
      "source": [
        "### Basic ANN"
      ],
      "metadata": {
        "id": "TeRUhOyqT5Jp"
      }
    },
    {
      "cell_type": "code",
      "source": [
        "# Create input layer with dimensionality T\n",
        "i = Input(shape = (T,))\n",
        "\n",
        "# Create 1st hidden layer size of 32 with relu\n",
        "x = Dense(32, activation = 'relu')(i) \n",
        "\n",
        "# Output layer Dense of output size 1. Because the initial model is a 1 step predictor\n",
        "x = Dense(1)(x) \n",
        "\n",
        "# Instantiate model object passing the input and output\n",
        "model = Model(i, x)"
      ],
      "metadata": {
        "id": "ucndElTHT4SR"
      },
      "execution_count": null,
      "outputs": []
    },
    {
      "cell_type": "code",
      "source": [
        "# Compiling the model object\n",
        "\n",
        "model.compile(loss = 'mse',\n",
        "              optimizer = 'adam',\n",
        "              metrics = 'mae')"
      ],
      "metadata": {
        "id": "F5KTjlwPT77G"
      },
      "execution_count": null,
      "outputs": []
    },
    {
      "cell_type": "code",
      "source": [
        "# Call fit function\n",
        "\n",
        "r = model.fit(Xtrain, Ytrain, epochs = 200,\n",
        "              validation_data = (Xtest, Ytest)) "
      ],
      "metadata": {
        "colab": {
          "base_uri": "https://localhost:8080/"
        },
        "id": "uNwwAQKnT-r6",
        "outputId": "d2a9655a-68f0-43ed-b0f2-333c5d465896"
      },
      "execution_count": null,
      "outputs": [
        {
          "output_type": "stream",
          "name": "stdout",
          "text": [
            "Epoch 1/200\n",
            "70/70 [==============================] - 1s 4ms/step - loss: 1.2402 - mae: 0.7887 - val_loss: 0.8922 - val_mae: 0.7297\n",
            "Epoch 2/200\n",
            "70/70 [==============================] - 0s 2ms/step - loss: 1.0562 - mae: 0.7251 - val_loss: 0.8821 - val_mae: 0.7318\n",
            "Epoch 3/200\n",
            "70/70 [==============================] - 0s 2ms/step - loss: 1.0212 - mae: 0.7119 - val_loss: 0.8802 - val_mae: 0.7287\n",
            "Epoch 4/200\n",
            "70/70 [==============================] - 0s 2ms/step - loss: 1.0039 - mae: 0.7075 - val_loss: 0.8798 - val_mae: 0.7241\n",
            "Epoch 5/200\n",
            "70/70 [==============================] - 0s 2ms/step - loss: 0.9915 - mae: 0.7033 - val_loss: 0.8884 - val_mae: 0.7253\n",
            "Epoch 6/200\n",
            "70/70 [==============================] - 0s 2ms/step - loss: 0.9843 - mae: 0.7010 - val_loss: 0.8858 - val_mae: 0.7254\n",
            "Epoch 7/200\n",
            "70/70 [==============================] - 0s 2ms/step - loss: 0.9775 - mae: 0.6992 - val_loss: 0.8843 - val_mae: 0.7227\n",
            "Epoch 8/200\n",
            "70/70 [==============================] - 0s 2ms/step - loss: 0.9726 - mae: 0.6967 - val_loss: 0.8834 - val_mae: 0.7312\n",
            "Epoch 9/200\n",
            "70/70 [==============================] - 0s 2ms/step - loss: 0.9677 - mae: 0.6960 - val_loss: 0.8797 - val_mae: 0.7233\n",
            "Epoch 10/200\n",
            "70/70 [==============================] - 0s 2ms/step - loss: 0.9637 - mae: 0.6938 - val_loss: 0.8912 - val_mae: 0.7259\n",
            "Epoch 11/200\n",
            "70/70 [==============================] - 0s 2ms/step - loss: 0.9608 - mae: 0.6928 - val_loss: 0.8814 - val_mae: 0.7374\n",
            "Epoch 12/200\n",
            "70/70 [==============================] - 0s 2ms/step - loss: 0.9559 - mae: 0.6927 - val_loss: 0.8945 - val_mae: 0.7309\n",
            "Epoch 13/200\n",
            "70/70 [==============================] - 0s 2ms/step - loss: 0.9546 - mae: 0.6906 - val_loss: 0.8902 - val_mae: 0.7313\n",
            "Epoch 14/200\n",
            "70/70 [==============================] - 0s 2ms/step - loss: 0.9509 - mae: 0.6891 - val_loss: 0.8936 - val_mae: 0.7409\n",
            "Epoch 15/200\n",
            "70/70 [==============================] - 0s 2ms/step - loss: 0.9482 - mae: 0.6890 - val_loss: 0.9008 - val_mae: 0.7419\n",
            "Epoch 16/200\n",
            "70/70 [==============================] - 0s 2ms/step - loss: 0.9449 - mae: 0.6878 - val_loss: 0.8927 - val_mae: 0.7409\n",
            "Epoch 17/200\n",
            "70/70 [==============================] - 0s 2ms/step - loss: 0.9444 - mae: 0.6870 - val_loss: 0.9027 - val_mae: 0.7500\n",
            "Epoch 18/200\n",
            "70/70 [==============================] - 0s 2ms/step - loss: 0.9436 - mae: 0.6871 - val_loss: 0.9063 - val_mae: 0.7461\n",
            "Epoch 19/200\n",
            "70/70 [==============================] - 0s 2ms/step - loss: 0.9398 - mae: 0.6863 - val_loss: 0.9079 - val_mae: 0.7424\n",
            "Epoch 20/200\n",
            "70/70 [==============================] - 0s 1ms/step - loss: 0.9407 - mae: 0.6856 - val_loss: 0.9099 - val_mae: 0.7464\n",
            "Epoch 21/200\n",
            "70/70 [==============================] - 0s 2ms/step - loss: 0.9364 - mae: 0.6851 - val_loss: 0.9121 - val_mae: 0.7597\n",
            "Epoch 22/200\n",
            "70/70 [==============================] - 0s 2ms/step - loss: 0.9375 - mae: 0.6848 - val_loss: 0.9227 - val_mae: 0.7536\n",
            "Epoch 23/200\n",
            "70/70 [==============================] - 0s 2ms/step - loss: 0.9360 - mae: 0.6848 - val_loss: 0.9262 - val_mae: 0.7627\n",
            "Epoch 24/200\n",
            "70/70 [==============================] - 0s 2ms/step - loss: 0.9329 - mae: 0.6837 - val_loss: 0.9283 - val_mae: 0.7630\n",
            "Epoch 25/200\n",
            "70/70 [==============================] - 0s 2ms/step - loss: 0.9301 - mae: 0.6828 - val_loss: 0.9307 - val_mae: 0.7676\n",
            "Epoch 26/200\n",
            "70/70 [==============================] - 0s 2ms/step - loss: 0.9306 - mae: 0.6827 - val_loss: 0.9352 - val_mae: 0.7633\n",
            "Epoch 27/200\n",
            "70/70 [==============================] - 0s 2ms/step - loss: 0.9292 - mae: 0.6835 - val_loss: 0.9370 - val_mae: 0.7706\n",
            "Epoch 28/200\n",
            "70/70 [==============================] - 0s 2ms/step - loss: 0.9270 - mae: 0.6815 - val_loss: 0.9436 - val_mae: 0.7697\n",
            "Epoch 29/200\n",
            "70/70 [==============================] - 0s 2ms/step - loss: 0.9249 - mae: 0.6805 - val_loss: 0.9380 - val_mae: 0.7721\n",
            "Epoch 30/200\n",
            "70/70 [==============================] - 0s 2ms/step - loss: 0.9235 - mae: 0.6808 - val_loss: 0.9339 - val_mae: 0.7773\n",
            "Epoch 31/200\n",
            "70/70 [==============================] - 0s 2ms/step - loss: 0.9215 - mae: 0.6786 - val_loss: 0.9468 - val_mae: 0.7716\n",
            "Epoch 32/200\n",
            "70/70 [==============================] - 0s 2ms/step - loss: 0.9189 - mae: 0.6779 - val_loss: 0.9343 - val_mae: 0.7773\n",
            "Epoch 33/200\n",
            "70/70 [==============================] - 0s 2ms/step - loss: 0.9172 - mae: 0.6790 - val_loss: 0.9426 - val_mae: 0.7746\n",
            "Epoch 34/200\n",
            "70/70 [==============================] - 0s 2ms/step - loss: 0.9168 - mae: 0.6770 - val_loss: 0.9428 - val_mae: 0.7778\n",
            "Epoch 35/200\n",
            "70/70 [==============================] - 0s 2ms/step - loss: 0.9142 - mae: 0.6766 - val_loss: 0.9393 - val_mae: 0.7791\n",
            "Epoch 36/200\n",
            "70/70 [==============================] - 0s 2ms/step - loss: 0.9126 - mae: 0.6763 - val_loss: 0.9452 - val_mae: 0.7813\n",
            "Epoch 37/200\n",
            "70/70 [==============================] - 0s 2ms/step - loss: 0.9104 - mae: 0.6759 - val_loss: 0.9458 - val_mae: 0.7798\n",
            "Epoch 38/200\n",
            "70/70 [==============================] - 0s 2ms/step - loss: 0.9110 - mae: 0.6771 - val_loss: 0.9485 - val_mae: 0.7762\n",
            "Epoch 39/200\n",
            "70/70 [==============================] - 0s 2ms/step - loss: 0.9119 - mae: 0.6760 - val_loss: 0.9478 - val_mae: 0.7794\n",
            "Epoch 40/200\n",
            "70/70 [==============================] - 0s 2ms/step - loss: 0.9061 - mae: 0.6742 - val_loss: 0.9447 - val_mae: 0.7922\n",
            "Epoch 41/200\n",
            "70/70 [==============================] - 0s 2ms/step - loss: 0.9065 - mae: 0.6739 - val_loss: 0.9528 - val_mae: 0.7868\n",
            "Epoch 42/200\n",
            "70/70 [==============================] - 0s 2ms/step - loss: 0.9055 - mae: 0.6756 - val_loss: 0.9361 - val_mae: 0.7859\n",
            "Epoch 43/200\n",
            "70/70 [==============================] - 0s 2ms/step - loss: 0.9057 - mae: 0.6744 - val_loss: 0.9427 - val_mae: 0.7886\n",
            "Epoch 44/200\n",
            "70/70 [==============================] - 0s 2ms/step - loss: 0.9032 - mae: 0.6730 - val_loss: 0.9398 - val_mae: 0.7915\n",
            "Epoch 45/200\n",
            "70/70 [==============================] - 0s 2ms/step - loss: 0.9031 - mae: 0.6737 - val_loss: 0.9375 - val_mae: 0.7893\n",
            "Epoch 46/200\n",
            "70/70 [==============================] - 0s 2ms/step - loss: 0.9004 - mae: 0.6727 - val_loss: 0.9355 - val_mae: 0.7853\n",
            "Epoch 47/200\n",
            "70/70 [==============================] - 0s 2ms/step - loss: 0.8992 - mae: 0.6732 - val_loss: 0.9403 - val_mae: 0.7916\n",
            "Epoch 48/200\n",
            "70/70 [==============================] - 0s 2ms/step - loss: 0.8985 - mae: 0.6724 - val_loss: 0.9372 - val_mae: 0.7884\n",
            "Epoch 49/200\n",
            "70/70 [==============================] - 0s 2ms/step - loss: 0.8986 - mae: 0.6728 - val_loss: 0.9413 - val_mae: 0.7890\n",
            "Epoch 50/200\n",
            "70/70 [==============================] - 0s 2ms/step - loss: 0.8964 - mae: 0.6722 - val_loss: 0.9464 - val_mae: 0.7926\n",
            "Epoch 51/200\n",
            "70/70 [==============================] - 0s 2ms/step - loss: 0.8939 - mae: 0.6712 - val_loss: 0.9436 - val_mae: 0.7862\n",
            "Epoch 52/200\n",
            "70/70 [==============================] - 0s 2ms/step - loss: 0.8935 - mae: 0.6712 - val_loss: 0.9491 - val_mae: 0.7923\n",
            "Epoch 53/200\n",
            "70/70 [==============================] - 0s 2ms/step - loss: 0.8941 - mae: 0.6721 - val_loss: 0.9568 - val_mae: 0.7866\n",
            "Epoch 54/200\n",
            "70/70 [==============================] - 0s 2ms/step - loss: 0.8938 - mae: 0.6714 - val_loss: 0.9472 - val_mae: 0.7966\n",
            "Epoch 55/200\n",
            "70/70 [==============================] - 0s 2ms/step - loss: 0.8907 - mae: 0.6702 - val_loss: 0.9569 - val_mae: 0.7928\n",
            "Epoch 56/200\n",
            "70/70 [==============================] - 0s 2ms/step - loss: 0.8915 - mae: 0.6706 - val_loss: 0.9646 - val_mae: 0.7937\n",
            "Epoch 57/200\n",
            "70/70 [==============================] - 0s 2ms/step - loss: 0.8882 - mae: 0.6698 - val_loss: 0.9705 - val_mae: 0.7927\n",
            "Epoch 58/200\n",
            "70/70 [==============================] - 0s 2ms/step - loss: 0.8868 - mae: 0.6702 - val_loss: 0.9626 - val_mae: 0.7951\n",
            "Epoch 59/200\n",
            "70/70 [==============================] - 0s 2ms/step - loss: 0.8859 - mae: 0.6693 - val_loss: 0.9603 - val_mae: 0.8018\n",
            "Epoch 60/200\n",
            "70/70 [==============================] - 0s 2ms/step - loss: 0.8850 - mae: 0.6688 - val_loss: 0.9547 - val_mae: 0.7958\n",
            "Epoch 61/200\n",
            "70/70 [==============================] - 0s 2ms/step - loss: 0.8853 - mae: 0.6691 - val_loss: 0.9690 - val_mae: 0.7991\n",
            "Epoch 62/200\n",
            "70/70 [==============================] - 0s 2ms/step - loss: 0.8854 - mae: 0.6692 - val_loss: 0.9602 - val_mae: 0.7991\n",
            "Epoch 63/200\n",
            "70/70 [==============================] - 0s 2ms/step - loss: 0.8818 - mae: 0.6707 - val_loss: 0.9517 - val_mae: 0.7988\n",
            "Epoch 64/200\n",
            "70/70 [==============================] - 0s 2ms/step - loss: 0.8796 - mae: 0.6667 - val_loss: 0.9640 - val_mae: 0.7832\n",
            "Epoch 65/200\n",
            "70/70 [==============================] - 0s 2ms/step - loss: 0.8800 - mae: 0.6682 - val_loss: 0.9638 - val_mae: 0.7969\n",
            "Epoch 66/200\n",
            "70/70 [==============================] - 0s 1ms/step - loss: 0.8792 - mae: 0.6669 - val_loss: 0.9636 - val_mae: 0.7988\n",
            "Epoch 67/200\n",
            "70/70 [==============================] - 0s 2ms/step - loss: 0.8774 - mae: 0.6679 - val_loss: 0.9755 - val_mae: 0.7918\n",
            "Epoch 68/200\n",
            "70/70 [==============================] - 0s 2ms/step - loss: 0.8759 - mae: 0.6671 - val_loss: 0.9746 - val_mae: 0.8008\n",
            "Epoch 69/200\n",
            "70/70 [==============================] - 0s 2ms/step - loss: 0.8756 - mae: 0.6674 - val_loss: 0.9667 - val_mae: 0.7955\n",
            "Epoch 70/200\n",
            "70/70 [==============================] - 0s 2ms/step - loss: 0.8759 - mae: 0.6679 - val_loss: 0.9939 - val_mae: 0.8012\n",
            "Epoch 71/200\n",
            "70/70 [==============================] - 0s 2ms/step - loss: 0.8730 - mae: 0.6655 - val_loss: 0.9605 - val_mae: 0.8053\n",
            "Epoch 72/200\n",
            "70/70 [==============================] - 0s 2ms/step - loss: 0.8737 - mae: 0.6660 - val_loss: 0.9839 - val_mae: 0.8006\n",
            "Epoch 73/200\n",
            "70/70 [==============================] - 0s 2ms/step - loss: 0.8727 - mae: 0.6662 - val_loss: 0.9839 - val_mae: 0.7977\n",
            "Epoch 74/200\n",
            "70/70 [==============================] - 0s 2ms/step - loss: 0.8726 - mae: 0.6679 - val_loss: 0.9930 - val_mae: 0.7933\n",
            "Epoch 75/200\n",
            "70/70 [==============================] - 0s 2ms/step - loss: 0.8701 - mae: 0.6658 - val_loss: 0.9728 - val_mae: 0.7991\n",
            "Epoch 76/200\n",
            "70/70 [==============================] - 0s 2ms/step - loss: 0.8703 - mae: 0.6658 - val_loss: 0.9876 - val_mae: 0.8031\n",
            "Epoch 77/200\n",
            "70/70 [==============================] - 0s 2ms/step - loss: 0.8687 - mae: 0.6647 - val_loss: 0.9796 - val_mae: 0.8005\n",
            "Epoch 78/200\n",
            "70/70 [==============================] - 0s 2ms/step - loss: 0.8665 - mae: 0.6653 - val_loss: 0.9813 - val_mae: 0.8102\n",
            "Epoch 79/200\n",
            "70/70 [==============================] - 0s 2ms/step - loss: 0.8680 - mae: 0.6657 - val_loss: 0.9816 - val_mae: 0.8081\n",
            "Epoch 80/200\n",
            "70/70 [==============================] - 0s 2ms/step - loss: 0.8679 - mae: 0.6668 - val_loss: 1.0007 - val_mae: 0.8086\n",
            "Epoch 81/200\n",
            "70/70 [==============================] - 0s 2ms/step - loss: 0.8660 - mae: 0.6643 - val_loss: 0.9967 - val_mae: 0.8129\n",
            "Epoch 82/200\n",
            "70/70 [==============================] - 0s 2ms/step - loss: 0.8649 - mae: 0.6655 - val_loss: 0.9976 - val_mae: 0.8178\n",
            "Epoch 83/200\n",
            "70/70 [==============================] - 0s 2ms/step - loss: 0.8658 - mae: 0.6655 - val_loss: 0.9936 - val_mae: 0.8166\n",
            "Epoch 84/200\n",
            "70/70 [==============================] - 0s 2ms/step - loss: 0.8639 - mae: 0.6644 - val_loss: 0.9950 - val_mae: 0.8087\n",
            "Epoch 85/200\n",
            "70/70 [==============================] - 0s 2ms/step - loss: 0.8645 - mae: 0.6640 - val_loss: 0.9978 - val_mae: 0.8059\n",
            "Epoch 86/200\n",
            "70/70 [==============================] - 0s 2ms/step - loss: 0.8632 - mae: 0.6641 - val_loss: 0.9828 - val_mae: 0.8002\n",
            "Epoch 87/200\n",
            "70/70 [==============================] - 0s 2ms/step - loss: 0.8607 - mae: 0.6640 - val_loss: 1.0033 - val_mae: 0.8131\n",
            "Epoch 88/200\n",
            "70/70 [==============================] - 0s 2ms/step - loss: 0.8622 - mae: 0.6645 - val_loss: 1.0028 - val_mae: 0.8088\n",
            "Epoch 89/200\n",
            "70/70 [==============================] - 0s 2ms/step - loss: 0.8597 - mae: 0.6645 - val_loss: 0.9913 - val_mae: 0.8063\n",
            "Epoch 90/200\n",
            "70/70 [==============================] - 0s 2ms/step - loss: 0.8563 - mae: 0.6621 - val_loss: 1.0002 - val_mae: 0.8085\n",
            "Epoch 91/200\n",
            "70/70 [==============================] - 0s 2ms/step - loss: 0.8566 - mae: 0.6631 - val_loss: 1.0118 - val_mae: 0.8213\n",
            "Epoch 92/200\n",
            "70/70 [==============================] - 0s 2ms/step - loss: 0.8568 - mae: 0.6621 - val_loss: 0.9999 - val_mae: 0.8199\n",
            "Epoch 93/200\n",
            "70/70 [==============================] - 0s 2ms/step - loss: 0.8556 - mae: 0.6627 - val_loss: 0.9974 - val_mae: 0.8131\n",
            "Epoch 94/200\n",
            "70/70 [==============================] - 0s 2ms/step - loss: 0.8531 - mae: 0.6607 - val_loss: 0.9909 - val_mae: 0.8024\n",
            "Epoch 95/200\n",
            "70/70 [==============================] - 0s 2ms/step - loss: 0.8540 - mae: 0.6613 - val_loss: 1.0046 - val_mae: 0.8054\n",
            "Epoch 96/200\n",
            "70/70 [==============================] - 0s 2ms/step - loss: 0.8512 - mae: 0.6609 - val_loss: 0.9765 - val_mae: 0.8067\n",
            "Epoch 97/200\n",
            "70/70 [==============================] - 0s 2ms/step - loss: 0.8516 - mae: 0.6622 - val_loss: 1.0054 - val_mae: 0.8114\n",
            "Epoch 98/200\n",
            "70/70 [==============================] - 0s 2ms/step - loss: 0.8516 - mae: 0.6616 - val_loss: 0.9930 - val_mae: 0.8092\n",
            "Epoch 99/200\n",
            "70/70 [==============================] - 0s 2ms/step - loss: 0.8502 - mae: 0.6615 - val_loss: 0.9954 - val_mae: 0.8032\n",
            "Epoch 100/200\n",
            "70/70 [==============================] - 0s 2ms/step - loss: 0.8477 - mae: 0.6590 - val_loss: 1.0000 - val_mae: 0.8036\n",
            "Epoch 101/200\n",
            "70/70 [==============================] - 0s 2ms/step - loss: 0.8485 - mae: 0.6625 - val_loss: 1.0074 - val_mae: 0.8149\n",
            "Epoch 102/200\n",
            "70/70 [==============================] - 0s 2ms/step - loss: 0.8476 - mae: 0.6598 - val_loss: 0.9946 - val_mae: 0.8118\n",
            "Epoch 103/200\n",
            "70/70 [==============================] - 0s 2ms/step - loss: 0.8458 - mae: 0.6594 - val_loss: 1.0034 - val_mae: 0.8067\n",
            "Epoch 104/200\n",
            "70/70 [==============================] - 0s 2ms/step - loss: 0.8444 - mae: 0.6596 - val_loss: 1.0094 - val_mae: 0.8152\n",
            "Epoch 105/200\n",
            "70/70 [==============================] - 0s 2ms/step - loss: 0.8428 - mae: 0.6586 - val_loss: 1.0013 - val_mae: 0.8083\n",
            "Epoch 106/200\n",
            "70/70 [==============================] - 0s 2ms/step - loss: 0.8453 - mae: 0.6593 - val_loss: 0.9939 - val_mae: 0.8136\n",
            "Epoch 107/200\n",
            "70/70 [==============================] - 0s 2ms/step - loss: 0.8443 - mae: 0.6608 - val_loss: 1.0032 - val_mae: 0.8018\n",
            "Epoch 108/200\n",
            "70/70 [==============================] - 0s 2ms/step - loss: 0.8413 - mae: 0.6581 - val_loss: 1.0163 - val_mae: 0.8156\n",
            "Epoch 109/200\n",
            "70/70 [==============================] - 0s 2ms/step - loss: 0.8426 - mae: 0.6595 - val_loss: 0.9992 - val_mae: 0.8049\n",
            "Epoch 110/200\n",
            "70/70 [==============================] - 0s 2ms/step - loss: 0.8402 - mae: 0.6592 - val_loss: 1.0143 - val_mae: 0.8134\n",
            "Epoch 111/200\n",
            "70/70 [==============================] - 0s 2ms/step - loss: 0.8385 - mae: 0.6575 - val_loss: 1.0170 - val_mae: 0.8213\n",
            "Epoch 112/200\n",
            "70/70 [==============================] - 0s 2ms/step - loss: 0.8379 - mae: 0.6572 - val_loss: 0.9974 - val_mae: 0.8117\n",
            "Epoch 113/200\n",
            "70/70 [==============================] - 0s 2ms/step - loss: 0.8376 - mae: 0.6584 - val_loss: 1.0019 - val_mae: 0.8252\n",
            "Epoch 114/200\n",
            "70/70 [==============================] - 0s 2ms/step - loss: 0.8404 - mae: 0.6574 - val_loss: 0.9923 - val_mae: 0.8035\n",
            "Epoch 115/200\n",
            "70/70 [==============================] - 0s 2ms/step - loss: 0.8385 - mae: 0.6581 - val_loss: 1.0072 - val_mae: 0.8053\n",
            "Epoch 116/200\n",
            "70/70 [==============================] - 0s 2ms/step - loss: 0.8357 - mae: 0.6570 - val_loss: 1.0123 - val_mae: 0.8186\n",
            "Epoch 117/200\n",
            "70/70 [==============================] - 0s 2ms/step - loss: 0.8351 - mae: 0.6558 - val_loss: 1.0260 - val_mae: 0.8043\n",
            "Epoch 118/200\n",
            "70/70 [==============================] - 0s 2ms/step - loss: 0.8334 - mae: 0.6561 - val_loss: 1.0092 - val_mae: 0.8121\n",
            "Epoch 119/200\n",
            "70/70 [==============================] - 0s 2ms/step - loss: 0.8347 - mae: 0.6565 - val_loss: 0.9968 - val_mae: 0.7914\n",
            "Epoch 120/200\n",
            "70/70 [==============================] - 0s 2ms/step - loss: 0.8330 - mae: 0.6561 - val_loss: 1.0050 - val_mae: 0.8017\n",
            "Epoch 121/200\n",
            "70/70 [==============================] - 0s 2ms/step - loss: 0.8323 - mae: 0.6556 - val_loss: 0.9920 - val_mae: 0.8047\n",
            "Epoch 122/200\n",
            "70/70 [==============================] - 0s 1ms/step - loss: 0.8325 - mae: 0.6562 - val_loss: 1.0087 - val_mae: 0.8109\n",
            "Epoch 123/200\n",
            "70/70 [==============================] - 0s 2ms/step - loss: 0.8310 - mae: 0.6564 - val_loss: 1.0146 - val_mae: 0.8084\n",
            "Epoch 124/200\n",
            "70/70 [==============================] - 0s 2ms/step - loss: 0.8303 - mae: 0.6554 - val_loss: 1.0130 - val_mae: 0.8199\n",
            "Epoch 125/200\n",
            "70/70 [==============================] - 0s 2ms/step - loss: 0.8283 - mae: 0.6548 - val_loss: 1.0370 - val_mae: 0.8132\n",
            "Epoch 126/200\n",
            "70/70 [==============================] - 0s 2ms/step - loss: 0.8264 - mae: 0.6537 - val_loss: 1.0131 - val_mae: 0.8130\n",
            "Epoch 127/200\n",
            "70/70 [==============================] - 0s 2ms/step - loss: 0.8269 - mae: 0.6554 - val_loss: 1.0238 - val_mae: 0.8114\n",
            "Epoch 128/200\n",
            "70/70 [==============================] - 0s 2ms/step - loss: 0.8268 - mae: 0.6542 - val_loss: 1.0108 - val_mae: 0.8031\n",
            "Epoch 129/200\n",
            "70/70 [==============================] - 0s 2ms/step - loss: 0.8279 - mae: 0.6553 - val_loss: 1.0261 - val_mae: 0.8042\n",
            "Epoch 130/200\n",
            "70/70 [==============================] - 0s 2ms/step - loss: 0.8235 - mae: 0.6527 - val_loss: 1.0190 - val_mae: 0.8168\n",
            "Epoch 131/200\n",
            "70/70 [==============================] - 0s 2ms/step - loss: 0.8238 - mae: 0.6526 - val_loss: 1.0274 - val_mae: 0.8075\n",
            "Epoch 132/200\n",
            "70/70 [==============================] - 0s 2ms/step - loss: 0.8205 - mae: 0.6508 - val_loss: 1.0158 - val_mae: 0.8136\n",
            "Epoch 133/200\n",
            "70/70 [==============================] - 0s 2ms/step - loss: 0.8224 - mae: 0.6526 - val_loss: 1.0270 - val_mae: 0.8078\n",
            "Epoch 134/200\n",
            "70/70 [==============================] - 0s 2ms/step - loss: 0.8223 - mae: 0.6525 - val_loss: 1.0447 - val_mae: 0.8229\n",
            "Epoch 135/200\n",
            "70/70 [==============================] - 0s 2ms/step - loss: 0.8186 - mae: 0.6507 - val_loss: 1.0310 - val_mae: 0.8121\n",
            "Epoch 136/200\n",
            "70/70 [==============================] - 0s 2ms/step - loss: 0.8216 - mae: 0.6521 - val_loss: 1.0320 - val_mae: 0.8086\n",
            "Epoch 137/200\n",
            "70/70 [==============================] - 0s 2ms/step - loss: 0.8181 - mae: 0.6514 - val_loss: 1.0367 - val_mae: 0.8131\n",
            "Epoch 138/200\n",
            "70/70 [==============================] - 0s 2ms/step - loss: 0.8176 - mae: 0.6510 - val_loss: 1.0542 - val_mae: 0.8152\n",
            "Epoch 139/200\n",
            "70/70 [==============================] - 0s 2ms/step - loss: 0.8192 - mae: 0.6527 - val_loss: 1.0425 - val_mae: 0.8184\n",
            "Epoch 140/200\n",
            "70/70 [==============================] - 0s 2ms/step - loss: 0.8197 - mae: 0.6515 - val_loss: 1.0168 - val_mae: 0.8059\n",
            "Epoch 141/200\n",
            "70/70 [==============================] - 0s 2ms/step - loss: 0.8196 - mae: 0.6497 - val_loss: 1.0188 - val_mae: 0.8025\n",
            "Epoch 142/200\n",
            "70/70 [==============================] - 0s 2ms/step - loss: 0.8146 - mae: 0.6505 - val_loss: 1.0405 - val_mae: 0.8103\n",
            "Epoch 143/200\n",
            "70/70 [==============================] - 0s 2ms/step - loss: 0.8173 - mae: 0.6507 - val_loss: 1.0395 - val_mae: 0.8144\n",
            "Epoch 144/200\n",
            "70/70 [==============================] - 0s 2ms/step - loss: 0.8138 - mae: 0.6496 - val_loss: 1.0458 - val_mae: 0.8182\n",
            "Epoch 145/200\n",
            "70/70 [==============================] - 0s 2ms/step - loss: 0.8126 - mae: 0.6500 - val_loss: 1.0622 - val_mae: 0.8252\n",
            "Epoch 146/200\n",
            "70/70 [==============================] - 0s 2ms/step - loss: 0.8129 - mae: 0.6484 - val_loss: 1.0514 - val_mae: 0.8267\n",
            "Epoch 147/200\n",
            "70/70 [==============================] - 0s 2ms/step - loss: 0.8148 - mae: 0.6507 - val_loss: 1.0555 - val_mae: 0.8282\n",
            "Epoch 148/200\n",
            "70/70 [==============================] - 0s 2ms/step - loss: 0.8123 - mae: 0.6499 - val_loss: 1.0764 - val_mae: 0.8294\n",
            "Epoch 149/200\n",
            "70/70 [==============================] - 0s 2ms/step - loss: 0.8120 - mae: 0.6487 - val_loss: 1.0582 - val_mae: 0.8201\n",
            "Epoch 150/200\n",
            "70/70 [==============================] - 0s 2ms/step - loss: 0.8098 - mae: 0.6474 - val_loss: 1.0713 - val_mae: 0.8313\n",
            "Epoch 151/200\n",
            "70/70 [==============================] - 0s 2ms/step - loss: 0.8106 - mae: 0.6480 - val_loss: 1.0669 - val_mae: 0.8327\n",
            "Epoch 152/200\n",
            "70/70 [==============================] - 0s 2ms/step - loss: 0.8066 - mae: 0.6464 - val_loss: 1.0723 - val_mae: 0.8309\n",
            "Epoch 153/200\n",
            "70/70 [==============================] - 0s 2ms/step - loss: 0.8074 - mae: 0.6481 - val_loss: 1.0506 - val_mae: 0.8222\n",
            "Epoch 154/200\n",
            "70/70 [==============================] - 0s 2ms/step - loss: 0.8060 - mae: 0.6456 - val_loss: 1.0872 - val_mae: 0.8341\n",
            "Epoch 155/200\n",
            "70/70 [==============================] - 0s 2ms/step - loss: 0.8136 - mae: 0.6484 - val_loss: 1.0807 - val_mae: 0.8337\n",
            "Epoch 156/200\n",
            "70/70 [==============================] - 0s 2ms/step - loss: 0.8047 - mae: 0.6453 - val_loss: 1.0503 - val_mae: 0.8194\n",
            "Epoch 157/200\n",
            "70/70 [==============================] - 0s 2ms/step - loss: 0.8062 - mae: 0.6464 - val_loss: 1.0907 - val_mae: 0.8368\n",
            "Epoch 158/200\n",
            "70/70 [==============================] - 0s 2ms/step - loss: 0.8049 - mae: 0.6472 - val_loss: 1.0648 - val_mae: 0.8280\n",
            "Epoch 159/200\n",
            "70/70 [==============================] - 0s 2ms/step - loss: 0.8030 - mae: 0.6433 - val_loss: 1.0668 - val_mae: 0.8305\n",
            "Epoch 160/200\n",
            "70/70 [==============================] - 0s 2ms/step - loss: 0.8036 - mae: 0.6467 - val_loss: 1.0718 - val_mae: 0.8230\n",
            "Epoch 161/200\n",
            "70/70 [==============================] - 0s 2ms/step - loss: 0.8041 - mae: 0.6452 - val_loss: 1.0514 - val_mae: 0.8180\n",
            "Epoch 162/200\n",
            "70/70 [==============================] - 0s 2ms/step - loss: 0.8043 - mae: 0.6455 - val_loss: 1.0762 - val_mae: 0.8313\n",
            "Epoch 163/200\n",
            "70/70 [==============================] - 0s 2ms/step - loss: 0.8017 - mae: 0.6456 - val_loss: 1.1019 - val_mae: 0.8413\n",
            "Epoch 164/200\n",
            "70/70 [==============================] - 0s 2ms/step - loss: 0.8038 - mae: 0.6447 - val_loss: 1.0746 - val_mae: 0.8282\n",
            "Epoch 165/200\n",
            "70/70 [==============================] - 0s 2ms/step - loss: 0.8003 - mae: 0.6452 - val_loss: 1.0831 - val_mae: 0.8321\n",
            "Epoch 166/200\n",
            "70/70 [==============================] - 0s 2ms/step - loss: 0.7995 - mae: 0.6437 - val_loss: 1.0888 - val_mae: 0.8352\n",
            "Epoch 167/200\n",
            "70/70 [==============================] - 0s 2ms/step - loss: 0.8006 - mae: 0.6439 - val_loss: 1.0718 - val_mae: 0.8227\n",
            "Epoch 168/200\n",
            "70/70 [==============================] - 0s 2ms/step - loss: 0.8029 - mae: 0.6448 - val_loss: 1.0697 - val_mae: 0.8287\n",
            "Epoch 169/200\n",
            "70/70 [==============================] - 0s 2ms/step - loss: 0.7984 - mae: 0.6446 - val_loss: 1.0915 - val_mae: 0.8369\n",
            "Epoch 170/200\n",
            "70/70 [==============================] - 0s 2ms/step - loss: 0.7972 - mae: 0.6426 - val_loss: 1.0983 - val_mae: 0.8371\n",
            "Epoch 171/200\n",
            "70/70 [==============================] - 0s 2ms/step - loss: 0.8017 - mae: 0.6449 - val_loss: 1.0382 - val_mae: 0.8275\n",
            "Epoch 172/200\n",
            "70/70 [==============================] - 0s 2ms/step - loss: 0.7965 - mae: 0.6430 - val_loss: 1.1056 - val_mae: 0.8358\n",
            "Epoch 173/200\n",
            "70/70 [==============================] - 0s 2ms/step - loss: 0.7950 - mae: 0.6427 - val_loss: 1.0894 - val_mae: 0.8346\n",
            "Epoch 174/200\n",
            "70/70 [==============================] - 0s 2ms/step - loss: 0.7969 - mae: 0.6433 - val_loss: 1.0995 - val_mae: 0.8365\n",
            "Epoch 175/200\n",
            "70/70 [==============================] - 0s 2ms/step - loss: 0.7971 - mae: 0.6438 - val_loss: 1.0918 - val_mae: 0.8346\n",
            "Epoch 176/200\n",
            "70/70 [==============================] - 0s 2ms/step - loss: 0.7973 - mae: 0.6426 - val_loss: 1.0856 - val_mae: 0.8391\n",
            "Epoch 177/200\n",
            "70/70 [==============================] - 0s 2ms/step - loss: 0.7967 - mae: 0.6431 - val_loss: 1.1067 - val_mae: 0.8470\n",
            "Epoch 178/200\n",
            "70/70 [==============================] - 0s 2ms/step - loss: 0.7939 - mae: 0.6423 - val_loss: 1.0919 - val_mae: 0.8377\n",
            "Epoch 179/200\n",
            "70/70 [==============================] - 0s 2ms/step - loss: 0.7946 - mae: 0.6436 - val_loss: 1.0900 - val_mae: 0.8325\n",
            "Epoch 180/200\n",
            "70/70 [==============================] - 0s 2ms/step - loss: 0.7961 - mae: 0.6441 - val_loss: 1.0908 - val_mae: 0.8392\n",
            "Epoch 181/200\n",
            "70/70 [==============================] - 0s 2ms/step - loss: 0.7928 - mae: 0.6417 - val_loss: 1.1138 - val_mae: 0.8468\n",
            "Epoch 182/200\n",
            "70/70 [==============================] - 0s 2ms/step - loss: 0.7915 - mae: 0.6397 - val_loss: 1.0912 - val_mae: 0.8330\n",
            "Epoch 183/200\n",
            "70/70 [==============================] - 0s 2ms/step - loss: 0.7887 - mae: 0.6392 - val_loss: 1.0822 - val_mae: 0.8322\n",
            "Epoch 184/200\n",
            "70/70 [==============================] - 0s 2ms/step - loss: 0.7927 - mae: 0.6438 - val_loss: 1.0963 - val_mae: 0.8321\n",
            "Epoch 185/200\n",
            "70/70 [==============================] - 0s 2ms/step - loss: 0.7931 - mae: 0.6429 - val_loss: 1.1246 - val_mae: 0.8437\n",
            "Epoch 186/200\n",
            "70/70 [==============================] - 0s 2ms/step - loss: 0.7939 - mae: 0.6422 - val_loss: 1.1163 - val_mae: 0.8414\n",
            "Epoch 187/200\n",
            "70/70 [==============================] - 0s 2ms/step - loss: 0.7916 - mae: 0.6410 - val_loss: 1.1206 - val_mae: 0.8424\n",
            "Epoch 188/200\n",
            "70/70 [==============================] - 0s 2ms/step - loss: 0.7887 - mae: 0.6410 - val_loss: 1.0921 - val_mae: 0.8316\n",
            "Epoch 189/200\n",
            "70/70 [==============================] - 0s 2ms/step - loss: 0.7907 - mae: 0.6419 - val_loss: 1.1152 - val_mae: 0.8396\n",
            "Epoch 190/200\n",
            "70/70 [==============================] - 0s 2ms/step - loss: 0.7878 - mae: 0.6412 - val_loss: 1.1128 - val_mae: 0.8333\n",
            "Epoch 191/200\n",
            "70/70 [==============================] - 0s 2ms/step - loss: 0.7889 - mae: 0.6403 - val_loss: 1.1096 - val_mae: 0.8347\n",
            "Epoch 192/200\n",
            "70/70 [==============================] - 0s 2ms/step - loss: 0.7880 - mae: 0.6393 - val_loss: 1.1061 - val_mae: 0.8294\n",
            "Epoch 193/200\n",
            "70/70 [==============================] - 0s 2ms/step - loss: 0.7887 - mae: 0.6395 - val_loss: 1.1034 - val_mae: 0.8374\n",
            "Epoch 194/200\n",
            "70/70 [==============================] - 0s 2ms/step - loss: 0.7861 - mae: 0.6402 - val_loss: 1.1031 - val_mae: 0.8423\n",
            "Epoch 195/200\n",
            "70/70 [==============================] - 0s 2ms/step - loss: 0.7883 - mae: 0.6404 - val_loss: 1.1103 - val_mae: 0.8370\n",
            "Epoch 196/200\n",
            "70/70 [==============================] - 0s 2ms/step - loss: 0.7857 - mae: 0.6398 - val_loss: 1.1520 - val_mae: 0.8595\n",
            "Epoch 197/200\n",
            "70/70 [==============================] - 0s 2ms/step - loss: 0.7834 - mae: 0.6392 - val_loss: 1.1287 - val_mae: 0.8425\n",
            "Epoch 198/200\n",
            "70/70 [==============================] - 0s 2ms/step - loss: 0.7860 - mae: 0.6400 - val_loss: 1.1195 - val_mae: 0.8417\n",
            "Epoch 199/200\n",
            "70/70 [==============================] - 0s 2ms/step - loss: 0.7831 - mae: 0.6383 - val_loss: 1.1359 - val_mae: 0.8459\n",
            "Epoch 200/200\n",
            "70/70 [==============================] - 0s 2ms/step - loss: 0.7851 - mae: 0.6388 - val_loss: 1.1135 - val_mae: 0.8345\n"
          ]
        }
      ]
    },
    {
      "cell_type": "code",
      "source": [
        "# Plot train and validation loss\n",
        "\n",
        "plt.plot(r.history['loss'], label = 'Train loss')\n",
        "plt.plot(r.history['val_loss'], label = 'Test loss')\n",
        "plt.legend();"
      ],
      "metadata": {
        "colab": {
          "base_uri": "https://localhost:8080/",
          "height": 265
        },
        "id": "NSW1ImWKUCTC",
        "outputId": "a4af0684-a5d3-45ed-c20c-d764b713a0a8"
      },
      "execution_count": null,
      "outputs": [
        {
          "output_type": "display_data",
          "data": {
            "image/png": "[encoded data removed]",
            "text/plain": [
              "<Figure size 432x288 with 1 Axes>"
            ]
          },
          "metadata": {
            "needs_background": "light"
          }
        }
      ]
    },
    {
      "cell_type": "code",
      "source": [
        "# First T+1 values are not predictable\n",
        "\n",
        "train_idx[:T+1] = False "
      ],
      "metadata": {
        "id": "4zb1xN4XUJg_"
      },
      "execution_count": null,
      "outputs": []
    },
    {
      "cell_type": "code",
      "source": [
        "# Compute model predictions\n",
        "\n",
        "Ptrain = model.predict(Xtrain)\n",
        "Ptest = model.predict(Xtest)\n",
        "\n",
        "# Because the data has been scaled by standard scaler\n",
        "# we need to invert the scale by calling inverse_transform\n",
        "\n",
        "Ptrain = ss.inverse_transform(Ptrain).flatten()\n",
        "Ptest = ss.inverse_transform(Ptest).flatten()"
      ],
      "metadata": {
        "id": "vFZEmRk1UNna"
      },
      "execution_count": null,
      "outputs": []
    },
    {
      "cell_type": "code",
      "source": [
        "# Store diff predictions\n",
        "\n",
        "sbux.loc[train_idx, 'Diff ANN Train Prediction'] = Ptrain\n",
        "sbux.loc[test_idx, 'Diff ANN Test Prediction'] = Ptest"
      ],
      "metadata": {
        "id": "idaMFgZhUZh0"
      },
      "execution_count": null,
      "outputs": []
    },
    {
      "cell_type": "code",
      "source": [
        "sbux[['DiffLogClose', 'Diff ANN Train Prediction', 'Diff ANN Test Prediction']].plot(figsize = (15, 5));"
      ],
      "metadata": {
        "colab": {
          "base_uri": "https://localhost:8080/",
          "height": 235
        },
        "id": "5WM1VCOuUyY0",
        "outputId": "5040e4b0-86f2-42c1-8820-c048f05f6518"
      },
      "execution_count": null,
      "outputs": [
        {
          "output_type": "display_data",
          "data": {
            "image/png": "[encoded data removed]",
            "text/plain": [
              "<Figure size 1080x360 with 1 Axes>"
            ]
          },
          "metadata": {
            "needs_background": "light"
          }
        }
      ]
    },
    {
      "cell_type": "code",
      "source": [
        "# Need to compute un-differenced predictions\n",
        "\n",
        "sbux['ShiftLogClose'] = sbux['LogClose'].shift(1)\n",
        "prev = sbux['ShiftLogClose']"
      ],
      "metadata": {
        "id": "keOFQZpSU6SI"
      },
      "execution_count": null,
      "outputs": []
    },
    {
      "cell_type": "code",
      "source": [
        "# Last known train value\n",
        "\n",
        "last_train = train.iloc[-1]['LogClose']"
      ],
      "metadata": {
        "id": "WS8LXYdoVDG7"
      },
      "execution_count": null,
      "outputs": []
    },
    {
      "cell_type": "markdown",
      "source": [
        "### 1-step"
      ],
      "metadata": {
        "id": "rGsZ8_ByVIxc"
      }
    },
    {
      "cell_type": "code",
      "source": [
        "# 1-step forecast\n",
        "\n",
        "sbux.loc[train_idx, '1step_train'] = prev[train_idx] + Ptrain\n",
        "sbux.loc[test_idx, '1step_test'] = prev[test_idx] + Ptest"
      ],
      "metadata": {
        "id": "VwEqRChOVFpH"
      },
      "execution_count": null,
      "outputs": []
    },
    {
      "cell_type": "code",
      "source": [
        "# Plot 1-step forecast\n",
        "\n",
        "sbux.iloc[-100:][['LogClose', '1step_train', '1step_test']].plot(figsize = (15, 5));"
      ],
      "metadata": {
        "colab": {
          "base_uri": "https://localhost:8080/",
          "height": 243
        },
        "id": "VNtwoUX0VMAU",
        "outputId": "a5a04521-747b-4e65-f91e-05cb6db56055"
      },
      "execution_count": null,
      "outputs": [
        {
          "output_type": "display_data",
          "data": {
            "image/png": "[encoded data removed]",
            "text/plain": [
              "<Figure size 1080x360 with 1 Axes>"
            ]
          },
          "metadata": {
            "needs_background": "light"
          }
        }
      ]
    },
    {
      "cell_type": "markdown",
      "source": [
        "### Multi-step"
      ],
      "metadata": {
        "id": "mCEXob9VVd3s"
      }
    },
    {
      "cell_type": "code",
      "source": [
        "# Multi-step forecast \n",
        "\n",
        "multistep_predictions = []\n",
        "\n",
        "# First test input\n",
        "\n",
        "last_x = Xtest[0]\n",
        "\n",
        "while len(multistep_predictions) < Ntest:\n",
        "  # last_x array reshaped because sklearn only accepts 2D input\n",
        "  p = model(last_x.reshape(1, -1))[0]\n",
        "\n",
        "  # Update predictions list\n",
        "  multistep_predictions.append(p)\n",
        "\n",
        "  # Make the new input\n",
        "  last_x = np.roll(last_x, -1)\n",
        "  last_x[-1] = p"
      ],
      "metadata": {
        "id": "94Hyc8sWVSZd"
      },
      "execution_count": null,
      "outputs": []
    },
    {
      "cell_type": "code",
      "source": [
        "# Unscale\n",
        "\n",
        "# Converting the list into a numpy array\n",
        "multistep_predictions = np.array(multistep_predictions)\n",
        "\n",
        "# Reshape to 2D array and flatten it to 1D array\n",
        "multistep_predictions = ss.inverse_transform(multistep_predictions.reshape(-1, 1)).flatten()"
      ],
      "metadata": {
        "id": "N6wTY18BVjkn"
      },
      "execution_count": null,
      "outputs": []
    },
    {
      "cell_type": "code",
      "source": [
        "# Save multi-step forecast to the dataframe\n",
        "\n",
        "sbux.loc[test_idx, 'multistep'] = last_train + np.cumsum(multistep_predictions)"
      ],
      "metadata": {
        "id": "sWsXVd38Vgu0"
      },
      "execution_count": null,
      "outputs": []
    },
    {
      "cell_type": "code",
      "source": [
        "# Plot 1-step and multistep\n",
        "\n",
        "sbux.iloc[-100:][['LogClose', 'multistep', '1step_test']].plot(figsize = (15, 5));"
      ],
      "metadata": {
        "colab": {
          "base_uri": "https://localhost:8080/",
          "height": 243
        },
        "id": "KunRlhrqVymw",
        "outputId": "fdb10738-1375-4c19-a5b7-795957289757"
      },
      "execution_count": null,
      "outputs": [
        {
          "output_type": "display_data",
          "data": {
            "image/png": "[encoded data removed]",
            "text/plain": [
              "<Figure size 1080x360 with 1 Axes>"
            ]
          },
          "metadata": {
            "needs_background": "light"
          }
        }
      ]
    },
    {
      "cell_type": "markdown",
      "source": [
        "### Multi-output"
      ],
      "metadata": {
        "id": "WQSUTr6lWGzZ"
      }
    },
    {
      "cell_type": "code",
      "source": [
        "# Make multi-output supervised dataset\n",
        "\n",
        "Tx = T      # number of timesteps in the input\n",
        "Ty = Ntest  # number of timesteps in the output\n",
        "X = []\n",
        "Y = []\n",
        "\n",
        "for t in range(len(series) - Tx - Ty + 1):\n",
        "  x = series[t:t+Tx]\n",
        "  X.append(x)\n",
        "  y = series[t+Tx:t+Tx+Ty]\n",
        "  Y.append(y)\n",
        "\n",
        "X = np.array(X).reshape(-1, Tx)\n",
        "Y = np.array(Y).reshape(-1, Ty)\n",
        "N = len(X)\n",
        "print(\"X.shape\", X.shape, \"Y.shape\", Y.shape)"
      ],
      "metadata": {
        "colab": {
          "base_uri": "https://localhost:8080/"
        },
        "id": "NEmn81HdV-6z",
        "outputId": "d129b253-705b-46a9-8a0b-34139e82b926"
      },
      "execution_count": null,
      "outputs": [
        {
          "output_type": "stream",
          "name": "stdout",
          "text": [
            "X.shape (2232, 10) Y.shape (2232, 21)\n"
          ]
        }
      ]
    },
    {
      "cell_type": "code",
      "source": [
        "# Split into train and test\n",
        "\n",
        "Xtrain_m, Ytrain_m = X[:-1], Y[:-1]\n",
        "Xtest_m, Ytest_m = X[-1:], Y[-1:]"
      ],
      "metadata": {
        "id": "ntGs9-k4WL-p"
      },
      "execution_count": null,
      "outputs": []
    },
    {
      "cell_type": "code",
      "source": [
        "# Basic ANN\n",
        "\n",
        "# Create input layer with dimensionality T\n",
        "i = Input(shape = (Tx,))\n",
        "\n",
        "# Create 1st hidden layer size of 32 with relu\n",
        "x = Dense(32, activation = 'relu')(i) \n",
        "\n",
        "# Output layer Dense of output size 1. Because the initial model is a 1 step predictor\n",
        "x = Dense(Ty)(x) \n",
        "\n",
        "# Instantiate model object passing the input and output\n",
        "model = Model(i, x)"
      ],
      "metadata": {
        "id": "dYcDjlSbWNUp"
      },
      "execution_count": null,
      "outputs": []
    },
    {
      "cell_type": "code",
      "source": [
        "# Compiling the model object\n",
        "\n",
        "model.compile(loss = 'mse',\n",
        "              optimizer = 'adam',\n",
        "              metrics = 'mae')"
      ],
      "metadata": {
        "id": "LF3vF0m2WPEm"
      },
      "execution_count": null,
      "outputs": []
    },
    {
      "cell_type": "code",
      "source": [
        "# Call fit function\n",
        "\n",
        "r = model.fit(Xtrain_m, Ytrain_m, epochs = 100,\n",
        "              validation_data = (Xtest_m, Ytest_m))"
      ],
      "metadata": {
        "colab": {
          "base_uri": "https://localhost:8080/"
        },
        "id": "RVm37oZqWQOV",
        "outputId": "56e3340d-6716-400d-c1e2-535e9b917873"
      },
      "execution_count": null,
      "outputs": [
        {
          "output_type": "stream",
          "name": "stdout",
          "text": [
            "Epoch 1/100\n",
            "70/70 [==============================] - 1s 3ms/step - loss: 1.1398 - mae: 0.7574 - val_loss: 0.9852 - val_mae: 0.7536\n",
            "Epoch 2/100\n",
            "70/70 [==============================] - 0s 2ms/step - loss: 1.0556 - mae: 0.7231 - val_loss: 0.9896 - val_mae: 0.7537\n",
            "Epoch 3/100\n",
            "70/70 [==============================] - 0s 2ms/step - loss: 1.0298 - mae: 0.7122 - val_loss: 0.9933 - val_mae: 0.7547\n",
            "Epoch 4/100\n",
            "70/70 [==============================] - 0s 2ms/step - loss: 1.0172 - mae: 0.7070 - val_loss: 1.0016 - val_mae: 0.7551\n",
            "Epoch 5/100\n",
            "70/70 [==============================] - 0s 2ms/step - loss: 1.0095 - mae: 0.7039 - val_loss: 0.9971 - val_mae: 0.7528\n",
            "Epoch 6/100\n",
            "70/70 [==============================] - 0s 2ms/step - loss: 1.0048 - mae: 0.7018 - val_loss: 0.9985 - val_mae: 0.7548\n",
            "Epoch 7/100\n",
            "70/70 [==============================] - 0s 2ms/step - loss: 1.0014 - mae: 0.7005 - val_loss: 1.0006 - val_mae: 0.7549\n",
            "Epoch 8/100\n",
            "70/70 [==============================] - 0s 2ms/step - loss: 0.9988 - mae: 0.6995 - val_loss: 1.0012 - val_mae: 0.7563\n",
            "Epoch 9/100\n",
            "70/70 [==============================] - 0s 2ms/step - loss: 0.9969 - mae: 0.6989 - val_loss: 1.0049 - val_mae: 0.7564\n",
            "Epoch 10/100\n",
            "70/70 [==============================] - 0s 2ms/step - loss: 0.9950 - mae: 0.6981 - val_loss: 0.9993 - val_mae: 0.7550\n",
            "Epoch 11/100\n",
            "70/70 [==============================] - 0s 2ms/step - loss: 0.9936 - mae: 0.6976 - val_loss: 0.9944 - val_mae: 0.7530\n",
            "Epoch 12/100\n",
            "70/70 [==============================] - 0s 2ms/step - loss: 0.9923 - mae: 0.6972 - val_loss: 0.9984 - val_mae: 0.7559\n",
            "Epoch 13/100\n",
            "70/70 [==============================] - 0s 2ms/step - loss: 0.9914 - mae: 0.6968 - val_loss: 0.9951 - val_mae: 0.7540\n",
            "Epoch 14/100\n",
            "70/70 [==============================] - 0s 2ms/step - loss: 0.9905 - mae: 0.6965 - val_loss: 0.9941 - val_mae: 0.7545\n",
            "Epoch 15/100\n",
            "70/70 [==============================] - 0s 2ms/step - loss: 0.9897 - mae: 0.6963 - val_loss: 0.9912 - val_mae: 0.7525\n",
            "Epoch 16/100\n",
            "70/70 [==============================] - 0s 2ms/step - loss: 0.9889 - mae: 0.6961 - val_loss: 0.9944 - val_mae: 0.7557\n",
            "Epoch 17/100\n",
            "70/70 [==============================] - 0s 2ms/step - loss: 0.9883 - mae: 0.6959 - val_loss: 0.9947 - val_mae: 0.7562\n",
            "Epoch 18/100\n",
            "70/70 [==============================] - 0s 2ms/step - loss: 0.9877 - mae: 0.6958 - val_loss: 0.9888 - val_mae: 0.7558\n",
            "Epoch 19/100\n",
            "70/70 [==============================] - 0s 2ms/step - loss: 0.9872 - mae: 0.6956 - val_loss: 0.9942 - val_mae: 0.7561\n",
            "Epoch 20/100\n",
            "70/70 [==============================] - 0s 2ms/step - loss: 0.9866 - mae: 0.6954 - val_loss: 0.9899 - val_mae: 0.7544\n",
            "Epoch 21/100\n",
            "70/70 [==============================] - 0s 2ms/step - loss: 0.9860 - mae: 0.6954 - val_loss: 0.9912 - val_mae: 0.7584\n",
            "Epoch 22/100\n",
            "70/70 [==============================] - 0s 2ms/step - loss: 0.9855 - mae: 0.6952 - val_loss: 0.9893 - val_mae: 0.7565\n",
            "Epoch 23/100\n",
            "70/70 [==============================] - 0s 2ms/step - loss: 0.9852 - mae: 0.6951 - val_loss: 0.9914 - val_mae: 0.7578\n",
            "Epoch 24/100\n",
            "70/70 [==============================] - 0s 2ms/step - loss: 0.9848 - mae: 0.6950 - val_loss: 0.9875 - val_mae: 0.7559\n",
            "Epoch 25/100\n",
            "70/70 [==============================] - 0s 2ms/step - loss: 0.9843 - mae: 0.6949 - val_loss: 0.9870 - val_mae: 0.7567\n",
            "Epoch 26/100\n",
            "70/70 [==============================] - 0s 2ms/step - loss: 0.9838 - mae: 0.6948 - val_loss: 0.9900 - val_mae: 0.7588\n",
            "Epoch 27/100\n",
            "70/70 [==============================] - 0s 2ms/step - loss: 0.9834 - mae: 0.6948 - val_loss: 0.9889 - val_mae: 0.7585\n",
            "Epoch 28/100\n",
            "70/70 [==============================] - 0s 2ms/step - loss: 0.9830 - mae: 0.6947 - val_loss: 0.9932 - val_mae: 0.7618\n",
            "Epoch 29/100\n",
            "70/70 [==============================] - 0s 2ms/step - loss: 0.9826 - mae: 0.6946 - val_loss: 0.9925 - val_mae: 0.7620\n",
            "Epoch 30/100\n",
            "70/70 [==============================] - 0s 2ms/step - loss: 0.9823 - mae: 0.6946 - val_loss: 0.9867 - val_mae: 0.7594\n",
            "Epoch 31/100\n",
            "70/70 [==============================] - 0s 2ms/step - loss: 0.9819 - mae: 0.6945 - val_loss: 0.9907 - val_mae: 0.7638\n",
            "Epoch 32/100\n",
            "70/70 [==============================] - 0s 2ms/step - loss: 0.9815 - mae: 0.6944 - val_loss: 0.9897 - val_mae: 0.7615\n",
            "Epoch 33/100\n",
            "70/70 [==============================] - 0s 2ms/step - loss: 0.9811 - mae: 0.6944 - val_loss: 0.9911 - val_mae: 0.7636\n",
            "Epoch 34/100\n",
            "70/70 [==============================] - 0s 2ms/step - loss: 0.9808 - mae: 0.6944 - val_loss: 0.9916 - val_mae: 0.7637\n",
            "Epoch 35/100\n",
            "70/70 [==============================] - 0s 2ms/step - loss: 0.9805 - mae: 0.6943 - val_loss: 0.9940 - val_mae: 0.7630\n",
            "Epoch 36/100\n",
            "70/70 [==============================] - 0s 2ms/step - loss: 0.9801 - mae: 0.6942 - val_loss: 0.9897 - val_mae: 0.7622\n",
            "Epoch 37/100\n",
            "70/70 [==============================] - 0s 2ms/step - loss: 0.9799 - mae: 0.6943 - val_loss: 0.9909 - val_mae: 0.7646\n",
            "Epoch 38/100\n",
            "70/70 [==============================] - 0s 2ms/step - loss: 0.9796 - mae: 0.6943 - val_loss: 0.9949 - val_mae: 0.7668\n",
            "Epoch 39/100\n",
            "70/70 [==============================] - 0s 2ms/step - loss: 0.9793 - mae: 0.6942 - val_loss: 0.9936 - val_mae: 0.7658\n",
            "Epoch 40/100\n",
            "70/70 [==============================] - 0s 2ms/step - loss: 0.9791 - mae: 0.6940 - val_loss: 0.9926 - val_mae: 0.7654\n",
            "Epoch 41/100\n",
            "70/70 [==============================] - 0s 2ms/step - loss: 0.9787 - mae: 0.6940 - val_loss: 0.9950 - val_mae: 0.7694\n",
            "Epoch 42/100\n",
            "70/70 [==============================] - 0s 2ms/step - loss: 0.9785 - mae: 0.6941 - val_loss: 0.9975 - val_mae: 0.7675\n",
            "Epoch 43/100\n",
            "70/70 [==============================] - 0s 2ms/step - loss: 0.9782 - mae: 0.6940 - val_loss: 0.9940 - val_mae: 0.7671\n",
            "Epoch 44/100\n",
            "70/70 [==============================] - 0s 2ms/step - loss: 0.9781 - mae: 0.6940 - val_loss: 0.9984 - val_mae: 0.7691\n",
            "Epoch 45/100\n",
            "70/70 [==============================] - 0s 2ms/step - loss: 0.9776 - mae: 0.6938 - val_loss: 0.9975 - val_mae: 0.7689\n",
            "Epoch 46/100\n",
            "70/70 [==============================] - 0s 2ms/step - loss: 0.9773 - mae: 0.6938 - val_loss: 1.0017 - val_mae: 0.7716\n",
            "Epoch 47/100\n",
            "70/70 [==============================] - 0s 2ms/step - loss: 0.9772 - mae: 0.6938 - val_loss: 1.0011 - val_mae: 0.7719\n",
            "Epoch 48/100\n",
            "70/70 [==============================] - 0s 2ms/step - loss: 0.9770 - mae: 0.6938 - val_loss: 0.9998 - val_mae: 0.7705\n",
            "Epoch 49/100\n",
            "70/70 [==============================] - 0s 2ms/step - loss: 0.9770 - mae: 0.6938 - val_loss: 0.9999 - val_mae: 0.7707\n",
            "Epoch 50/100\n",
            "70/70 [==============================] - 0s 2ms/step - loss: 0.9766 - mae: 0.6937 - val_loss: 1.0006 - val_mae: 0.7713\n",
            "Epoch 51/100\n",
            "70/70 [==============================] - 0s 2ms/step - loss: 0.9763 - mae: 0.6936 - val_loss: 0.9998 - val_mae: 0.7712\n",
            "Epoch 52/100\n",
            "70/70 [==============================] - 0s 2ms/step - loss: 0.9760 - mae: 0.6936 - val_loss: 1.0044 - val_mae: 0.7737\n",
            "Epoch 53/100\n",
            "70/70 [==============================] - 0s 2ms/step - loss: 0.9757 - mae: 0.6935 - val_loss: 1.0056 - val_mae: 0.7735\n",
            "Epoch 54/100\n",
            "70/70 [==============================] - 0s 2ms/step - loss: 0.9757 - mae: 0.6936 - val_loss: 1.0018 - val_mae: 0.7712\n",
            "Epoch 55/100\n",
            "70/70 [==============================] - 0s 2ms/step - loss: 0.9754 - mae: 0.6934 - val_loss: 1.0066 - val_mae: 0.7753\n",
            "Epoch 56/100\n",
            "70/70 [==============================] - 0s 2ms/step - loss: 0.9754 - mae: 0.6935 - val_loss: 1.0048 - val_mae: 0.7745\n",
            "Epoch 57/100\n",
            "70/70 [==============================] - 0s 2ms/step - loss: 0.9750 - mae: 0.6935 - val_loss: 1.0043 - val_mae: 0.7753\n",
            "Epoch 58/100\n",
            "70/70 [==============================] - 0s 2ms/step - loss: 0.9750 - mae: 0.6934 - val_loss: 1.0086 - val_mae: 0.7770\n",
            "Epoch 59/100\n",
            "70/70 [==============================] - 0s 2ms/step - loss: 0.9749 - mae: 0.6934 - val_loss: 1.0070 - val_mae: 0.7774\n",
            "Epoch 60/100\n",
            "70/70 [==============================] - 0s 2ms/step - loss: 0.9748 - mae: 0.6934 - val_loss: 1.0050 - val_mae: 0.7766\n",
            "Epoch 61/100\n",
            "70/70 [==============================] - 0s 2ms/step - loss: 0.9744 - mae: 0.6933 - val_loss: 1.0067 - val_mae: 0.7776\n",
            "Epoch 62/100\n",
            "70/70 [==============================] - 0s 2ms/step - loss: 0.9742 - mae: 0.6934 - val_loss: 1.0109 - val_mae: 0.7800\n",
            "Epoch 63/100\n",
            "70/70 [==============================] - 0s 2ms/step - loss: 0.9741 - mae: 0.6934 - val_loss: 1.0077 - val_mae: 0.7787\n",
            "Epoch 64/100\n",
            "70/70 [==============================] - 0s 2ms/step - loss: 0.9738 - mae: 0.6933 - val_loss: 1.0096 - val_mae: 0.7810\n",
            "Epoch 65/100\n",
            "70/70 [==============================] - 0s 2ms/step - loss: 0.9737 - mae: 0.6932 - val_loss: 1.0105 - val_mae: 0.7804\n",
            "Epoch 66/100\n",
            "70/70 [==============================] - 0s 2ms/step - loss: 0.9736 - mae: 0.6933 - val_loss: 1.0051 - val_mae: 0.7785\n",
            "Epoch 67/100\n",
            "70/70 [==============================] - 0s 2ms/step - loss: 0.9735 - mae: 0.6933 - val_loss: 1.0134 - val_mae: 0.7811\n",
            "Epoch 68/100\n",
            "70/70 [==============================] - 0s 2ms/step - loss: 0.9731 - mae: 0.6932 - val_loss: 1.0128 - val_mae: 0.7802\n",
            "Epoch 69/100\n",
            "70/70 [==============================] - 0s 2ms/step - loss: 0.9731 - mae: 0.6932 - val_loss: 1.0134 - val_mae: 0.7834\n",
            "Epoch 70/100\n",
            "70/70 [==============================] - 0s 2ms/step - loss: 0.9728 - mae: 0.6932 - val_loss: 1.0197 - val_mae: 0.7834\n",
            "Epoch 71/100\n",
            "70/70 [==============================] - 0s 2ms/step - loss: 0.9728 - mae: 0.6931 - val_loss: 1.0168 - val_mae: 0.7837\n",
            "Epoch 72/100\n",
            "70/70 [==============================] - 0s 2ms/step - loss: 0.9727 - mae: 0.6931 - val_loss: 1.0164 - val_mae: 0.7830\n",
            "Epoch 73/100\n",
            "70/70 [==============================] - 0s 2ms/step - loss: 0.9725 - mae: 0.6931 - val_loss: 1.0185 - val_mae: 0.7846\n",
            "Epoch 74/100\n",
            "70/70 [==============================] - 0s 2ms/step - loss: 0.9723 - mae: 0.6930 - val_loss: 1.0129 - val_mae: 0.7820\n",
            "Epoch 75/100\n",
            "70/70 [==============================] - 0s 2ms/step - loss: 0.9721 - mae: 0.6930 - val_loss: 1.0142 - val_mae: 0.7836\n",
            "Epoch 76/100\n",
            "70/70 [==============================] - 0s 2ms/step - loss: 0.9721 - mae: 0.6930 - val_loss: 1.0166 - val_mae: 0.7847\n",
            "Epoch 77/100\n",
            "70/70 [==============================] - 0s 2ms/step - loss: 0.9718 - mae: 0.6930 - val_loss: 1.0194 - val_mae: 0.7858\n",
            "Epoch 78/100\n",
            "70/70 [==============================] - 0s 2ms/step - loss: 0.9720 - mae: 0.6929 - val_loss: 1.0180 - val_mae: 0.7837\n",
            "Epoch 79/100\n",
            "70/70 [==============================] - 0s 2ms/step - loss: 0.9717 - mae: 0.6929 - val_loss: 1.0225 - val_mae: 0.7879\n",
            "Epoch 80/100\n",
            "70/70 [==============================] - 0s 2ms/step - loss: 0.9715 - mae: 0.6929 - val_loss: 1.0205 - val_mae: 0.7873\n",
            "Epoch 81/100\n",
            "70/70 [==============================] - 0s 2ms/step - loss: 0.9713 - mae: 0.6929 - val_loss: 1.0161 - val_mae: 0.7866\n",
            "Epoch 82/100\n",
            "70/70 [==============================] - 0s 2ms/step - loss: 0.9712 - mae: 0.6928 - val_loss: 1.0198 - val_mae: 0.7857\n",
            "Epoch 83/100\n",
            "70/70 [==============================] - 0s 2ms/step - loss: 0.9709 - mae: 0.6928 - val_loss: 1.0209 - val_mae: 0.7866\n",
            "Epoch 84/100\n",
            "70/70 [==============================] - 0s 2ms/step - loss: 0.9709 - mae: 0.6928 - val_loss: 1.0206 - val_mae: 0.7873\n",
            "Epoch 85/100\n",
            "70/70 [==============================] - 0s 2ms/step - loss: 0.9710 - mae: 0.6929 - val_loss: 1.0185 - val_mae: 0.7858\n",
            "Epoch 86/100\n",
            "70/70 [==============================] - 0s 2ms/step - loss: 0.9708 - mae: 0.6928 - val_loss: 1.0254 - val_mae: 0.7885\n",
            "Epoch 87/100\n",
            "70/70 [==============================] - 0s 2ms/step - loss: 0.9705 - mae: 0.6927 - val_loss: 1.0236 - val_mae: 0.7885\n",
            "Epoch 88/100\n",
            "70/70 [==============================] - 0s 2ms/step - loss: 0.9705 - mae: 0.6928 - val_loss: 1.0295 - val_mae: 0.7909\n",
            "Epoch 89/100\n",
            "70/70 [==============================] - 0s 2ms/step - loss: 0.9704 - mae: 0.6928 - val_loss: 1.0272 - val_mae: 0.7890\n",
            "Epoch 90/100\n",
            "70/70 [==============================] - 0s 2ms/step - loss: 0.9702 - mae: 0.6928 - val_loss: 1.0313 - val_mae: 0.7916\n",
            "Epoch 91/100\n",
            "70/70 [==============================] - 0s 2ms/step - loss: 0.9702 - mae: 0.6927 - val_loss: 1.0313 - val_mae: 0.7898\n",
            "Epoch 92/100\n",
            "70/70 [==============================] - 0s 2ms/step - loss: 0.9700 - mae: 0.6927 - val_loss: 1.0275 - val_mae: 0.7905\n",
            "Epoch 93/100\n",
            "70/70 [==============================] - 0s 2ms/step - loss: 0.9699 - mae: 0.6926 - val_loss: 1.0287 - val_mae: 0.7889\n",
            "Epoch 94/100\n",
            "70/70 [==============================] - 0s 2ms/step - loss: 0.9698 - mae: 0.6927 - val_loss: 1.0289 - val_mae: 0.7882\n",
            "Epoch 95/100\n",
            "70/70 [==============================] - 0s 2ms/step - loss: 0.9696 - mae: 0.6925 - val_loss: 1.0355 - val_mae: 0.7911\n",
            "Epoch 96/100\n",
            "70/70 [==============================] - 0s 2ms/step - loss: 0.9696 - mae: 0.6927 - val_loss: 1.0277 - val_mae: 0.7885\n",
            "Epoch 97/100\n",
            "70/70 [==============================] - 0s 2ms/step - loss: 0.9694 - mae: 0.6926 - val_loss: 1.0313 - val_mae: 0.7896\n",
            "Epoch 98/100\n",
            "70/70 [==============================] - 0s 2ms/step - loss: 0.9694 - mae: 0.6926 - val_loss: 1.0297 - val_mae: 0.7918\n",
            "Epoch 99/100\n",
            "70/70 [==============================] - 0s 2ms/step - loss: 0.9691 - mae: 0.6925 - val_loss: 1.0297 - val_mae: 0.7902\n",
            "Epoch 100/100\n",
            "70/70 [==============================] - 0s 2ms/step - loss: 0.9692 - mae: 0.6926 - val_loss: 1.0298 - val_mae: 0.7900\n"
          ]
        }
      ]
    },
    {
      "cell_type": "code",
      "source": [
        "# Plot train and validation loss\n",
        "\n",
        "plt.plot(r.history['loss'], label = 'Train loss')\n",
        "plt.plot(r.history['val_loss'], label = 'Test loss')\n",
        "plt.legend();"
      ],
      "metadata": {
        "colab": {
          "base_uri": "https://localhost:8080/",
          "height": 265
        },
        "id": "iKwrI6L5WTpE",
        "outputId": "8417876e-cb68-41b3-a02f-0847e28f8e07"
      },
      "execution_count": null,
      "outputs": [
        {
          "output_type": "display_data",
          "data": {
            "image/png": "[encoded data removed]",
            "text/plain": [
              "<Figure size 432x288 with 1 Axes>"
            ]
          },
          "metadata": {
            "needs_background": "light"
          }
        }
      ]
    },
    {
      "cell_type": "code",
      "source": [
        "Ptrain = model.predict(Xtrain_m)\n",
        "Ptest = model.predict(Xtest_m)"
      ],
      "metadata": {
        "id": "onBbAOu-WcWe"
      },
      "execution_count": null,
      "outputs": []
    },
    {
      "cell_type": "code",
      "source": [
        "Ptrain.shape, Ptest.shape"
      ],
      "metadata": {
        "colab": {
          "base_uri": "https://localhost:8080/"
        },
        "id": "0SMqMsOuWdG1",
        "outputId": "98dd75b6-3062-4142-e4e8-64f6eac88782"
      },
      "execution_count": null,
      "outputs": [
        {
          "output_type": "execute_result",
          "data": {
            "text/plain": [
              "((2231, 21), (1, 21))"
            ]
          },
          "metadata": {},
          "execution_count": 46
        }
      ]
    },
    {
      "cell_type": "code",
      "source": [
        "Ptrain = Ptrain[:, 0]\n",
        "Ptest = Ptest[0]"
      ],
      "metadata": {
        "id": "z95iII8AWebq"
      },
      "execution_count": null,
      "outputs": []
    },
    {
      "cell_type": "code",
      "source": [
        "# Unscale\n",
        "# Reshape to 2D array and flatten it to 1D array\n",
        "Ptest = ss.inverse_transform(Ptest.reshape(-1, 1)).flatten()"
      ],
      "metadata": {
        "id": "X-WgLENKWgNL"
      },
      "execution_count": null,
      "outputs": []
    },
    {
      "cell_type": "code",
      "source": [
        "# Save output to dataframe\n",
        "\n",
        "sbux.loc[test_idx, 'multioutput'] = last_train + np.cumsum(Ptest)"
      ],
      "metadata": {
        "id": "mS1YsukYWsJo"
      },
      "execution_count": null,
      "outputs": []
    },
    {
      "cell_type": "code",
      "source": [
        "sbux.iloc[-100:][['LogClose', 'multistep', '1step_test', 'multioutput']].plot(figsize = (15, 5));"
      ],
      "metadata": {
        "colab": {
          "base_uri": "https://localhost:8080/",
          "height": 243
        },
        "id": "k48oFwiPWvfW",
        "outputId": "7af29a4d-f057-4c86-9b05-e9a2b77269e3"
      },
      "execution_count": null,
      "outputs": [
        {
          "output_type": "display_data",
          "data": {
            "image/png": "[encoded data removed]",
            "text/plain": [
              "<Figure size 1080x360 with 1 Axes>"
            ]
          },
          "metadata": {
            "needs_background": "light"
          }
        }
      ]
    },
    {
      "cell_type": "code",
      "source": [
        "# Use different metric\n",
        "\n",
        "# MAPE\n",
        "test_log_pass = sbux.iloc[-Ntest:]['LogClose']\n",
        "\n",
        "mape1 = mean_absolute_percentage_error(test_log_pass, sbux.loc[test_idx, 'multistep'])\n",
        "print('Multi-step MAPE:', mape1)\n",
        "\n",
        "mape2 = mean_absolute_percentage_error(test_log_pass, sbux.loc[test_idx, 'multioutput'])\n",
        "print('Multi-output MAPE:', mape2)"
      ],
      "metadata": {
        "colab": {
          "base_uri": "https://localhost:8080/"
        },
        "id": "VYFRqyRNW1gP",
        "outputId": "b4f34d7b-9a31-4a5c-ad3f-5f93f7fe4475"
      },
      "execution_count": null,
      "outputs": [
        {
          "output_type": "stream",
          "name": "stdout",
          "text": [
            "Multi-step MAPE: 0.0040448481317246696\n",
            "Multi-output MAPE: 0.003825412187841808\n"
          ]
        }
      ]
    },
    {
      "cell_type": "markdown",
      "source": [
        "### 1-step Binary Classification"
      ],
      "metadata": {
        "id": "StHk_xgbXBGK"
      }
    },
    {
      "cell_type": "code",
      "source": [
        "Ytrain_b = (Ytrain > 0) * 1\n",
        "Ytest_b = (Ytest > 0) * 1"
      ],
      "metadata": {
        "id": "DNKLYA9uW9hT"
      },
      "execution_count": null,
      "outputs": []
    },
    {
      "cell_type": "code",
      "source": [
        "# Basic ANN\n",
        "\n",
        "# Create input layer with dimensionality T\n",
        "i = Input(shape = (T,))\n",
        "\n",
        "# Create 1st hidden layer size of 32 with relu\n",
        "x = Dense(32, activation = 'relu')(i) \n",
        "\n",
        "# Output layer Dense of output size 1. Because the initial model is a 1 step predictor\n",
        "x = Dense(1)(x) \n",
        "\n",
        "# Instantiate model object passing the input and output\n",
        "model = Model(i, x)"
      ],
      "metadata": {
        "id": "Uh5h_8OWXIEE"
      },
      "execution_count": null,
      "outputs": []
    },
    {
      "cell_type": "code",
      "source": [
        "# Compiling the model object\n",
        "# Use BinaryCrossentropy for binary classification\n",
        "\n",
        "model.compile(loss = tf.keras.losses.BinaryCrossentropy(from_logits = True),\n",
        "              optimizer = 'adam',\n",
        "              metrics = ['accuracy'])"
      ],
      "metadata": {
        "id": "VX9jDnCHXOEI"
      },
      "execution_count": null,
      "outputs": []
    },
    {
      "cell_type": "code",
      "source": [
        "# Call fit function\n",
        "\n",
        "r = model.fit(Xtrain, Ytrain_b, epochs = 100,\n",
        "              validation_data = (Xtest, Ytest_b))"
      ],
      "metadata": {
        "colab": {
          "base_uri": "https://localhost:8080/"
        },
        "id": "tw3ac37tXciM",
        "outputId": "49bee5e8-d9f5-4383-bfb8-b2a1e9a6b3a3"
      },
      "execution_count": null,
      "outputs": [
        {
          "output_type": "stream",
          "name": "stdout",
          "text": [
            "Epoch 1/100\n",
            "70/70 [==============================] - 1s 4ms/step - loss: 0.7154 - accuracy: 0.4948 - val_loss: 0.7165 - val_accuracy: 0.4286\n",
            "Epoch 2/100\n",
            "70/70 [==============================] - 0s 2ms/step - loss: 0.7010 - accuracy: 0.5025 - val_loss: 0.7045 - val_accuracy: 0.4286\n",
            "Epoch 3/100\n",
            "70/70 [==============================] - 0s 2ms/step - loss: 0.6944 - accuracy: 0.5020 - val_loss: 0.6992 - val_accuracy: 0.4286\n",
            "Epoch 4/100\n",
            "70/70 [==============================] - 0s 2ms/step - loss: 0.6908 - accuracy: 0.5034 - val_loss: 0.6925 - val_accuracy: 0.4286\n",
            "Epoch 5/100\n",
            "70/70 [==============================] - 0s 2ms/step - loss: 0.6886 - accuracy: 0.5052 - val_loss: 0.6928 - val_accuracy: 0.4286\n",
            "Epoch 6/100\n",
            "70/70 [==============================] - 0s 2ms/step - loss: 0.6868 - accuracy: 0.5043 - val_loss: 0.6871 - val_accuracy: 0.4286\n",
            "Epoch 7/100\n",
            "70/70 [==============================] - 0s 2ms/step - loss: 0.6858 - accuracy: 0.5056 - val_loss: 0.6866 - val_accuracy: 0.4286\n",
            "Epoch 8/100\n",
            "70/70 [==============================] - 0s 2ms/step - loss: 0.6843 - accuracy: 0.5110 - val_loss: 0.6831 - val_accuracy: 0.4286\n",
            "Epoch 9/100\n",
            "70/70 [==============================] - 0s 2ms/step - loss: 0.6833 - accuracy: 0.5114 - val_loss: 0.6806 - val_accuracy: 0.4286\n",
            "Epoch 10/100\n",
            "70/70 [==============================] - 0s 2ms/step - loss: 0.6824 - accuracy: 0.5101 - val_loss: 0.6780 - val_accuracy: 0.4286\n",
            "Epoch 11/100\n",
            "70/70 [==============================] - 0s 2ms/step - loss: 0.6817 - accuracy: 0.5141 - val_loss: 0.6771 - val_accuracy: 0.4286\n",
            "Epoch 12/100\n",
            "70/70 [==============================] - 0s 2ms/step - loss: 0.6811 - accuracy: 0.5123 - val_loss: 0.6766 - val_accuracy: 0.4286\n",
            "Epoch 13/100\n",
            "70/70 [==============================] - 0s 2ms/step - loss: 0.6800 - accuracy: 0.5096 - val_loss: 0.6739 - val_accuracy: 0.4286\n",
            "Epoch 14/100\n",
            "70/70 [==============================] - 0s 2ms/step - loss: 0.6791 - accuracy: 0.5137 - val_loss: 0.6712 - val_accuracy: 0.4286\n",
            "Epoch 15/100\n",
            "70/70 [==============================] - 0s 2ms/step - loss: 0.6784 - accuracy: 0.5123 - val_loss: 0.6706 - val_accuracy: 0.4286\n",
            "Epoch 16/100\n",
            "70/70 [==============================] - 0s 2ms/step - loss: 0.6785 - accuracy: 0.5141 - val_loss: 0.6673 - val_accuracy: 0.4286\n",
            "Epoch 17/100\n",
            "70/70 [==============================] - 0s 2ms/step - loss: 0.6776 - accuracy: 0.5137 - val_loss: 0.6685 - val_accuracy: 0.4286\n",
            "Epoch 18/100\n",
            "70/70 [==============================] - 0s 2ms/step - loss: 0.6770 - accuracy: 0.5146 - val_loss: 0.6687 - val_accuracy: 0.4286\n",
            "Epoch 19/100\n",
            "70/70 [==============================] - 0s 2ms/step - loss: 0.6766 - accuracy: 0.5164 - val_loss: 0.6690 - val_accuracy: 0.4286\n",
            "Epoch 20/100\n",
            "70/70 [==============================] - 0s 2ms/step - loss: 0.6761 - accuracy: 0.5132 - val_loss: 0.6662 - val_accuracy: 0.4286\n",
            "Epoch 21/100\n",
            "70/70 [==============================] - 0s 2ms/step - loss: 0.6759 - accuracy: 0.5150 - val_loss: 0.6668 - val_accuracy: 0.4286\n",
            "Epoch 22/100\n",
            "70/70 [==============================] - 0s 2ms/step - loss: 0.6754 - accuracy: 0.5182 - val_loss: 0.6660 - val_accuracy: 0.4286\n",
            "Epoch 23/100\n",
            "70/70 [==============================] - 0s 2ms/step - loss: 0.6746 - accuracy: 0.5195 - val_loss: 0.6639 - val_accuracy: 0.4286\n",
            "Epoch 24/100\n",
            "70/70 [==============================] - 0s 2ms/step - loss: 0.6744 - accuracy: 0.5146 - val_loss: 0.6644 - val_accuracy: 0.4286\n",
            "Epoch 25/100\n",
            "70/70 [==============================] - 0s 2ms/step - loss: 0.6742 - accuracy: 0.5137 - val_loss: 0.6604 - val_accuracy: 0.4286\n",
            "Epoch 26/100\n",
            "70/70 [==============================] - 0s 2ms/step - loss: 0.6737 - accuracy: 0.5177 - val_loss: 0.6608 - val_accuracy: 0.4286\n",
            "Epoch 27/100\n",
            "70/70 [==============================] - 0s 2ms/step - loss: 0.6729 - accuracy: 0.5226 - val_loss: 0.6570 - val_accuracy: 0.4286\n",
            "Epoch 28/100\n",
            "70/70 [==============================] - 0s 2ms/step - loss: 0.6727 - accuracy: 0.5226 - val_loss: 0.6603 - val_accuracy: 0.4286\n",
            "Epoch 29/100\n",
            "70/70 [==============================] - 0s 2ms/step - loss: 0.6722 - accuracy: 0.5253 - val_loss: 0.6582 - val_accuracy: 0.4286\n",
            "Epoch 30/100\n",
            "70/70 [==============================] - 0s 2ms/step - loss: 0.6722 - accuracy: 0.5208 - val_loss: 0.6566 - val_accuracy: 0.4286\n",
            "Epoch 31/100\n",
            "70/70 [==============================] - 0s 2ms/step - loss: 0.6715 - accuracy: 0.5258 - val_loss: 0.6530 - val_accuracy: 0.4286\n",
            "Epoch 32/100\n",
            "70/70 [==============================] - 0s 2ms/step - loss: 0.6715 - accuracy: 0.5244 - val_loss: 0.6563 - val_accuracy: 0.4286\n",
            "Epoch 33/100\n",
            "70/70 [==============================] - 0s 2ms/step - loss: 0.6705 - accuracy: 0.5226 - val_loss: 0.6546 - val_accuracy: 0.4286\n",
            "Epoch 34/100\n",
            "70/70 [==============================] - 0s 2ms/step - loss: 0.6700 - accuracy: 0.5262 - val_loss: 0.6544 - val_accuracy: 0.4286\n",
            "Epoch 35/100\n",
            "70/70 [==============================] - 0s 2ms/step - loss: 0.6697 - accuracy: 0.5271 - val_loss: 0.6506 - val_accuracy: 0.4286\n",
            "Epoch 36/100\n",
            "70/70 [==============================] - 0s 2ms/step - loss: 0.6699 - accuracy: 0.5267 - val_loss: 0.6489 - val_accuracy: 0.4286\n",
            "Epoch 37/100\n",
            "70/70 [==============================] - 0s 2ms/step - loss: 0.6696 - accuracy: 0.5307 - val_loss: 0.6503 - val_accuracy: 0.4286\n",
            "Epoch 38/100\n",
            "70/70 [==============================] - 0s 2ms/step - loss: 0.6686 - accuracy: 0.5253 - val_loss: 0.6487 - val_accuracy: 0.4286\n",
            "Epoch 39/100\n",
            "70/70 [==============================] - 0s 2ms/step - loss: 0.6689 - accuracy: 0.5388 - val_loss: 0.6492 - val_accuracy: 0.4286\n",
            "Epoch 40/100\n",
            "70/70 [==============================] - 0s 2ms/step - loss: 0.6685 - accuracy: 0.5258 - val_loss: 0.6454 - val_accuracy: 0.4286\n",
            "Epoch 41/100\n",
            "70/70 [==============================] - 0s 2ms/step - loss: 0.6678 - accuracy: 0.5397 - val_loss: 0.6473 - val_accuracy: 0.4286\n",
            "Epoch 42/100\n",
            "70/70 [==============================] - 0s 2ms/step - loss: 0.6675 - accuracy: 0.5307 - val_loss: 0.6461 - val_accuracy: 0.4286\n",
            "Epoch 43/100\n",
            "70/70 [==============================] - 0s 2ms/step - loss: 0.6682 - accuracy: 0.5316 - val_loss: 0.6485 - val_accuracy: 0.4286\n",
            "Epoch 44/100\n",
            "70/70 [==============================] - 0s 2ms/step - loss: 0.6669 - accuracy: 0.5347 - val_loss: 0.6474 - val_accuracy: 0.4286\n",
            "Epoch 45/100\n",
            "70/70 [==============================] - 0s 2ms/step - loss: 0.6670 - accuracy: 0.5289 - val_loss: 0.6491 - val_accuracy: 0.4286\n",
            "Epoch 46/100\n",
            "70/70 [==============================] - 0s 2ms/step - loss: 0.6665 - accuracy: 0.5352 - val_loss: 0.6472 - val_accuracy: 0.4286\n",
            "Epoch 47/100\n",
            "70/70 [==============================] - 0s 2ms/step - loss: 0.6659 - accuracy: 0.5347 - val_loss: 0.6468 - val_accuracy: 0.4286\n",
            "Epoch 48/100\n",
            "70/70 [==============================] - 0s 2ms/step - loss: 0.6658 - accuracy: 0.5397 - val_loss: 0.6480 - val_accuracy: 0.4286\n",
            "Epoch 49/100\n",
            "70/70 [==============================] - 0s 2ms/step - loss: 0.6657 - accuracy: 0.5370 - val_loss: 0.6480 - val_accuracy: 0.4286\n",
            "Epoch 50/100\n",
            "70/70 [==============================] - 0s 2ms/step - loss: 0.6653 - accuracy: 0.5365 - val_loss: 0.6452 - val_accuracy: 0.4286\n",
            "Epoch 51/100\n",
            "70/70 [==============================] - 0s 2ms/step - loss: 0.6651 - accuracy: 0.5388 - val_loss: 0.6469 - val_accuracy: 0.4286\n",
            "Epoch 52/100\n",
            "70/70 [==============================] - 0s 2ms/step - loss: 0.6647 - accuracy: 0.5459 - val_loss: 0.6423 - val_accuracy: 0.4762\n",
            "Epoch 53/100\n",
            "70/70 [==============================] - 0s 2ms/step - loss: 0.6648 - accuracy: 0.5450 - val_loss: 0.6452 - val_accuracy: 0.4286\n",
            "Epoch 54/100\n",
            "70/70 [==============================] - 0s 2ms/step - loss: 0.6639 - accuracy: 0.5388 - val_loss: 0.6428 - val_accuracy: 0.4762\n",
            "Epoch 55/100\n",
            "70/70 [==============================] - 0s 2ms/step - loss: 0.6638 - accuracy: 0.5442 - val_loss: 0.6432 - val_accuracy: 0.4286\n",
            "Epoch 56/100\n",
            "70/70 [==============================] - 0s 2ms/step - loss: 0.6627 - accuracy: 0.5468 - val_loss: 0.6442 - val_accuracy: 0.4286\n",
            "Epoch 57/100\n",
            "70/70 [==============================] - 0s 2ms/step - loss: 0.6633 - accuracy: 0.5374 - val_loss: 0.6412 - val_accuracy: 0.4762\n",
            "Epoch 58/100\n",
            "70/70 [==============================] - 0s 2ms/step - loss: 0.6625 - accuracy: 0.5437 - val_loss: 0.6417 - val_accuracy: 0.4762\n",
            "Epoch 59/100\n",
            "70/70 [==============================] - 0s 2ms/step - loss: 0.6622 - accuracy: 0.5482 - val_loss: 0.6427 - val_accuracy: 0.4762\n",
            "Epoch 60/100\n",
            "70/70 [==============================] - 0s 2ms/step - loss: 0.6621 - accuracy: 0.5428 - val_loss: 0.6430 - val_accuracy: 0.4286\n",
            "Epoch 61/100\n",
            "70/70 [==============================] - 0s 2ms/step - loss: 0.6618 - accuracy: 0.5491 - val_loss: 0.6422 - val_accuracy: 0.4286\n",
            "Epoch 62/100\n",
            "70/70 [==============================] - 0s 2ms/step - loss: 0.6621 - accuracy: 0.5455 - val_loss: 0.6391 - val_accuracy: 0.4762\n",
            "Epoch 63/100\n",
            "70/70 [==============================] - 0s 2ms/step - loss: 0.6620 - accuracy: 0.5419 - val_loss: 0.6359 - val_accuracy: 0.4762\n",
            "Epoch 64/100\n",
            "70/70 [==============================] - 0s 2ms/step - loss: 0.6613 - accuracy: 0.5415 - val_loss: 0.6410 - val_accuracy: 0.4762\n",
            "Epoch 65/100\n",
            "70/70 [==============================] - 0s 2ms/step - loss: 0.6603 - accuracy: 0.5540 - val_loss: 0.6395 - val_accuracy: 0.4762\n",
            "Epoch 66/100\n",
            "70/70 [==============================] - 0s 2ms/step - loss: 0.6601 - accuracy: 0.5473 - val_loss: 0.6389 - val_accuracy: 0.4762\n",
            "Epoch 67/100\n",
            "70/70 [==============================] - 0s 2ms/step - loss: 0.6603 - accuracy: 0.5531 - val_loss: 0.6366 - val_accuracy: 0.4762\n",
            "Epoch 68/100\n",
            "70/70 [==============================] - 0s 2ms/step - loss: 0.6599 - accuracy: 0.5531 - val_loss: 0.6400 - val_accuracy: 0.4762\n",
            "Epoch 69/100\n",
            "70/70 [==============================] - 0s 2ms/step - loss: 0.6593 - accuracy: 0.5513 - val_loss: 0.6402 - val_accuracy: 0.4762\n",
            "Epoch 70/100\n",
            "70/70 [==============================] - 0s 2ms/step - loss: 0.6591 - accuracy: 0.5459 - val_loss: 0.6339 - val_accuracy: 0.4762\n",
            "Epoch 71/100\n",
            "70/70 [==============================] - 0s 2ms/step - loss: 0.6596 - accuracy: 0.5509 - val_loss: 0.6354 - val_accuracy: 0.4762\n",
            "Epoch 72/100\n",
            "70/70 [==============================] - 0s 2ms/step - loss: 0.6589 - accuracy: 0.5554 - val_loss: 0.6400 - val_accuracy: 0.4762\n",
            "Epoch 73/100\n",
            "70/70 [==============================] - 0s 2ms/step - loss: 0.6584 - accuracy: 0.5554 - val_loss: 0.6416 - val_accuracy: 0.4762\n",
            "Epoch 74/100\n",
            "70/70 [==============================] - 0s 2ms/step - loss: 0.6588 - accuracy: 0.5442 - val_loss: 0.6371 - val_accuracy: 0.4762\n",
            "Epoch 75/100\n",
            "70/70 [==============================] - 0s 2ms/step - loss: 0.6577 - accuracy: 0.5527 - val_loss: 0.6398 - val_accuracy: 0.4762\n",
            "Epoch 76/100\n",
            "70/70 [==============================] - 0s 2ms/step - loss: 0.6576 - accuracy: 0.5504 - val_loss: 0.6390 - val_accuracy: 0.4762\n",
            "Epoch 77/100\n",
            "70/70 [==============================] - 0s 2ms/step - loss: 0.6578 - accuracy: 0.5567 - val_loss: 0.6367 - val_accuracy: 0.4762\n",
            "Epoch 78/100\n",
            "70/70 [==============================] - 0s 2ms/step - loss: 0.6575 - accuracy: 0.5518 - val_loss: 0.6385 - val_accuracy: 0.4762\n",
            "Epoch 79/100\n",
            "70/70 [==============================] - 0s 2ms/step - loss: 0.6573 - accuracy: 0.5509 - val_loss: 0.6378 - val_accuracy: 0.4762\n",
            "Epoch 80/100\n",
            "70/70 [==============================] - 0s 2ms/step - loss: 0.6570 - accuracy: 0.5527 - val_loss: 0.6374 - val_accuracy: 0.4762\n",
            "Epoch 81/100\n",
            "70/70 [==============================] - 0s 2ms/step - loss: 0.6567 - accuracy: 0.5598 - val_loss: 0.6343 - val_accuracy: 0.4762\n",
            "Epoch 82/100\n",
            "70/70 [==============================] - 0s 2ms/step - loss: 0.6564 - accuracy: 0.5540 - val_loss: 0.6350 - val_accuracy: 0.5238\n",
            "Epoch 83/100\n",
            "70/70 [==============================] - 0s 2ms/step - loss: 0.6559 - accuracy: 0.5558 - val_loss: 0.6387 - val_accuracy: 0.4762\n",
            "Epoch 84/100\n",
            "70/70 [==============================] - 0s 2ms/step - loss: 0.6559 - accuracy: 0.5554 - val_loss: 0.6377 - val_accuracy: 0.4762\n",
            "Epoch 85/100\n",
            "70/70 [==============================] - 0s 2ms/step - loss: 0.6561 - accuracy: 0.5563 - val_loss: 0.6365 - val_accuracy: 0.4762\n",
            "Epoch 86/100\n",
            "70/70 [==============================] - 0s 2ms/step - loss: 0.6556 - accuracy: 0.5594 - val_loss: 0.6386 - val_accuracy: 0.4762\n",
            "Epoch 87/100\n",
            "70/70 [==============================] - 0s 2ms/step - loss: 0.6551 - accuracy: 0.5486 - val_loss: 0.6352 - val_accuracy: 0.5238\n",
            "Epoch 88/100\n",
            "70/70 [==============================] - 0s 2ms/step - loss: 0.6545 - accuracy: 0.5598 - val_loss: 0.6352 - val_accuracy: 0.4762\n",
            "Epoch 89/100\n",
            "70/70 [==============================] - 0s 2ms/step - loss: 0.6545 - accuracy: 0.5563 - val_loss: 0.6396 - val_accuracy: 0.4762\n",
            "Epoch 90/100\n",
            "70/70 [==============================] - 0s 2ms/step - loss: 0.6549 - accuracy: 0.5580 - val_loss: 0.6395 - val_accuracy: 0.4762\n",
            "Epoch 91/100\n",
            "70/70 [==============================] - 0s 2ms/step - loss: 0.6539 - accuracy: 0.5589 - val_loss: 0.6374 - val_accuracy: 0.4762\n",
            "Epoch 92/100\n",
            "70/70 [==============================] - 0s 2ms/step - loss: 0.6542 - accuracy: 0.5589 - val_loss: 0.6322 - val_accuracy: 0.5238\n",
            "Epoch 93/100\n",
            "70/70 [==============================] - 0s 2ms/step - loss: 0.6545 - accuracy: 0.5563 - val_loss: 0.6389 - val_accuracy: 0.4762\n",
            "Epoch 94/100\n",
            "70/70 [==============================] - 0s 2ms/step - loss: 0.6535 - accuracy: 0.5576 - val_loss: 0.6348 - val_accuracy: 0.4762\n",
            "Epoch 95/100\n",
            "70/70 [==============================] - 0s 2ms/step - loss: 0.6533 - accuracy: 0.5648 - val_loss: 0.6391 - val_accuracy: 0.4762\n",
            "Epoch 96/100\n",
            "70/70 [==============================] - 0s 2ms/step - loss: 0.6540 - accuracy: 0.5513 - val_loss: 0.6359 - val_accuracy: 0.4762\n",
            "Epoch 97/100\n",
            "70/70 [==============================] - 0s 2ms/step - loss: 0.6528 - accuracy: 0.5603 - val_loss: 0.6417 - val_accuracy: 0.4762\n",
            "Epoch 98/100\n",
            "70/70 [==============================] - 0s 2ms/step - loss: 0.6527 - accuracy: 0.5607 - val_loss: 0.6378 - val_accuracy: 0.4762\n",
            "Epoch 99/100\n",
            "70/70 [==============================] - 0s 2ms/step - loss: 0.6526 - accuracy: 0.5607 - val_loss: 0.6403 - val_accuracy: 0.4762\n",
            "Epoch 100/100\n",
            "70/70 [==============================] - 0s 2ms/step - loss: 0.6524 - accuracy: 0.5580 - val_loss: 0.6414 - val_accuracy: 0.4762\n"
          ]
        }
      ]
    },
    {
      "cell_type": "code",
      "source": [
        "# Plot train and validation loss\n",
        "\n",
        "plt.plot(r.history['loss'], label = 'Train loss')\n",
        "plt.plot(r.history['val_loss'], label = 'Test loss')\n",
        "plt.legend();"
      ],
      "metadata": {
        "colab": {
          "base_uri": "https://localhost:8080/",
          "height": 268
        },
        "id": "lIv8OgKtXigR",
        "outputId": "2bb921ce-2955-42e3-d6cf-b3ac457ddd54"
      },
      "execution_count": null,
      "outputs": [
        {
          "output_type": "display_data",
          "data": {
            "image/png": "[encoded data removed]",
            "text/plain": [
              "<Figure size 432x288 with 1 Axes>"
            ]
          },
          "metadata": {
            "needs_background": "light"
          }
        }
      ]
    },
    {
      "cell_type": "code",
      "source": [
        "# Plot train and validation accuracy\n",
        "\n",
        "plt.plot(r.history['accuracy'], label = 'Train accuracy')\n",
        "plt.plot(r.history['val_accuracy'], label = 'Test accuracy')\n",
        "plt.legend();"
      ],
      "metadata": {
        "colab": {
          "base_uri": "https://localhost:8080/",
          "height": 265
        },
        "id": "WluckfLrXp1e",
        "outputId": "48e7efb5-173b-4233-cbf1-67756b867c53"
      },
      "execution_count": null,
      "outputs": [
        {
          "output_type": "display_data",
          "data": {
            "image/png": "[encoded data removed]",
            "text/plain": [
              "<Figure size 432x288 with 1 Axes>"
            ]
          },
          "metadata": {
            "needs_background": "light"
          }
        }
      ]
    },
    {
      "cell_type": "code",
      "source": [
        ""
      ],
      "metadata": {
        "id": "4xoiBzuSXuQa"
      },
      "execution_count": null,
      "outputs": []
    }
  ]
}